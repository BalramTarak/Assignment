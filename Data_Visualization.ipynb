{
  "nbformat": 4,
  "nbformat_minor": 0,
  "metadata": {
    "colab": {
      "provenance": []
    },
    "kernelspec": {
      "name": "python3",
      "display_name": "Python 3"
    },
    "language_info": {
      "name": "python"
    }
  },
  "cells": [
    {
      "cell_type": "markdown",
      "source": [
        "### MATPLOTLIB QUESTIONS:-\n",
        "\n",
        "\n"
      ],
      "metadata": {
        "id": "AwGn6Wjr320W"
      }
    },
    {
      "cell_type": "markdown",
      "source": [
        "#Question 1. Create a scatter plot using Matplotlib to visualize the relationship between two arrays, x and y for the given data\n",
        "\n",
        "x = [1, 2, 3, 4, 5, 6, 7, 8, 9, 10]\n",
        "y = [2, 4, 5, 7, 6, 8, 9, 10, 12, 13]\n",
        "\n",
        "\n",
        "#Answer :- To create a scatter plot using Matplotlib to visualize the relationship between the arrays x and y, you can follow these steps:\n",
        "\n",
        "Import the necessary libraries (matplotlib.pyplot and numpy).\n",
        "Define the x and y data arrays.\n",
        "Use plt.scatter() to plot the data.\n",
        "Add labels and a title for better understanding.\n",
        "Here's a simple code snippet for creating the scatter plot:"
      ],
      "metadata": {
        "id": "47vEcyfK2JlF"
      }
    },
    {
      "cell_type": "code",
      "source": [
        "import matplotlib.pyplot as plt\n",
        "\n",
        "# Data\n",
        "x = [1, 2, 3, 4, 5, 6, 7, 8, 9, 10]\n",
        "y = [2, 4, 5, 7, 6, 8, 9, 10, 12, 13]\n",
        "\n",
        "# Create the scatter plot\n",
        "plt.scatter(x, y)\n",
        "\n",
        "# Add labels and title\n",
        "plt.xlabel('X values')\n",
        "plt.ylabel('Y values')\n",
        "plt.title('Scatter Plot of X vs Y')\n",
        "\n",
        "# Show the plot\n",
        "plt.show()\n"
      ],
      "metadata": {
        "id": "LNm0fL_D2bIk"
      },
      "execution_count": null,
      "outputs": []
    },
    {
      "cell_type": "markdown",
      "source": [
        "Explanation:\n",
        "\n",
        "1.import matplotlib.pyplot as plt imports the Matplotlib library for plotting.\n",
        "\n",
        "2.x and y are the arrays containing the data points.\n",
        "\n",
        "3.plt.scatter(x, y) generates the scatter plot where x represents the horizontal axis and y the vertical axis.\n",
        "\n",
        "4.plt.xlabel(), plt.ylabel(), and plt.title() add appropriate labels and title to the plot.\n",
        "\n",
        "5.plt.show() displays the scatter plot.\n",
        "\n",
        "When you run this code, it will generate and display a scatter plot showing the relationship between the values in the x and y arrays."
      ],
      "metadata": {
        "id": "io78DuLk4_gN"
      }
    },
    {
      "cell_type": "markdown",
      "source": [
        "#Question 2. Generate a line plot to visualize the trend of values for the given data.\n",
        "\n",
        "#Answer  To generate a line plot to visualize the trend of values in the given `data` array, you can use `matplotlib.pyplot` in Python. Here's the code for creating the line plot:\n",
        "\n",
        "\n",
        "\n",
        "# Explanation:\n",
        "1. **Data**: The `data` array contains the values you want to visualize. The `x` values represent the indices of these values, so I used `np.arange(1, len(data) + 1)` to generate the corresponding x-axis values.\n",
        "2. **Line Plot**: `plt.plot(x, data)` creates the line plot. The `marker='o'` argument adds a circular marker for each data point, `linestyle='-'` draws the line connecting the points, and `color='b'` makes the line blue.\n",
        "3. **Labels and Title**: `plt.xlabel()`, `plt.ylabel()`, and `plt.title()` are used to add axis labels and a title to the plot.\n",
        "4. **Legend**: `plt.legend()` shows a legend for the plot, in case you want to label the line.\n",
        "5. **Show Plot**: `plt.show()` displays the plot.\n",
        "\n",
        "\n",
        "\n"
      ],
      "metadata": {
        "id": "-uqATAJl5gdZ"
      }
    },
    {
      "cell_type": "code",
      "source": [
        "import matplotlib.pyplot as plt\n",
        "import numpy as np\n",
        "\n",
        "# Given data\n",
        "data = np.array([3, 7, 9, 15, 22, 29, 35])\n",
        "\n",
        "# Generate x values corresponding to the data points (if not already provided)\n",
        "x = np.arange(1, len(data) + 1)\n",
        "\n",
        "# Create the line plot\n",
        "plt.plot(x, data, marker='o', linestyle='-', color='b', label='Trend')\n",
        "\n",
        "# Add labels and title\n",
        "plt.xlabel('Index')\n",
        "plt.ylabel('Value')\n",
        "plt.title('Line Plot of Data Trend')\n",
        "\n",
        "# Show the legend\n",
        "plt.legend()\n",
        "\n",
        "# Display the plot\n",
        "plt.show()\n"
      ],
      "metadata": {
        "id": "MXOCwsLo7yJ-"
      },
      "execution_count": null,
      "outputs": []
    },
    {
      "cell_type": "markdown",
      "source": [
        "When you run this code, it will generate a line plot that shows the trend of values in the `data` array."
      ],
      "metadata": {
        "id": "xdIFTyGe75sD"
      }
    },
    {
      "cell_type": "markdown",
      "source": [
        "#Question 3.Display a bar chart to represent the frequency of each item in the given array categories.\n",
        "categories = ['A', 'B', 'C', 'D', 'E']\n",
        "values = [25, 40, 30, 35, 20]\n",
        "\n",
        " #Answer To display a bar chart representing the frequency of each item in the given `categories` array, you can use `matplotlib.pyplot` in Python. Here's the code to generate the bar chart:\n",
        "\n",
        "\n",
        "\n",
        "# Explanation:\n",
        "1. **Data**:\n",
        "   - `categories` represents the categorical items (A, B, C, D, E).\n",
        "   - `values` represents the corresponding frequency or value for each category.\n",
        "\n",
        "2. **Bar Chart**: `plt.bar(categories, values, color='skyblue')` creates the bar chart, where `categories` are displayed on the x-axis and `values` on the y-axis. The `color='skyblue'` argument sets the color of the bars to sky blue.\n",
        "\n",
        "3. **Labels and Title**:\n",
        "   - `plt.xlabel('Categories')` adds the label for the x-axis.\n",
        "   - `plt.ylabel('Values')` adds the label for the y-axis.\n",
        "   - `plt.title('Bar Chart of Category Frequencies')` sets the plot title.\n",
        "\n",
        "4. **Display Plot**: `plt.show()` displays the chart.\n",
        "\n"
      ],
      "metadata": {
        "id": "2bZCLXjT8Cry"
      }
    },
    {
      "cell_type": "code",
      "source": [
        "import matplotlib.pyplot as plt\n",
        "\n",
        "# Given categories and their corresponding values\n",
        "categories = ['A', 'B', 'C', 'D', 'E']\n",
        "values = [25, 40, 30, 35, 20]\n",
        "\n",
        "# Create the bar chart\n",
        "plt.bar(categories, values, color='skyblue')\n",
        "\n",
        "# Add labels and title\n",
        "plt.xlabel('Categories')\n",
        "plt.ylabel('Values')\n",
        "plt.title('Bar Chart of Category Frequencies')\n",
        "\n",
        "# Display the plot\n",
        "plt.show()\n"
      ],
      "metadata": {
        "id": "drTI4TzO9oQY"
      },
      "execution_count": null,
      "outputs": []
    },
    {
      "cell_type": "markdown",
      "source": [
        "When you run this code, it will generate a bar chart where each bar represents the frequency of a category (A, B, C, D, E)."
      ],
      "metadata": {
        "id": "9bWvnsLj-A6O"
      }
    },
    {
      "cell_type": "markdown",
      "source": [
        "#Question 4. Create a histogram to visualize the distribution of values in the array data.\n",
        "data = np.random.normal(0, 1, 1000)\n",
        "\n",
        " #Answer To create a histogram that visualizes the distribution of values in the given array `data` (which follows a normal distribution with mean 0 and standard deviation 1), you can use `matplotlib.pyplot` along with `numpy`. Here's the code to generate the histogram:\n",
        "\n",
        "  \n",
        "\n",
        "#Explanation:\n",
        "\n",
        "1. **Data Generation**:\n",
        "   - `data = np.random.normal(0, 1, 1000)` generates 1000 random data points from a normal distribution with a mean (`loc`) of 0 and a standard deviation (`scale`) of 1.\n",
        "   \n",
        "2. **Histogram**:\n",
        "   - `plt.hist(data, bins=30, color='skyblue', edgecolor='black')` creates a histogram. The `bins=30` argument specifies the number of bins (bars) in the histogram. You can adjust this depending on the level of granularity you want. The `color='skyblue'` makes the bars light blue, and `edgecolor='black'` outlines the bars with a black border.\n",
        "   \n",
        "3. **Labels and Title**:\n",
        "   - `plt.xlabel('Value')` adds a label to the x-axis.\n",
        "   - `plt.ylabel('Frequency')` adds a label to the y-axis.\n",
        "   - `plt.title('Histogram of Normally Distributed Data')` sets the title of the plot.\n",
        "\n",
        "4. **Display the Plot**: `plt.show()` displays the histogram.\n"
      ],
      "metadata": {
        "id": "GmGGUUcE-Wd_"
      }
    },
    {
      "cell_type": "code",
      "source": [
        "import matplotlib.pyplot as plt\n",
        "import numpy as np\n",
        "\n",
        "# Generate random data following a normal distribution\n",
        "data = np.random.normal(0, 1, 1000)\n",
        "\n",
        "# Create the histogram\n",
        "plt.hist(data, bins=30, color='skyblue', edgecolor='black')\n",
        "\n",
        "# Add labels and title\n",
        "plt.xlabel('Value')\n",
        "plt.ylabel('Frequency')\n",
        "plt.title('Histogram of Normally Distributed Data')\n",
        "\n",
        "# Display the plot\n",
        "plt.show()\n"
      ],
      "metadata": {
        "id": "vZxAQGCt_VXf"
      },
      "execution_count": null,
      "outputs": []
    },
    {
      "cell_type": "markdown",
      "source": [
        "\n",
        "When you run this code, it will generate a histogram that visualizes the distribution of the 1000 random values drawn from a normal distribution."
      ],
      "metadata": {
        "id": "8VFv_d-Y_TPx"
      }
    },
    {
      "cell_type": "markdown",
      "source": [
        "#Question 5. Show a pie chart to represent the percentage distribution of different sections in the array `sections`.\n",
        "sections = ['Section A', 'Section B', 'Section C', 'Section D']\n",
        "sizes = [25, 30, 15, 30]\n",
        "\n",
        "#Answer\n",
        "To create a pie chart representing the percentage distribution of different sections in the given `sections` array, you can use `matplotlib.pyplot` in Python. Here's the code to generate the pie chart:\n",
        "\n",
        "\n",
        "```\n",
        "\n",
        "# Explanation:\n",
        "\n",
        "1. **Data**:\n",
        "   - `sections` is the list of section names (`['Section A', 'Section B', 'Section C', 'Section D']`).\n",
        "   - `sizes` is the corresponding list of values representing the size or proportion of each section (`[25, 30, 15, 30]`).\n",
        "\n",
        "2. **Pie Chart**:\n",
        "   - `plt.pie(sizes, labels=sections, autopct='%1.1f%%', startangle=90, colors=['skyblue', 'lightgreen', 'lightcoral', 'gold'])` creates the pie chart.\n",
        "     - `labels=sections` assigns the labels to each slice.\n",
        "     - `autopct='%1.1f%%'` formats the percentage display on each slice, showing 1 decimal place.\n",
        "     - `startangle=90` rotates the chart so that the first slice starts from the top.\n",
        "     - `colors=['skyblue', 'lightgreen', 'lightcoral', 'gold']` specifies custom colors for each slice.\n",
        "     \n",
        "3. **Title**: `plt.title('Pie Chart of Section Distribution')` adds a title to the pie chart.\n",
        "\n",
        "4. **Display Plot**: `plt.show()` displays the pie chart.\n"
      ],
      "metadata": {
        "id": "nG7ZzeljAJ__"
      }
    },
    {
      "cell_type": "code",
      "source": [
        "import matplotlib.pyplot as plt\n",
        "\n",
        "# Given sections and their corresponding sizes\n",
        "sections = ['Section A', 'Section B', 'Section C', 'Section D']\n",
        "sizes = [25, 30, 15, 30]\n",
        "\n",
        "# Create the pie chart\n",
        "plt.pie(sizes, labels=sections, autopct='%1.1f%%', startangle=90, colors=['skyblue', 'lightgreen', 'lightcoral', 'gold'])\n",
        "\n",
        "# Add a title\n",
        "plt.title('Pie Chart of Section Distribution')\n",
        "\n",
        "# Display the plot\n",
        "plt.show()\n"
      ],
      "metadata": {
        "id": "XhvECpOaDZH8"
      },
      "execution_count": null,
      "outputs": []
    },
    {
      "cell_type": "markdown",
      "source": [
        "\n",
        "When you run this code, it will generate a pie chart that shows the percentage distribution of each section (A, B, C, D) based on their corresponding sizes."
      ],
      "metadata": {
        "id": "7gWo5empDYQO"
      }
    },
    {
      "cell_type": "markdown",
      "source": [
        "\n",
        "#SEABORN QUESTIONS:-"
      ],
      "metadata": {
        "id": "HzhQquR9DfDr"
      }
    },
    {
      "cell_type": "markdown",
      "source": [
        "\n",
        "#Question 1. Create a scatter plot to visualize the relationship between two variables, by generating a synthetic dataset.\n",
        "\n",
        " #Answer To create a scatter plot to visualize the relationship between two variables using a synthetic dataset, you can use the `seaborn` library in Python. Seaborn is built on top of Matplotlib and provides a high-level interface for drawing attractive statistical graphics.\n",
        "\n",
        "Here’s the code to generate a synthetic dataset and create a scatter plot using Seaborn:\n",
        "\n",
        "\n",
        "\n",
        "### Explanation:\n",
        "\n",
        "1. **Data Generation**:\n",
        "   - `x = np.random.rand(100) * 10`: Generates 100 random numbers between 0 and 10 for the `x` variable.\n",
        "   - `y = 2 * x + np.random.randn(100) * 2`: Creates a `y` variable with a linear relationship to `x` (`y = 2 * x`) and adds some random noise using `np.random.randn(100) * 2` to simulate a real-world scatter of points.\n",
        "\n",
        "2. **DataFrame Creation**:\n",
        "   - `data = pd.DataFrame({'X': x, 'Y': y})`: Converts the `x` and `y` arrays into a pandas DataFrame. This format makes it easier for Seaborn to plot the data.\n",
        "\n",
        "3. **Scatter Plot**:\n",
        "   - `sns.scatterplot(data=data, x='X', y='Y')`: Uses Seaborn to create a scatter plot with `x` and `y` columns from the DataFrame.\n",
        "   \n",
        "4. **Labels and Title**:\n",
        "   - `plt.xlabel()`, `plt.ylabel()`, and `plt.title()` add labels and a title to the plot.\n",
        "\n",
        "5. **Display the Plot**:\n",
        "   - `plt.show()` renders and displays the plot.\n"
      ],
      "metadata": {
        "id": "Pb3Epx_ZE_K2"
      }
    },
    {
      "cell_type": "code",
      "source": [
        "import seaborn as sns\n",
        "import matplotlib.pyplot as plt\n",
        "import numpy as np\n",
        "import pandas as pd\n",
        "\n",
        "# Generate synthetic data\n",
        "np.random.seed(0)  # For reproducibility\n",
        "x = np.random.rand(100) * 10  # 100 random values scaled to the range [0, 10]\n",
        "y = 2 * x + np.random.randn(100) * 2  # Linear relationship with some noise\n",
        "\n",
        "# Create a DataFrame\n",
        "data = pd.DataFrame({'X': x, 'Y': y})\n",
        "\n",
        "# Create the scatter plot using Seaborn\n",
        "sns.scatterplot(data=data, x='X', y='Y')\n",
        "\n",
        "# Add labels and title\n",
        "plt.xlabel('X Variable')\n",
        "plt.ylabel('Y Variable')\n",
        "plt.title('Scatter Plot of Synthetic Data')\n",
        "\n",
        "# Show the plot\n",
        "plt.show()\n"
      ],
      "metadata": {
        "id": "eQW1FHh8FVvf"
      },
      "execution_count": null,
      "outputs": []
    },
    {
      "cell_type": "markdown",
      "source": [
        "\n",
        "# Result:\n",
        "When you run this code, you will get a scatter plot visualizing the relationship between `X` and `Y`. The points will follow a linear trend with some noise added to simulate real-world variability."
      ],
      "metadata": {
        "id": "lw8V5Jb4FZRj"
      }
    },
    {
      "cell_type": "markdown",
      "source": [
        "#Question 2. Generate a dataset of random numbers. Visualize the distribution of a numerical variable.\n",
        "\n",
        "# Answer\n",
        "To generate a dataset of random numbers and visualize the distribution of a numerical variable using Seaborn, we can use the `seaborn.histplot` or `seaborn.kdeplot` functions for visualization. These functions help visualize the frequency distribution or the density distribution of numerical data.\n",
        "\n",
        "### Steps:\n",
        "1. **Generate a Dataset**: We will generate random numbers using `numpy`. For this example, let's create a dataset of random numbers drawn from a normal distribution.\n",
        "2. **Visualize the Distribution**: We will use Seaborn to visualize the distribution using a histogram with a kernel density estimate (KDE) overlay.\n",
        "\n",
        "\n",
        "### Explanation:\n",
        "\n",
        "1. **Data Generation**:\n",
        "   - `data = np.random.randn(1000)`: Generates 1000 random numbers drawn from a standard normal distribution (mean=0, standard deviation=1).\n",
        "\n",
        "2. **Visualization**:\n",
        "   - `sns.histplot(data, kde=True, color='skyblue', bins=30)`: This creates a histogram of the `data` with 30 bins, overlaid with a Kernel Density Estimate (KDE). The `kde=True` argument adds the smooth KDE curve to the histogram, which helps in visualizing the overall distribution shape.\n",
        "   - `color='skyblue'` specifies the color of the bars.\n",
        "   - `bins=30` sets the number of bins for the histogram.\n",
        "\n",
        "3. **Labels and Title**:\n",
        "   - `plt.xlabel()`, `plt.ylabel()`, and `plt.title()` add labels and a title to the plot.\n",
        "\n",
        "4. **Display the Plot**:\n",
        "   - `plt.show()` displays the plot.\n",
        "\n"
      ],
      "metadata": {
        "id": "oSlO-9YtFef0"
      }
    },
    {
      "cell_type": "code",
      "source": [
        "import seaborn as sns\n",
        "import matplotlib.pyplot as plt\n",
        "import numpy as np\n",
        "\n",
        "# Generate a dataset of random numbers from a normal distribution\n",
        "np.random.seed(42)  # For reproducibility\n",
        "data = np.random.randn(1000)  # 1000 random numbers from a standard normal distribution\n",
        "\n",
        "# Visualize the distribution using a histogram and KDE\n",
        "sns.histplot(data, kde=True, color='skyblue', bins=30)\n",
        "\n",
        "# Add labels and title\n",
        "plt.xlabel('Value')\n",
        "plt.ylabel('Frequency')\n",
        "plt.title('Distribution of Random Numbers (Normal Distribution)')\n",
        "\n",
        "# Show the plot\n",
        "plt.show()\n"
      ],
      "metadata": {
        "id": "PnkN8P0oFz5Y"
      },
      "execution_count": null,
      "outputs": []
    },
    {
      "cell_type": "markdown",
      "source": [
        "\n",
        "#Result:\n",
        "Running this code will generate a plot that shows the distribution of the random numbers in the dataset. You will see a histogram representing the frequency of the values and a smooth curve that approximates the probability density function (PDF) of the normal distribution.\n"
      ],
      "metadata": {
        "id": "5dQj2Pz-F5SF"
      }
    },
    {
      "cell_type": "markdown",
      "source": [
        "\n",
        "#Question 3. Create a dataset representing categories and their corresponding values. Compare different categories\n",
        "based on numerical values.\n",
        "#Answer\n",
        "To create a dataset that represents categories and their corresponding numerical values, and then compare these categories based on the numerical values, we can use Seaborn to visualize the data using plots like **bar plots**, **box plots**, or **violin plots**.\n",
        "\n",
        "Here’s a step-by-step guide to do that in Python using Seaborn:\n",
        "\n",
        "\n",
        "# Explanation:\n",
        "\n",
        "1. **Dataset Creation**:\n",
        "   - We create a simple dictionary `data` with `Category` as the categorical variable and `Value` as the numerical variable. The `Category` column has four different categories (A, B, C, D), repeated multiple times to create a sample dataset.\n",
        "   - We convert this dictionary into a pandas DataFrame, which makes it easier to work with in Seaborn.\n",
        "\n",
        "2. **Bar Plot**:\n",
        "   - `sns.barplot(x='Category', y='Value', data=df, palette='Set2')` creates a bar plot. This function will automatically calculate the mean of the `Value` for each category and plot it as bars.\n",
        "   - `palette='Set2'` specifies a color palette to make the bars more visually distinct.\n",
        "\n",
        "3. **Labels and Title**:\n",
        "   - `plt.xlabel('Category')` and `plt.ylabel('Average Value')` are used to add axis labels.\n",
        "   - `plt.title('Comparison of Categories Based on Average Value')` adds a title to the plot.\n",
        "\n",
        "4. **Display Plot**:\n",
        "   - `plt.show()` renders and displays the plot.\n",
        "\n",
        "### Alternative Visualization: Boxplot for Distribution Comparison\n",
        "\n",
        "If you want to compare not just the average values but also the distribution of values within each category (e.g., showing the spread, median, and potential outliers), you can use a **boxplot**:\n",
        "\n",
        "\n",
        "\n",
        ""
      ],
      "metadata": {
        "id": "91dAuQNxHQ9o"
      }
    },
    {
      "cell_type": "code",
      "source": [
        "import seaborn as sns\n",
        "import matplotlib.pyplot as plt\n",
        "import pandas as pd\n",
        "\n",
        "# Step 1: Create a dataset representing categories and their corresponding values\n",
        "data = {\n",
        "    'Category': ['A', 'B', 'C', 'D', 'A', 'B', 'C', 'D', 'A', 'B', 'C', 'D'],\n",
        "    'Value': [10, 15, 7, 20, 12, 18, 9, 25, 13, 16, 8, 22]\n",
        "}\n",
        "\n",
        "# Step 2: Convert the dataset into a DataFrame\n",
        "df = pd.DataFrame(data)\n",
        "\n",
        "# Step 3: Use Seaborn to compare categories based on the 'Value' column\n",
        "\n",
        "# Option 1: Barplot to show the average value per category\n",
        "sns.barplot(x='Category', y='Value', data=df, palette='Set2')\n",
        "\n",
        "# Add labels and title\n",
        "plt.xlabel('Category')\n",
        "plt.ylabel('Average Value')\n",
        "plt.title('Comparison of Categories Based on Average Value')\n",
        "\n",
        "# Show the plot\n",
        "plt.show()\n"
      ],
      "metadata": {
        "id": "5x6sIe3qJD1f"
      },
      "execution_count": null,
      "outputs": []
    },
    {
      "cell_type": "code",
      "source": [
        "# Option 2: Boxplot to compare the distribution of values per category\n",
        "sns.boxplot(x='Category', y='Value', data=df, palette='Set2')\n",
        "\n",
        "# Add labels and title\n",
        "plt.xlabel('Category')\n",
        "plt.ylabel('Value')\n",
        "plt.title('Distribution of Values Across Categories')\n",
        "\n",
        "# Show the plot\n",
        "plt.show()\n"
      ],
      "metadata": {
        "id": "Q5KXWQ05JVVz"
      },
      "execution_count": null,
      "outputs": []
    },
    {
      "cell_type": "markdown",
      "source": [
        "### Boxplot Explanation:\n",
        "- The **boxplot** shows the distribution of `Value` for each `Category`, indicating the median, interquartile range (IQR), and outliers.\n",
        "- The box represents the middle 50% of the data (from the 25th to the 75th percentile), while the whiskers extend to the range within 1.5 times the IQR. Any points outside this range are shown as outliers.\n",
        "\n",
        "### Result:\n",
        "- **Bar plot**: This will show the average value for each category, which is useful for comparing central tendencies.\n",
        "- **Boxplot**: This will give you a deeper understanding of the spread and distribution of the values for each category.\n",
        "\n",
        "### Additional Options:\n",
        "- You can use **Violin plots** to visualize the distribution and density of values for each category.\n",
        "- You can adjust the `hue` argument to compare multiple subgroups within the categories.\n",
        "\n",
        "Running these codes will help you compare categories based on numerical values using Seaborn's easy-to-use plotting functions."
      ],
      "metadata": {
        "id": "IkZsIHXlJk8W"
      }
    },
    {
      "cell_type": "markdown",
      "source": [
        "\n",
        "\n",
        "\n",
        "#Question 4. Generate a dataset with categories and numerical values. Visualize the distribution of a numerical variable across different categories.\n",
        "\n",
        "# Answer :- To generate a dataset with categories and numerical values, and then visualize the distribution of a numerical variable across different categories using Seaborn, we can use the `seaborn.boxplot()`, `seaborn.violinplot()`, or `seaborn.stripplot()` to show how the numerical values vary within each category.\n",
        "\n",
        "Let’s go step-by-step:\n",
        "\n",
        "1. **Create the dataset**: We will create a dataset that includes categorical values and corresponding numerical values.\n",
        "2. **Visualize the distribution**: We will use Seaborn to visualize how the numerical values are distributed within each category.\n",
        "\n",
        "\n",
        "\n",
        "### Explanation:\n",
        "\n",
        "1. **Data Generation**:\n",
        "   - `categories`: A list of four categories (A, B, C, D).\n",
        "   - `values`: A dictionary where each key represents a category and the values are generated from a normal distribution using `np.random.normal()` with different means and standard deviations for each category.\n",
        "     - `np.random.normal(mean, std, size)` generates random samples from a normal distribution with the specified mean, standard deviation (`std`), and sample size (`100` in this case).\n",
        "   - The `data` DataFrame is created by repeating the `categories` list 100 times and concatenating the corresponding values.\n",
        "\n",
        "2. **Boxplot**:\n",
        "   - `sns.boxplot(x='Category', y='Value', data=data, palette='Set2')`: This creates a **boxplot** where the x-axis represents the categories and the y-axis represents the numerical values. The boxplot will display the distribution of the data for each category, showing the median, interquartile range (IQR), and any potential outliers.\n",
        "   - The `palette='Set2'` argument provides a color palette for better visual distinction between categories.\n",
        "\n",
        "3. **Labels and Title**:\n",
        "   - `plt.xlabel()`, `plt.ylabel()`, and `plt.title()` are used to set the x-axis label, y-axis label, and title of the plot.\n",
        "\n",
        "4. **Show the Plot**:\n",
        "   - `plt.show()` displays the plot.\n",
        "\n",
        "### Alternative: Using a Violin Plot\n",
        "\n",
        "If you want to show the distribution and probability density for each category, you can use a **violin plot** instead of a boxplot:\n",
        "\n",
        "\n",
        "```\n",
        "\n",
        "### Violin Plot Explanation:\n",
        "- A **violin plot** combines aspects of a box plot and a density plot. It shows the distribution of the numerical variable and the probability density at different values. The width of the \"violin\" at different levels represents the density of the data points in that range.\n",
        "  \n",
        "### Result:\n",
        "- **Boxplot**: Shows the distribution (including median, IQR, and outliers) of numerical values across different categories.\n",
        "- **Violin plot**: Shows the distribution and density of the values, giving more detail on how the values are spread within each category.\n",
        "\n"
      ],
      "metadata": {
        "id": "eFYcRrhfHTfF"
      }
    },
    {
      "cell_type": "code",
      "source": [
        "import seaborn as sns\n",
        "import matplotlib.pyplot as plt\n",
        "import pandas as pd\n",
        "import numpy as np\n",
        "\n",
        "# Step 1: Generate a dataset with categories and numerical values\n",
        "np.random.seed(42)  # For reproducibility\n",
        "\n",
        "# Create random data\n",
        "categories = ['Category A', 'Category B', 'Category C', 'Category D']\n",
        "values = {\n",
        "    'Category A': np.random.normal(10, 5, 100),  # Mean=10, Std=5, 100 samples\n",
        "    'Category B': np.random.normal(15, 4, 100),  # Mean=15, Std=4, 100 samples\n",
        "    'Category C': np.random.normal(20, 3, 100),  # Mean=20, Std=3, 100 samples\n",
        "    'Category D': np.random.normal(25, 2, 100)   # Mean=25, Std=2, 100 samples\n",
        "}\n",
        "\n",
        "# Flatten the dictionary into a DataFrame\n",
        "data = pd.DataFrame({\n",
        "    'Category': np.repeat(categories, 100),\n",
        "    'Value': np.concatenate(list(values.values()))\n",
        "})\n",
        "\n",
        "# Step 2: Visualize the distribution using a boxplot\n",
        "sns.boxplot(x='Category', y='Value', data=data, palette='Set2')\n",
        "\n",
        "# Add labels and title\n",
        "plt.xlabel('Category')\n",
        "plt.ylabel('Value')\n",
        "plt.title('Distribution of Values Across Different Categories')\n",
        "\n",
        "# Show the plot\n",
        "plt.show()\n"
      ],
      "metadata": {
        "id": "qIrWHZyeKYAH"
      },
      "execution_count": null,
      "outputs": []
    },
    {
      "cell_type": "code",
      "source": [
        "# Step 2: Visualize the distribution using a violin plot\n",
        "sns.violinplot(x='Category', y='Value', data=data, palette='Set2')\n",
        "\n",
        "# Add labels and title\n",
        "plt.xlabel('Category')\n",
        "plt.ylabel('Value')\n",
        "plt.title('Violin Plot of Values Across Different Categories')\n",
        "\n",
        "# Show the plot\n",
        "plt.show()\n"
      ],
      "metadata": {
        "id": "WWJRpmARKYXd"
      },
      "execution_count": null,
      "outputs": []
    },
    {
      "cell_type": "markdown",
      "source": [
        "# Conclusion:\n",
        "This code will help you generate a dataset with categories and numerical values, and visualize the distribution of the numerical variable across different categories using Seaborn."
      ],
      "metadata": {
        "id": "oa_kUyxpKuwk"
      }
    },
    {
      "cell_type": "markdown",
      "source": [
        "\n",
        "#Question 5. Generate a synthetic dataset with correlated features. Visualize the correlation matrix of a dataset using a heatmap.\n",
        "\n",
        "#Answer:-  To generate a synthetic dataset with correlated features and visualize the correlation matrix using a heatmap, we can follow these steps:\n",
        "\n",
        "1. **Generate a synthetic dataset**: We'll generate a dataset with multiple features that are correlated with each other. This can be done using `numpy` by creating random data and adding some correlation between the features.\n",
        "   \n",
        "2. **Calculate the correlation matrix**: We'll use `pandas` to calculate the correlation matrix of the dataset.\n",
        "\n",
        "3. **Visualize the correlation matrix using a heatmap**: We’ll use Seaborn’s `heatmap` function to visualize the correlation matrix.\n",
        "\n",
        "# Code:\n",
        "\n",
        "\n",
        "#Explanation:\n",
        "\n",
        "1. **Synthetic Dataset Generation**:\n",
        "   - We generate three features (`X1`, `X2`, and `X3`) with some correlation between them:\n",
        "     - `X2` is highly correlated with `X1` (correlation coefficient of 0.8).\n",
        "     - `X3` is moderately correlated with `X2`.\n",
        "   - The random noise added (`np.random.normal()`) introduces some randomness, but the overall correlation between the features remains.\n",
        "\n",
        "2. **Correlation Matrix**:\n",
        "   - `data.corr()` calculates the Pearson correlation coefficient between all pairs of features in the dataset. The result is a square matrix where each entry represents the correlation between two features.\n",
        "   \n",
        "3. **Heatmap Visualization**:\n",
        "   - `sns.heatmap(correlation_matrix, annot=True, cmap='coolwarm', vmin=-1, vmax=1, linewidths=0.5, square=True)`:\n",
        "     - `annot=True`: Adds numerical annotations (the correlation values) inside the heatmap cells.\n",
        "     - `cmap='coolwarm'`: Specifies the color palette for the heatmap. The values will range from red (negative correlation) to blue (positive correlation).\n",
        "     - `vmin=-1, vmax=1`: Ensures the color scale is fixed between -1 (perfect negative correlation) and 1 (perfect positive correlation).\n",
        "     - `linewidths=0.5`: Adds small lines between the cells for better readability.\n",
        "     - `square=True`: Ensures the heatmap is square-shaped.\n",
        "   \n",
        "4. **Title**: Adds a title to the heatmap for context.\n",
        "\n"
      ],
      "metadata": {
        "id": "YmqZwwGiESnk"
      }
    },
    {
      "cell_type": "code",
      "source": [
        "import numpy as np\n",
        "import pandas as pd\n",
        "import seaborn as sns\n",
        "import matplotlib.pyplot as plt\n",
        "\n",
        "# Step 1: Generate a synthetic dataset with correlated features\n",
        "np.random.seed(42)\n",
        "\n",
        "# Create synthetic data: 100 samples and 3 features\n",
        "n_samples = 100\n",
        "X1 = np.random.normal(0, 1, n_samples)\n",
        "X2 = X1 * 0.8 + np.random.normal(0, 0.5, n_samples)  # Highly correlated with X1\n",
        "X3 = X2 * 0.5 + np.random.normal(0, 1, n_samples)    # Moderately correlated with X2\n",
        "\n",
        "# Create a DataFrame with the data\n",
        "data = pd.DataFrame({'X1': X1, 'X2': X2, 'X3': X3})\n",
        "\n",
        "# Step 2: Calculate the correlation matrix\n",
        "correlation_matrix = data.corr()\n",
        "\n",
        "# Step 3: Visualize the correlation matrix using a heatmap\n",
        "plt.figure(figsize=(8, 6))\n",
        "sns.heatmap(correlation_matrix, annot=True, cmap='coolwarm', vmin=-1, vmax=1, linewidths=0.5, square=True)\n",
        "\n",
        "# Add title and labels\n",
        "plt.title('Correlation Matrix Heatmap')\n",
        "plt.show()\n"
      ],
      "metadata": {
        "id": "4e9KmhPAM7yY"
      },
      "execution_count": null,
      "outputs": []
    },
    {
      "cell_type": "markdown",
      "source": [
        "# Result:\n",
        "- **Heatmap**: The heatmap visually represents the correlation matrix of the dataset. Darker colors indicate higher correlations (either positive or negative), and lighter colors represent lower correlations. The annotated values inside the heatmap cells provide the actual correlation coefficients.\n",
        "\n",
        "# Sample Output:\n",
        "The resulting heatmap would show:\n",
        "- A strong positive correlation between `X1` and `X2` (close to +1).\n",
        "- A moderate positive correlation between `X2` and `X3`.\n",
        "- The diagonal entries (correlation of a feature with itself) will always be 1.\n",
        "\n",
        "This method gives a quick and effective way to assess the relationships between multiple variables in a dataset."
      ],
      "metadata": {
        "id": "tohXCLSoNKCi"
      }
    },
    {
      "cell_type": "markdown",
      "source": [
        "##PLOTLY QUESTIONS:-"
      ],
      "metadata": {
        "id": "7qMNn9__OPOV"
      }
    },
    {
      "cell_type": "markdown",
      "source": [
        "#Question 1. Using the given dataset, to generate a 3D scatter plot to visualize the distribution of data points in a three-dimensional space\n",
        "\n",
        "np.random.seed(30)\n",
        "data = {\n",
        "'X': np.random.uniform(-10, 10, 300),\n",
        "'Y': np.random.uniform(-10, 10, 300),\n",
        "'Z': np.random.uniform(-10, 10, 300)\n",
        "}\n",
        "df = pd.DataFrame(data)\n",
        "\n",
        "#ANSWER:-\n",
        "\n",
        "To generate a 3D scatter plot using Plotly in Python, you can use the `plotly.graph_objs` module to create the plot. Plotly provides an interactive visualization that allows users to zoom, pan, and rotate the plot for a more comprehensive view of the data.\n",
        "\n",
        "Here’s how you can create a 3D scatter plot to visualize the distribution of the data points in three-dimensional space using the given dataset:\n",
        "\n",
        "\n",
        "\n",
        "# Explanation:\n",
        "\n",
        "1. **Data Generation**:\n",
        "   - `np.random.seed(30)`: Ensures reproducibility by fixing the random seed.\n",
        "   - `data`: Generates three arrays `X`, `Y`, and `Z`, each with 300 random values uniformly distributed between -10 and 10.\n",
        "   - `df = pd.DataFrame(data)`: Converts the dictionary into a pandas DataFrame for easier manipulation and plotting.\n",
        "\n",
        "2. **Creating the 3D Scatter Plot**:\n",
        "   - `px.scatter_3d()`: This is a Plotly function that generates a 3D scatter plot.\n",
        "     - `x='X', y='Y', z='Z'`: Specifies the columns to be used for the X, Y, and Z axes.\n",
        "     - `title=\"3D Scatter Plot of Data Points\"`: Adds a title to the plot.\n",
        "\n",
        "3. **Displaying the Plot**:\n",
        "   - `fig.show()`: This will display the interactive 3D scatter plot in your Jupyter notebook or web browser.\n",
        "\n"
      ],
      "metadata": {
        "id": "rCDNJqMdPC-R"
      }
    },
    {
      "cell_type": "code",
      "source": [
        "import pandas as pd\n",
        "import numpy as np\n",
        "import plotly.express as px\n",
        "\n",
        "# Step 1: Generate the synthetic data\n",
        "np.random.seed(30)\n",
        "data = {\n",
        "    'X': np.random.uniform(-10, 10, 300),\n",
        "    'Y': np.random.uniform(-10, 10, 300),\n",
        "    'Z': np.random.uniform(-10, 10, 300)\n",
        "}\n",
        "\n",
        "# Create a DataFrame from the generated data\n",
        "df = pd.DataFrame(data)\n",
        "\n",
        "# Step 2: Create a 3D scatter plot using Plotly\n",
        "fig = px.scatter_3d(df, x='X', y='Y', z='Z', title=\"3D Scatter Plot of Data Points\")\n",
        "\n",
        "# Step 3: Show the plot\n",
        "fig.show()\n"
      ],
      "metadata": {
        "id": "OdFPhaUiQ4s5"
      },
      "execution_count": null,
      "outputs": []
    },
    {
      "cell_type": "markdown",
      "source": [
        "# Output:\n",
        "- The plot will be an interactive 3D scatter plot where you can rotate the view and zoom in/out to inspect the distribution of data points along the X, Y, and Z axes.\n",
        "  \n",
        "# Interactive Features:\n",
        "- **Zoom**: You can zoom in or out by scrolling.\n",
        "- **Rotation**: You can click and drag to rotate the plot and view it from different angles.\n",
        "- **Hover**: When you hover over any point, you will see its exact X, Y, and Z coordinates.\n",
        "\n",
        "# Notes:\n",
        "- If you're using this in a Jupyter notebook, Plotly will render the plot directly inside the notebook. In a regular Python script, the plot will open in your default web browser.\n",
        "  \n",
        "This code provides a quick and effective way to visualize data in 3D, allowing you to better understand the distribution and relationships between the three variables."
      ],
      "metadata": {
        "id": "Uqgnd60BQyfJ"
      }
    },
    {
      "cell_type": "markdown",
      "source": [
        "#Question 2. Using the Student Grades, create a violin plot to display the distribution of scores across different grade categories.\n",
        "\n",
        "np.random.seed(15)\n",
        "data = {\n",
        "'Grade': np.random.choice(['A', 'B', 'C', 'D', 'F'], 200),\n",
        "'Score': np.random.randint(50, 100, 200)\n",
        "}\n",
        "df = pd.DataFrame(data\n",
        " Using the sales data, generate a heatmap to visualize the variation in sales across\n",
        "different months and days.\n",
        "\n",
        "np.random.seed(20)\n",
        "data = {\n",
        "'Month': np.random.choice(['Jan', 'Feb', 'Mar', 'Apr', 'May'], 100),\n",
        "'Day': np.random.choice(range(1, 31), 100),\n",
        "'Sales': np.random.randint(1000, 5000, 100)\n",
        "}\n",
        "df = pd.DataFrame(data)\n",
        "\n",
        "\n",
        "\n",
        "#ANSWER:-\n",
        "\n",
        "To address both tasks, we'll use **Plotly** for visualization. Here’s how we can approach each part:\n",
        "\n",
        "1. **Violin plot for Student Grades**:\n",
        "   - This violin plot will show the distribution of student scores across different grade categories.\n",
        "\n",
        "2. **Heatmap for Sales Data**:\n",
        "   - We will create a heatmap to visualize how sales vary across different months and days.\n",
        "\n",
        "### Task 1: Create a Violin Plot to Display the Distribution of Scores Across Different Grade Categories\n",
        "\n",
        "We'll use **Plotly Express** to create the violin plot that will show the distribution of `Score` values across the different `Grade` categories.\n",
        "\n",
        "# Code for the Violin Plot:\n",
        "\n",
        "\n",
        "\n",
        "# Explanation:\n",
        "- **Violin Plot**:\n",
        "  - The `px.violin` function is used to create a violin plot. The `x='Grade'` defines the categorical variable (grades) on the x-axis, and `y='Score'` places the numeric scores on the y-axis.\n",
        "  - `box=True` adds a box plot inside the violin plot to show the quartiles and median.\n",
        "  - `points=\"all\"` adds all data points to the plot, making the distribution more visible.\n",
        "  - `color='Grade'` differentiates the categories with distinct colors.\n",
        "\n",
        "# Task 2: Generate a Heatmap for Sales Data\n",
        "\n",
        "We will create a heatmap to show the variation in sales across different months and days. This requires creating a pivot table to arrange the sales data into a matrix format suitable for a heatmap.\n",
        "\n",
        "# Code for the Heatmap:\n",
        "\n",
        "\n",
        "\n"
      ],
      "metadata": {
        "id": "mvbWEdjMQ9Ve"
      }
    },
    {
      "cell_type": "code",
      "source": [
        "import pandas as pd\n",
        "import numpy as np\n",
        "import plotly.express as px\n",
        "\n",
        "# Step 1: Generate synthetic data for Student Grades\n",
        "np.random.seed(15)\n",
        "data = {\n",
        "    'Grade': np.random.choice(['A', 'B', 'C', 'D', 'F'], 200),\n",
        "    'Score': np.random.randint(50, 100, 200)\n",
        "}\n",
        "df_grades = pd.DataFrame(data)\n",
        "\n",
        "# Step 2: Create a Violin Plot\n",
        "fig_grades = px.violin(df_grades, x='Grade', y='Score', box=True, points=\"all\",\n",
        "                       title=\"Distribution of Student Scores Across Grades\",\n",
        "                       color='Grade',\n",
        "                       color_discrete_sequence=px.colors.qualitative.Set2)\n",
        "\n",
        "# Step 3: Show the plot\n",
        "fig_grades.show()\n"
      ],
      "metadata": {
        "id": "lqkTFPdSSGHc"
      },
      "execution_count": null,
      "outputs": []
    },
    {
      "cell_type": "code",
      "source": [
        "# Step 1: Generate synthetic sales data\n",
        "np.random.seed(20)\n",
        "data = {\n",
        "    'Month': np.random.choice(['Jan', 'Feb', 'Mar', 'Apr', 'May'], 100),\n",
        "    'Day': np.random.choice(range(1, 31), 100),\n",
        "    'Sales': np.random.randint(1000, 5000, 100)\n",
        "}\n",
        "df_sales = pd.DataFrame(data)\n",
        "\n",
        "# Step 2: Create a Pivot Table for the heatmap\n",
        "pivot_df = df_sales.pivot_table(index='Day', columns='Month', values='Sales', aggfunc='mean')\n",
        "\n",
        "# Step 3: Create the Heatmap using Plotly\n",
        "fig_sales = px.imshow(pivot_df,\n",
        "                      labels={'x': 'Month', 'y': 'Day', 'color': 'Sales'},\n",
        "                      title=\"Variation in Sales Across Different Months and Days\",\n",
        "                      color_continuous_scale='Viridis')\n",
        "\n",
        "# Step 4: Show the plot\n",
        "fig_sales.show()\n"
      ],
      "metadata": {
        "id": "z-_0AmMmTPqU"
      },
      "execution_count": null,
      "outputs": []
    },
    {
      "cell_type": "markdown",
      "source": [
        "# Explanation:\n",
        "- **Sales Data**:\n",
        "  - `np.random.choice` generates random months and days, while `np.random.randint` generates random sales values between 1000 and 5000.\n",
        "- **Pivot Table**:\n",
        "  - `pivot_table()` reshapes the data, creating a table where rows represent days and columns represent months, with the values representing average sales.\n",
        "- **Heatmap**:\n",
        "  - `px.imshow()` is used to create the heatmap. The `pivot_df` is passed as the data, and the `color_continuous_scale='Viridis'` argument specifies the color scale for the heatmap.\n",
        "\n",
        "# Output:\n",
        "\n",
        "1. **Violin Plot**:\n",
        "   - The violin plot will display how scores are distributed across each grade category (`A`, `B`, `C`, `D`, and `F`), with the spread of scores for each category.\n",
        "\n",
        "2. **Heatmap**:\n",
        "   - The heatmap will visualize how the sales data varies across the different months and days. The color intensity represents the magnitude of sales, with darker colors indicating higher sales.\n",
        "\n",
        "### Interactive Features:\n",
        "- Both plots are interactive. You can hover over the elements (like points on the violin plot or cells in the heatmap) to see the exact values.\n",
        "- You can zoom and pan in both plots to explore the data further.\n",
        "\n",
        "This solution leverages the interactive and visually appealing features of **Plotly** to create informative and engaging plots for both the student grades and sales data!"
      ],
      "metadata": {
        "id": "bnCy46paSo0v"
      }
    },
    {
      "cell_type": "markdown",
      "source": [
        "#Question 3. Using the sales data, generate a heatmap to visualize the variation in sales across different months and days.\n",
        "\n",
        "np.random.seed(20)\n",
        "data = {\n",
        "'Month': np.random.choice(['Jan', 'Feb', 'Mar', 'Apr', 'May'], 100),\n",
        "'Day': np.random.choice(range(1, 31), 100),\n",
        "'Sales': np.random.randint(1000, 5000, 100)\n",
        "}\n",
        "df = pd.DataFrame(data)\n",
        "\n",
        "\n",
        "To generate a heatmap that visualizes the variation in sales across different months and days, we need to transform the sales data into a format that can be easily visualized. Specifically, we will:\n",
        "\n",
        "1. Create a pivot table with `Month` as columns, `Day` as rows, and `Sales` as values.\n",
        "2. Use Plotly's `imshow()` function to generate the heatmap from the pivoted data.\n",
        "\n",
        "Here's the full code to generate the heatmap using Plotly:\n",
        "\n",
        "\n",
        "# Explanation:\n",
        "\n",
        "1. **Sales Data Generation**:\n",
        "   - `np.random.seed(20)`: Ensures reproducibility by fixing the random seed.\n",
        "   - `data`: Creates random data for `Month`, `Day`, and `Sales`. The months are chosen randomly from January to May, the days are randomly selected from 1 to 30, and sales are generated as random integers between 1000 and 5000.\n",
        "\n",
        "2. **Creating the DataFrame**:\n",
        "   - `df = pd.DataFrame(data)`: Converts the dictionary into a pandas DataFrame.\n",
        "\n",
        "3. **Pivot Table**:\n",
        "   - `pivot_table(index='Day', columns='Month', values='Sales', aggfunc='mean')`: This reshapes the DataFrame into a matrix, where:\n",
        "     - `Day` is used as the index (rows).\n",
        "     - `Month` is used as the columns.\n",
        "     - `Sales` are averaged across each day and month combination (`aggfunc='mean'`).\n",
        "   \n",
        "4. **Creating the Heatmap**:\n",
        "   - `px.imshow(pivot_df, ...)`: This generates the heatmap. The `pivot_df` matrix is used to create the heatmap, where:\n",
        "     - `labels={'x': 'Month', 'y': 'Day', 'color': 'Sales'}`: Customizes axis labels.\n",
        "     - `color_continuous_scale='Viridis'`: Specifies the color scale to use. You can choose other color scales like `'Cividis'`, `'Plasma'`, etc.\n",
        "\n",
        "5. **Display the Plot**:\n",
        "   - `fig.show()`: Displays the heatmap interactively in your browser or Jupyter notebook.\n",
        "\n"
      ],
      "metadata": {
        "id": "e6Y1th-1TkzG"
      }
    },
    {
      "cell_type": "code",
      "source": [
        "import pandas as pd\n",
        "import numpy as np\n",
        "import plotly.express as px\n",
        "\n",
        "# Step 1: Generate the sales data\n",
        "np.random.seed(20)\n",
        "data = {\n",
        "    'Month': np.random.choice(['Jan', 'Feb', 'Mar', 'Apr', 'May'], 100),\n",
        "    'Day': np.random.choice(range(1, 31), 100),\n",
        "    'Sales': np.random.randint(1000, 5000, 100)\n",
        "}\n",
        "\n",
        "# Step 2: Create a DataFrame from the generated data\n",
        "df = pd.DataFrame(data)\n",
        "\n",
        "# Step 3: Create a pivot table to organize the data for the heatmap\n",
        "pivot_df = df.pivot_table(index='Day', columns='Month', values='Sales', aggfunc='mean')\n",
        "\n",
        "# Step 4: Create the heatmap using Plotly\n",
        "fig = px.imshow(pivot_df,\n",
        "                labels={'x': 'Month', 'y': 'Day', 'color': 'Sales'},\n",
        "                title='Variation in Sales Across Different Months and Days',\n",
        "                color_continuous_scale='Viridis')\n",
        "\n",
        "# Step 5: Show the plot\n",
        "fig.show()\n"
      ],
      "metadata": {
        "id": "IGmkpFV0UZq8"
      },
      "execution_count": null,
      "outputs": []
    },
    {
      "cell_type": "markdown",
      "source": [
        "# Result:\n",
        "The resulting heatmap will show the variation in sales across different days (y-axis) and months (x-axis). Each cell in the heatmap represents the average sales for a given month and day. The color intensity indicates the magnitude of sales, with darker colors representing higher sales and lighter colors representing lower sales.\n",
        "\n",
        "# Interactive Features:\n",
        "- **Zoom and Pan**: You can zoom in or out and pan around the heatmap to examine specific months or days.\n",
        "- **Hover**: Hovering over any cell in the heatmap will show the exact value for the sales at that month-day combination.\n",
        "\n",
        "This code will produce an interactive, visually appealing heatmap to understand the variation in sales data across different days and months."
      ],
      "metadata": {
        "id": "iNUDbHs7Uaw9"
      }
    },
    {
      "cell_type": "markdown",
      "source": [],
      "metadata": {
        "id": "ivQe7QvPUkF_"
      }
    },
    {
      "cell_type": "markdown",
      "source": [
        "# QUESTION 4. Using the given x and y data, generate a 3D surface plot to visualize the function\n",
        "\n",
        "x = np.linspace(-5, 5, 100)\n",
        "y = np.linspace(-5, 5, 100)\n",
        "x, y = np.meshgrid(x, y)\n",
        "z = np.sin(np.sqrt(x**2 + y**2))\n",
        "data = {\n",
        "'X': x.flatten(),\n",
        "'Y': y.flatten(),\n",
        "'Z': z.flatten()\n",
        "}d\n",
        "f = pd.DataFrame(data)\n",
        "\n",
        "\n",
        "To generate a 3D surface plot using Plotly to visualize the given function, we will follow these steps:\n",
        "\n",
        "1. **Generate the grid of `x` and `y` values** using `np.linspace()` and `np.meshgrid()`.\n",
        "2. **Compute the `z` values** based on the function \\( z = \\sin(\\sqrt{x^2 + y^2}) \\).\n",
        "3. **Flatten the data** to create a dataframe, as Plotly's `surface` plot requires 1D arrays for `x`, `y`, and `z` coordinates.\n",
        "4. **Plot the 3D surface plot** using Plotly's `plotly.graph_objects` module or `plotly.express`.\n",
        "\n",
        "Here’s the code for generating a 3D surface plot using Plotly:\n",
        "\n",
        "\n",
        "# Explanation:\n",
        "\n",
        "1. **Generate `x` and `y` data**:\n",
        "   - `x = np.linspace(-5, 5, 100)` generates 100 evenly spaced values between -5 and 5 for `x`.\n",
        "   - `y = np.linspace(-5, 5, 100)` generates 100 evenly spaced values between -5 and 5 for `y`.\n",
        "   - `x, y = np.meshgrid(x, y)` creates a 2D grid from the `x` and `y` values, where each `x` value is paired with each `y` value, forming a mesh of coordinates.\n",
        "\n",
        "2. **Calculate `z`**:\n",
        "   - `z = np.sin(np.sqrt(x**2 + y**2))` computes the `z` values for each point on the grid using the formula \\( z = \\sin(\\sqrt{x^2 + y^2}) \\), which creates a ripple-like effect centered around the origin.\n",
        "\n",
        "3. **Flatten the data**:\n",
        "   - The `flatten()` method is used to convert the 2D arrays (`x`, `y`, `z`) into 1D arrays, which are necessary for creating the plot.\n",
        "\n",
        "4. **Create a DataFrame**:\n",
        "   - The `data` dictionary is converted into a pandas DataFrame, which makes it easier to work with Plotly.\n",
        "\n",
        "5. **3D Surface Plot**:\n",
        "   - `px.scatter_3d()` is used to create the 3D plot. Even though we are visualizing a surface, `scatter_3d` works well for this purpose by displaying the points in 3D space.\n",
        "   - `color='Z'`: Colors the points based on their `z` value, which will help highlight the surface's shape.\n",
        "   - `color_continuous_scale='Viridis'`: Specifies the color scale for the plot.\n",
        "\n",
        "6. **Show the Plot**:\n",
        "   - `fig.show()` renders the interactive plot in your browser or Jupyter notebook.\n",
        "\n",
        "# Alternative: Using `plotly.graph_objects` for Surface Plot\n",
        "\n",
        "If you want a true surface plot, you can use `plotly.graph_objects` instead:\n",
        "\n",
        "\n"
      ],
      "metadata": {
        "id": "Kz9pdwrRVwrL"
      }
    },
    {
      "cell_type": "code",
      "source": [
        "import numpy as np\n",
        "import pandas as pd\n",
        "import plotly.express as px\n",
        "\n",
        "# Step 1: Generate the x, y, and z data\n",
        "x = np.linspace(-5, 5, 100)\n",
        "y = np.linspace(-5, 5, 100)\n",
        "x, y = np.meshgrid(x, y)\n",
        "z = np.sin(np.sqrt(x**2 + y**2))\n",
        "\n",
        "# Step 2: Flatten the x, y, and z arrays and create a DataFrame\n",
        "data = {\n",
        "    'X': x.flatten(),\n",
        "    'Y': y.flatten(),\n",
        "    'Z': z.flatten()\n",
        "}\n",
        "df = pd.DataFrame(data)\n",
        "\n",
        "# Step 3: Create the 3D surface plot using Plotly\n",
        "fig = px.scatter_3d(df, x='X', y='Y', z='Z', color='Z', title=\"3D Surface Plot of z = sin(sqrt(x^2 + y^2))\",\n",
        "                    color_continuous_scale='Viridis')\n",
        "\n",
        "# Step 4: Show the plot\n",
        "fig.show()\n"
      ],
      "metadata": {
        "id": "6QnSQsBZYGe2"
      },
      "execution_count": null,
      "outputs": []
    },
    {
      "cell_type": "code",
      "source": [
        "import plotly.graph_objects as go\n",
        "\n",
        "# Step 3: Create the 3D surface plot using plotly.graph_objects\n",
        "fig = go.Figure(data=[go.Surface(z=z, x=x, y=y, colorscale='Viridis')])\n",
        "\n",
        "# Step 4: Customize the layout\n",
        "fig.update_layout(title='3D Surface Plot of z = sin(sqrt(x^2 + y^2))',\n",
        "                  scene=dict(\n",
        "                      xaxis_title='X',\n",
        "                      yaxis_title='Y',\n",
        "                      zaxis_title='Z'\n",
        "                  ))\n",
        "\n",
        "# Step 5: Show the plot\n",
        "fig.show()\n"
      ],
      "metadata": {
        "id": "3-YZUYeVYK05"
      },
      "execution_count": null,
      "outputs": []
    },
    {
      "cell_type": "markdown",
      "source": [
        "# Explanation for `plotly.graph_objects`:\n",
        "\n",
        "- `go.Surface()` creates the surface plot. We pass the `z`, `x`, and `y` values directly into it, as `go.Surface()` requires these in a 2D grid format.\n",
        "- `colorscale='Viridis'`: Specifies the color scale for the surface.\n",
        "- `fig.update_layout()`: Customizes the layout of the plot, including titles for the axes and the plot.\n",
        "\n",
        "# Output:\n",
        "- The surface plot will show the 3D shape of the function \\( z = \\sin(\\sqrt{x^2 + y^2}) \\), with interactive features like zooming, panning, and rotating to view the surface from different angles.\n",
        "- The `color` of the surface represents the `z` values, so you can see the varying height of the surface based on the values of the function.\n",
        "\n",
        "This approach gives you a detailed, interactive 3D surface plot to explore the function's behavior visually."
      ],
      "metadata": {
        "id": "VPWNnO9kYcn4"
      }
    },
    {
      "cell_type": "markdown",
      "source": [
        "#Question 5. Using the given dataset, create a bubble chart to represent each country's population (y-axis), GDP (xaxis),\n",
        "and bubble size proportional to the population.\n",
        "\n",
        "np.random.seed(25)\n",
        "data = {\n",
        "'Country': ['USA', 'Canada', 'UK',\n",
        "'Germany', 'France'],\n",
        "'Population':\n",
        "np.random.randint(100, 1000, 5),\n",
        "'GDP': np.random.randint(500, 2000,\n",
        "5)\n",
        "}\n",
        "df = pd.DataFrame(data)\n",
        "\n",
        "\n",
        "#Answer:-\n",
        "\n",
        "To create a **bubble chart** using Plotly, we need to visualize three variables:\n",
        "\n",
        "- **Country**: This will be categorical and displayed on the plot.\n",
        "- **GDP**: This will be represented on the x-axis.\n",
        "- **Population**: This will be represented on the y-axis, and the size of each bubble will be proportional to the population of each country.\n",
        "\n",
        "We will use `plotly.express.scatter` to create the bubble chart. Here's the step-by-step code to achieve that:\n",
        "\n",
        "#Code:\n",
        "\n",
        "\n",
        "### Explanation:\n",
        "\n",
        "1. **Dataset Creation**:\n",
        "   - We create a DataFrame `df` containing the `Country`, `Population`, and `GDP` values.\n",
        "   - The `Population` and `GDP` values are randomly generated using `np.random.randint`.\n",
        "\n",
        "2. **Bubble Chart Creation**:\n",
        "   - `px.scatter()`: This function is used to create the scatter plot (bubble chart in this case).\n",
        "     - `x='GDP'`: The x-axis represents the GDP of each country.\n",
        "     - `y='Population'`: The y-axis represents the population of each country.\n",
        "     - `size='Population'`: The size of each bubble is proportional to the population of the respective country.\n",
        "     - `color='Country'`: Each country is assigned a unique color for better distinction.\n",
        "     - `hover_name='Country'`: When hovering over a bubble, the name of the country will be shown.\n",
        "     - `size_max=60`: This limits the maximum size of the bubbles, preventing them from becoming too large.\n",
        "     - `color_discrete_sequence=px.colors.qualitative.Set1`: This sets a color palette for the countries.\n",
        "\n",
        "3. **Displaying the Plot**:\n",
        "   - `fig.show()`: This renders the interactive bubble chart, which can be zoomed, panned, and hovered to explore the data points.\n",
        "\n"
      ],
      "metadata": {
        "id": "IJ3NroLrYg4X"
      }
    },
    {
      "cell_type": "code",
      "source": [
        "import pandas as pd\n",
        "import numpy as np\n",
        "import plotly.express as px\n",
        "\n",
        "# Step 1: Generate the dataset\n",
        "np.random.seed(25)\n",
        "data = {\n",
        "    'Country': ['USA', 'Canada', 'UK', 'Germany', 'France'],\n",
        "    'Population': np.random.randint(100, 1000, 5),\n",
        "    'GDP': np.random.randint(500, 2000, 5)\n",
        "}\n",
        "df = pd.DataFrame(data)\n",
        "\n",
        "# Step 2: Create a bubble chart using Plotly\n",
        "fig = px.scatter(df,\n",
        "                 x='GDP',\n",
        "                 y='Population',\n",
        "                 size='Population',\n",
        "                 color='Country',\n",
        "                 hover_name='Country',\n",
        "                 title=\"Bubble Chart: GDP vs Population\",\n",
        "                 size_max=60,  # Maximum bubble size\n",
        "                 color_discrete_sequence=px.colors.qualitative.Set1)\n",
        "\n",
        "# Step 3: Show the plot\n",
        "fig.show()\n"
      ],
      "metadata": {
        "id": "7B14bisBZioq"
      },
      "execution_count": null,
      "outputs": []
    },
    {
      "cell_type": "markdown",
      "source": [
        "# Result:\n",
        "- Each country is represented by a bubble.\n",
        "- The x-axis corresponds to the country's **GDP**, the y-axis corresponds to the **population**, and the size of each bubble is proportional to the **population**.\n",
        "- Different colors are used to distinguish between countries.\n",
        "\n",
        "# Interactive Features:\n",
        "- **Hover**: When you hover over each bubble, you will see the country name and its values for GDP and Population.\n",
        "- **Zoom and Pan**: You can zoom in or out and pan the chart to focus on specific regions.\n",
        "- **Legend**: A legend indicates the color associated with each country.\n",
        "\n",
        "This bubble chart provides a clear and interactive visualization of the relationship between GDP, population, and the size of the country, making it easy to compare these metrics across different countries."
      ],
      "metadata": {
        "id": "olw2ny1CZpbS"
      }
    },
    {
      "cell_type": "markdown",
      "source": [
        "##BOKEH QUESTIONS:-"
      ],
      "metadata": {
        "id": "QnxZ29xoZwQj"
      }
    },
    {
      "cell_type": "markdown",
      "source": [
        "#Question 1.Create a Bokeh plot displaying a sine wave. Set x-values from 0 to 10 and y-values as the sine of x.\n",
        "\n",
        "#Answer\n",
        "\n",
        "To create a Bokeh plot displaying a sine wave where the `x` values range from 0 to 10 and the `y` values are the sine of `x`, you can follow the steps outlined below:\n",
        "\n",
        "# Code for Bokeh Sine Wave Plot:\n",
        "\n",
        "\n",
        "\n",
        "\n"
      ],
      "metadata": {
        "id": "xQ10gdxXZ4z_"
      }
    },
    {
      "cell_type": "code",
      "source": [
        "from bokeh.plotting import figure, show\n",
        "import numpy as np\n",
        "\n",
        "# Step 1: Generate x values from 0 to 10\n",
        "x = np.linspace(0, 10, 100)  # 100 points between 0 and 10\n",
        "y = np.sin(x)  # Compute the sine of x\n",
        "\n",
        "# Step 2: Create a Bokeh figure\n",
        "p = figure(title=\"Sine Wave\", x_axis_label='X', y_axis_label='Y', plot_width=800, plot_height=400)\n",
        "\n",
        "# Step 3: Plot the sine wave using a line plot\n",
        "p.line(x, y, legend_label=\"sin(x)\", line_width=2, line_color=\"blue\")\n",
        "\n",
        "# Step 4: Show the plot\n",
        "show(p)\n"
      ],
      "metadata": {
        "id": "736HFAJCcAd_"
      },
      "execution_count": null,
      "outputs": []
    },
    {
      "cell_type": "markdown",
      "source": [
        "# Explanation:\n",
        "\n",
        "1. **Generate `x` and `y` values**:\n",
        "   - `x = np.linspace(0, 10, 100)`: This generates 100 evenly spaced points between 0 and 10.\n",
        "   - `y = np.sin(x)`: This calculates the sine of each `x` value.\n",
        "\n",
        "2. **Create a Bokeh figure**:\n",
        "   - `figure()` is used to create a Bokeh plot. We specify the plot title, axis labels (`x_axis_label` and `y_axis_label`), and the plot dimensions (`plot_width` and `plot_height`).\n",
        "\n",
        "3. **Plot the sine wave**:\n",
        "   - `p.line(x, y, ...)` draws the sine wave as a line plot. We specify the `x` and `y` values, the `legend_label` (which will display in the legend), the line width (`line_width=2`), and the line color (`line_color=\"blue\"`).\n",
        "\n",
        "4. **Show the plot**:\n",
        "   - `show(p)` displays the interactive plot in your default web browser (or Jupyter Notebook, if using it).\n",
        "\n",
        "# Interactive Features:\n",
        "- **Zoom and Pan**: You can zoom in and out of the plot and pan across the sine wave.\n",
        "- **Hover tool**: By default, hovering over the plot will display the (x, y) coordinates of the points on the sine wave.\n",
        "\n",
        "This Bokeh plot will render an interactive sine wave, with the ability to explore the graph dynamically."
      ],
      "metadata": {
        "id": "RcMiq-CAb9Xr"
      }
    },
    {
      "cell_type": "markdown",
      "source": [
        "\n",
        "#Question 2.Create a Bokeh scatter plot using randomly generated x and y values. Use different sizes and colors for the markers based on the 'sizes' and 'colors' columns.\n",
        "\n",
        "To create a **Bokeh scatter plot** using randomly generated `x` and `y` values, and use different **sizes** and **colors** for the markers based on the `'sizes'` and `'colors'` columns, we will follow these steps:\n",
        "\n",
        "1. Generate random `x`, `y`, `sizes`, and `colors`.\n",
        "2. Create a Bokeh plot using the `scatter` method.\n",
        "3. Use the `sizes` array to control the size of the markers and the `colors` array to control the color of the markers.\n",
        "4. Optionally, add some interactive features like hover to display information when hovering over the points.\n",
        "\n",
        "# Code:\n",
        "\n",
        "\n",
        "\n",
        "# Explanation:\n",
        "\n",
        "1. **Generate Random Data**:\n",
        "   - `x = np.random.random(n) * 10`: Generates `n` random values between 0 and 10 for the `x` coordinates.\n",
        "   - `y = np.random.random(n) * 10`: Similarly, generates `n` random values between 0 and 10 for the `y` coordinates.\n",
        "   - `sizes = np.random.randint(5, 30, n)`: Generates random integer values for the marker sizes, ranging between 5 and 30.\n",
        "   - `colors = np.random.choice([\"red\", \"blue\", \"green\", \"orange\", \"purple\"], size=n)`: Randomly assigns one of five colors to each point.\n",
        "\n",
        "2. **Bokeh Figure**:\n",
        "   - `figure(title=\"Scatter Plot with Random Sizes and Colors\", ...)` creates the plot with a title and axis labels.\n",
        "   - `plot_width=800` and `plot_height=400` specify the plot size.\n",
        "\n",
        "3. **Scatter Plot**:\n",
        "   - `p.scatter(x, y, size=sizes, color=colors, fill_alpha=0.6, legend_field=\"colors\")` plots the scatter points:\n",
        "     - `size=sizes`: Controls the size of each marker.\n",
        "     - `color=colors`: Specifies the color of each marker.\n",
        "     - `fill_alpha=0.6`: Sets the transparency of the markers (0 is fully transparent, 1 is fully opaque).\n",
        "     - `legend_field=\"colors\"`: Creates a legend based on the color values.\n",
        "\n",
        "4. **Show the Plot**:\n",
        "   - `show(p)` displays the plot in an interactive window or Jupyter notebook.\n",
        "\n",
        "### Interactive Features:\n",
        "- **Hover**: By default, when hovering over the scatter points, the `x` and `y` values are displayed, along with the color.\n",
        "- **Zoom and Pan**: You can zoom in and out or pan across the plot to explore the data.\n",
        "- **Legend**: A legend is automatically created based on the colors, helping you identify what each color represents.\n",
        "\n",
        "# Customization Options:\n",
        "- You can modify the `size`, `color`, and `fill_alpha` values to further customize the appearance of the markers.\n",
        "- You can also add more interactivity, like hover tools to display specific data when hovering over a point (for example, show `x`, `y`, `size`, and `color`).\n"
      ],
      "metadata": {
        "id": "saROkD_zaXb3"
      }
    },
    {
      "cell_type": "code",
      "source": [
        "from bokeh.plotting import figure, show\n",
        "import numpy as np\n",
        "import pandas as pd\n",
        "from bokeh.io import output_file\n",
        "\n",
        "# Step 1: Generate random data for x, y, sizes, and colors\n",
        "np.random.seed(42)  # For reproducibility\n",
        "n = 50  # number of points\n",
        "\n",
        "x = np.random.random(n) * 10  # random x-values between 0 and 10\n",
        "y = np.random.random(n) * 10  # random y-values between 0 and 10\n",
        "sizes = np.random.randint(5, 30, n)  # random marker sizes between 5 and 30\n",
        "colors = np.random.choice([\"red\", \"blue\", \"green\", \"orange\", \"purple\"], size=n)  # random colors\n",
        "\n",
        "# Step 2: Create a Bokeh figure\n",
        "p = figure(title=\"Scatter Plot with Random Sizes and Colors\", x_axis_label='X', y_axis_label='Y', plot_width=800, plot_height=400)\n",
        "\n",
        "# Step 3: Plot the scatter plot with random sizes and colors\n",
        "p.scatter(x, y, size=sizes, color=colors, fill_alpha=0.6, legend_field=\"colors\")\n",
        "\n",
        "# Step 4: Add a legend (optional, based on the colors)\n",
        "# Step 5: Show the plot\n",
        "show(p)\n"
      ],
      "metadata": {
        "id": "AeHxqluUckSY"
      },
      "execution_count": null,
      "outputs": []
    },
    {
      "cell_type": "markdown",
      "source": [
        "\n",
        "This will generate an interactive scatter plot with randomly sized and colored markers based on the generated values, which you can explore dynamically."
      ],
      "metadata": {
        "id": "GNhubwD3csMY"
      }
    },
    {
      "cell_type": "markdown",
      "source": [
        "\n",
        "#Question 3. Generate a Bokeh bar chart representing the counts of different fruits using the following dataset\n",
        "\n",
        "fruits = ['Apples', 'Oranges', 'Bananas', 'Pears']\n",
        "counts = [20, 25, 30, 35]\n",
        "\n",
        "#Answer\n",
        "\n",
        "To create a **Bokeh bar chart** representing the counts of different fruits from the given dataset, we can follow these steps:\n",
        "\n",
        "1. **Define the fruit names** (`fruits`) and their corresponding **counts** (`counts`).\n",
        "2. Create a **Bokeh figure** for the bar chart.\n",
        "3. Use the `vbar()` function to create vertical bars.\n",
        "4. Optionally, customize the appearance and interactivity of the plot.\n",
        "\n",
        "# Code for Bokeh Bar Chart:\n",
        "\n",
        "\n",
        "\n",
        "#Explanation:\n",
        "\n",
        "1. **Data**:\n",
        "   - `fruits = ['Apples', 'Oranges', 'Bananas', 'Pears']` — List of fruit names.\n",
        "   - `counts = [20, 25, 30, 35]` — Corresponding counts for each fruit.\n",
        "\n",
        "2. **Bokeh Figure**:\n",
        "   - `p = figure(x_range=fruits, ...)` creates a figure where `x_range=fruits` sets the categories (fruit names) along the x-axis.\n",
        "   - `title=\"Fruit Counts\"` gives the plot a title.\n",
        "\n",
        "3. **Creating Bars**:\n",
        "   - `p.vbar(x=fruits, top=counts, width=0.6, color=\"green\", legend_field=\"Fruit\", alpha=0.7)` creates the vertical bars for each fruit, with the height of the bars determined by the `counts` array.\n",
        "     - `x=fruits`: Specifies the categories along the x-axis.\n",
        "     - `top=counts`: The height of the bars is given by the `counts`.\n",
        "     - `width=0.6`: Sets the width of the bars.\n",
        "     - `color=\"green\"`: Sets the color of the bars.\n",
        "     - `legend_field=\"Fruit\"`: This specifies the field to be used for the legend, though it is not strictly necessary for this plot since we are using a single color.\n",
        "     - `alpha=0.7`: Sets the transparency of the bars (0 is fully transparent, 1 is fully opaque).\n",
        "\n",
        "4. **Plot Customization**:\n",
        "   - `p.xaxis.axis_label = \"Fruit\"` and `p.yaxis.axis_label = \"Count\"` add axis labels.\n",
        "   - `p.xgrid.grid_line_color = None` removes grid lines on the x-axis.\n",
        "   - `p.y_range.start = 0` ensures the y-axis starts at 0.\n",
        "\n",
        "5. **Legend**:\n",
        "   - `p.legend.title = \"Fruit\"` sets the title for the legend.\n",
        "   - `p.legend.location = \"top_left\"` places the legend at the top-left corner.\n",
        "\n",
        "6. **Show the Plot**:\n",
        "   - `show(p)` renders the interactive bar chart in your default web browser or Jupyter notebook.\n"
      ],
      "metadata": {
        "id": "VMl-SieKaYzV"
      }
    },
    {
      "cell_type": "code",
      "source": [
        "from bokeh.plotting import figure, show\n",
        "from bokeh.io import output_file\n",
        "import numpy as np\n",
        "\n",
        "# Step 1: Define the fruits and their counts\n",
        "fruits = ['Apples', 'Oranges', 'Bananas', 'Pears']\n",
        "counts = [20, 25, 30, 35]\n",
        "\n",
        "# Step 2: Create a Bokeh figure\n",
        "p = figure(x_range=fruits, title=\"Fruit Counts\", toolbar_location=None, tools=\"\")\n",
        "\n",
        "# Step 3: Create vertical bars (vbar)\n",
        "p.vbar(x=fruits, top=counts, width=0.6, color=\"green\", legend_field=\"Fruit\", alpha=0.7)\n",
        "\n",
        "# Step 4: Customize plot appearance\n",
        "p.xaxis.axis_label = \"Fruit\"\n",
        "p.yaxis.axis_label = \"Count\"\n",
        "p.xgrid.grid_line_color = None\n",
        "p.y_range.start = 0\n",
        "\n",
        "# Step 5: Add the legend\n",
        "p.legend.title = \"Fruit\"\n",
        "p.legend.location = \"top_left\"\n",
        "\n",
        "# Step 6: Show the plot\n",
        "show(p)\n"
      ],
      "metadata": {
        "id": "OpfBixjcdZOJ"
      },
      "execution_count": null,
      "outputs": []
    },
    {
      "cell_type": "markdown",
      "source": [
        "\n",
        "# Output:\n",
        "- A bar chart displaying the counts of each fruit, where each bar represents a different fruit (Apples, Oranges, Bananas, and Pears) with the height proportional to its count. The chart will have labels for both the x-axis (fruits) and y-axis (counts).\n",
        "- You can hover over the bars, zoom, and pan the chart interactively in the Bokeh output.\n",
        "\n",
        "This will give you a clean and interactive bar chart for the fruit counts."
      ],
      "metadata": {
        "id": "eLSZTDAgdZqf"
      }
    },
    {
      "cell_type": "markdown",
      "source": [
        "#Question 4. Create a Bokeh histogram to visualize the distribution of the given data.\n",
        "\n",
        "data_hist = np.random.randn(1000)\n",
        "hist, edges = np.histogram(data_hist, bins=30)\n",
        "\n",
        "#Answer  To create a **Bokeh histogram** to visualize the distribution of the given data, we'll use the following steps:\n",
        "\n",
        "1. **Generate the data** (which in this case is 1000 randomly generated values from a standard normal distribution).\n",
        "2. **Compute the histogram** using `np.histogram()`, which returns the histogram values (`hist`) and the edges of the bins (`edges`).\n",
        "3. **Plot the histogram** using Bokeh's `quad()` method, which can be used to create bar-like elements for the histogram.\n",
        "\n",
        "#Code for Bokeh Histogram:\n",
        "\n",
        "\n",
        "\n",
        "# Explanation:\n",
        "\n",
        "1. **Generate Data**:\n",
        "   - `data_hist = np.random.randn(1000)` generates 1000 random values from a standard normal distribution (mean = 0, standard deviation = 1).\n",
        "\n",
        "2. **Calculate Histogram**:\n",
        "   - `hist, edges = np.histogram(data_hist, bins=30)` computes the histogram of the data. `hist` contains the frequencies (counts) of the values in each bin, and `edges` contains the bin edges.\n",
        "\n",
        "3. **Create Bokeh Figure**:\n",
        "   - `figure(title=\"Histogram of Random Data\", ...)` creates the figure with a title and axis labels.\n",
        "   - `plot_width=800` and `plot_height=400` define the plot size.\n",
        "\n",
        "4. **Plotting the Histogram**:\n",
        "   - `p.quad(top=hist, bottom=0, left=edges[:-1], right=edges[1:], ...)` creates the bars of the histogram:\n",
        "     - `top=hist`: The heights of the bars are determined by the frequency (`hist`).\n",
        "     - `bottom=0`: The bars start from 0 on the y-axis.\n",
        "     - `left=edges[:-1]` and `right=edges[1:]`: Define the left and right edges of the bars using the `edges` array, which defines the bin edges.\n",
        "     - `fill_color=\"skyblue\"`: Sets the color of the bars.\n",
        "     - `line_color=\"white\"`: Sets the color of the bar borders.\n",
        "     - `alpha=0.7`: Adds transparency to the bars.\n",
        "\n",
        "5. **Display the Plot**:\n",
        "   - `show(p)` renders the plot in your default web browser or Jupyter notebook.\n",
        "\n"
      ],
      "metadata": {
        "id": "KkfF72EWdgII"
      }
    },
    {
      "cell_type": "code",
      "source": [
        "from bokeh.plotting import figure, show\n",
        "import numpy as np\n",
        "\n",
        "# Step 1: Generate random data (1000 points from a standard normal distribution)\n",
        "data_hist = np.random.randn(1000)\n",
        "\n",
        "# Step 2: Calculate histogram values\n",
        "hist, edges = np.histogram(data_hist, bins=30)\n",
        "\n",
        "# Step 3: Create a Bokeh figure\n",
        "p = figure(title=\"Histogram of Random Data\",\n",
        "           x_axis_label='Value',\n",
        "           y_axis_label='Frequency',\n",
        "           plot_width=800, plot_height=400)\n",
        "\n",
        "# Step 4: Plot the histogram using quad (bars)\n",
        "p.quad(top=hist, bottom=0, left=edges[:-1], right=edges[1:],\n",
        "       fill_color=\"skyblue\", line_color=\"white\", alpha=0.7)\n",
        "\n",
        "# Step 5: Show the plot\n",
        "show(p)\n"
      ],
      "metadata": {
        "id": "MXURl9PRfDOs"
      },
      "execution_count": null,
      "outputs": []
    },
    {
      "cell_type": "markdown",
      "source": [
        "# Output:\n",
        "This will generate an interactive histogram that shows the distribution of the randomly generated data. The histogram will have:\n",
        "- **x-axis** representing the value ranges (bins).\n",
        "- **y-axis** representing the frequency of data points in each bin.\n",
        "- Interactive features such as zooming, panning, and hovering to view specific data points.\n",
        "\n",
        "The Bokeh plot is fully interactive, allowing you to explore the distribution dynamically."
      ],
      "metadata": {
        "id": "Qm_gRvg9fJDT"
      }
    },
    {
      "cell_type": "markdown",
      "source": [
        "#Question 5. Create a Bokeh heatmap using the provided dataset.\n",
        "\n",
        "data_heatmap = np.random.rand(10, 10)\n",
        "x = np.linspace(0, 1, 10)\n",
        "y = np.linspace(0, 1, 10)\n",
        "xx, yy = np.meshgrid(x, y)\n",
        "\n",
        "#Answer To create a **Bokeh heatmap** using the provided dataset, you can follow these steps:\n",
        "\n",
        "1. **Generate the dataset** using `np.random.rand()` to create a 10x10 matrix (`data_heatmap`), representing the intensity values of the heatmap.\n",
        "2. **Create meshgrid coordinates** for the heatmap (i.e., `x` and `y` values) to map the heatmap on a 2D grid.\n",
        "3. **Plot the heatmap** using Bokeh's `image()` method, which is designed to visualize 2D arrays.\n",
        "\n",
        "#Code for Bokeh Heatmap:\n",
        "\n",
        "\n",
        "\n",
        "# Explanation:\n",
        "\n",
        "1. **Generate Data**:\n",
        "   - `data_heatmap = np.random.rand(10, 10)` creates a 10x10 array of random values between 0 and 1. These values represent the intensity or color values for each cell in the heatmap.\n",
        "\n",
        "2. **Meshgrid Coordinates**:\n",
        "   - `x = np.linspace(0, 1, 10)` and `y = np.linspace(0, 1, 10)` generate 10 evenly spaced values for the `x` and `y` axes.\n",
        "   - `xx, yy = np.meshgrid(x, y)` creates a grid of `x` and `y` values, which we can use to position the data on the plot.\n",
        "\n",
        "3. **Bokeh Figure**:\n",
        "   - `figure(title=\"Heatmap\", ...)` creates the Bokeh figure and sets the plot title and axis labels.\n",
        "   - `plot_width=600` and `plot_height=600` set the dimensions of the plot.\n",
        "\n",
        "4. **Plot the Heatmap**:\n",
        "   - `p.image(image=[data_heatmap], ...)` is used to plot the heatmap.\n",
        "     - `image=[data_heatmap]`: The image function expects the heatmap data as a list of 2D arrays, so we pass `data_heatmap` as a list.\n",
        "     - `x=0`, `y=0`: The heatmap starts at the coordinates (0, 0).\n",
        "     - `dw=1`, `dh=1`: These parameters set the width and height of each cell (each heatmap element).\n",
        "     - `color_mapper=\"Viridis256\"`: This applies a color scale to the heatmap. You can also experiment with other color maps like `\"Inferno256\"`, `\"Magma256\"`, or `\"Plasma256\"`.\n",
        "\n",
        "5. **Display the Plot**:\n",
        "   - `show(p)` renders the heatmap in an interactive window (or Jupyter Notebook if you're using one).\n",
        "\n",
        "### Customization:\n",
        "\n",
        "- **Color Map**: The `color_mapper=\"Viridis256\"` argument uses a predefined color palette (Viridis). You can use different color palettes such as `Inferno`, `Magma`, or `Plasma`. For custom color mapping, you could use `LinearColorMapper` to define your color scale based on the data range.\n",
        "  \n",
        "- **Grid Size**: Adjust the grid size by changing the `data_heatmap` matrix size or the `x` and `y` ranges.\n",
        "\n",
        "- **Zoom and Interactivity**: Since the plot is interactive, you can zoom and pan around the heatmap to explore the data.\n",
        "\n"
      ],
      "metadata": {
        "id": "L8JxAAVTd1eg"
      }
    },
    {
      "cell_type": "code",
      "source": [
        "from bokeh.plotting import figure, show\n",
        "import numpy as np\n",
        "\n",
        "# Step 1: Generate the dataset (10x10 matrix of random values)\n",
        "data_heatmap = np.random.rand(10, 10)\n",
        "\n",
        "# Step 2: Create meshgrid for the x and y coordinates\n",
        "x = np.linspace(0, 1, 10)\n",
        "y = np.linspace(0, 1, 10)\n",
        "xx, yy = np.meshgrid(x, y)\n",
        "\n",
        "# Step 3: Create a Bokeh figure\n",
        "p = figure(title=\"Heatmap\",\n",
        "           x_axis_label='X',\n",
        "           y_axis_label='Y',\n",
        "           plot_width=600, plot_height=600)\n",
        "\n",
        "# Step 4: Plot the heatmap using the image() function\n",
        "# The data is passed as a 2D array (as a flattened list) with corresponding X and Y positions\n",
        "p.image(image=[data_heatmap], x=0, y=0, dw=1, dh=1, color_mapper=\"Viridis256\")\n",
        "\n",
        "# Step 5: Show the plot\n",
        "show(p)\n"
      ],
      "metadata": {
        "id": "olrEAyWFfL2s"
      },
      "execution_count": null,
      "outputs": []
    },
    {
      "cell_type": "markdown",
      "source": [
        "#Output:\n",
        "The result will be a heatmap where each square represents a data point in the `data_heatmap` matrix. The color intensity of each square corresponds to the value at that position in the matrix. The interactive features of Bokeh allow you to zoom and explore the heatmap easily."
      ],
      "metadata": {
        "id": "jGF8YYyWfl_G"
      }
    }
  ]
}