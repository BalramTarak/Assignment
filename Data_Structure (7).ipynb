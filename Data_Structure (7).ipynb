{
  "nbformat": 4,
  "nbformat_minor": 0,
  "metadata": {
    "colab": {
      "provenance": []
    },
    "kernelspec": {
      "name": "python3",
      "display_name": "Python 3"
    },
    "language_info": {
      "name": "python"
    }
  },
  "cells": [
    {
      "cell_type": "markdown",
      "source": [
        "Q1.Discuss string slicing and provide examples\n",
        "\n",
        "Answer :-Python slicing is about obtaining a sub-string from the given string by slicing it respectively from start to end.\n",
        "\n",
        "How String slicing in Python works\n",
        "For understanding slicing we will use different methods, here we will cover 2 methods of string slicing, one using the in-build slice() method and another using the [:] array slice. String slicing in Python is about obtaining a sub-string from the given string by slicing it respectively from start to end.\n",
        "\n",
        "Python slicing can be done in two ways:\n",
        "Using a slice() method\n",
        "Using the array slicing  [:: ] method\n",
        "\n",
        "Index tracker for positive and negative index: String indexing and slicing in python. Here, the Negative comes into consideration when tracking the string in reverse.\n",
        "\n",
        "python-string-slice\n",
        "\n",
        "Method 1: Using the slice() method\n",
        "The slice() constructor creates a slice object representing the set of indices specified by range(start, stop, step).\n",
        "\n",
        "Syntax:\n",
        "\n",
        "\n",
        "slice(stop)\n",
        "slice(start, stop, step)\n",
        "Parameters: start: Starting index where the slicing of object starts. stop: Ending index where the slicing of object stops. step: It is an optional argument that determines the increment between each index for slicing. Return Type: Returns a sliced object containing elements in the given range only.\n",
        "\n",
        "\n",
        "Example:"
      ],
      "metadata": {
        "id": "i-PoECjoL18Q"
      }
    },
    {
      "cell_type": "code",
      "source": [
        "\n",
        "\n",
        "# String slicing\n",
        "String = 'BALRAM'\n",
        "\n",
        "# Using slice constructor\n",
        "s1 = slice(3)\n",
        "s2 = slice(1, 5, 2)\n",
        "s3 = slice(-1, -12, -2)\n",
        "\n",
        "print(\"String slicing\")\n",
        "print(String[s1])\n",
        "print(String[s2])\n",
        "print(String[s3])\n"
      ],
      "metadata": {
        "colab": {
          "base_uri": "https://localhost:8080/"
        },
        "id": "lB9AUGuDL2WP",
        "outputId": "f9ad9200-62f9-4ca0-c3a0-3c6c2e7c7b50"
      },
      "execution_count": 18,
      "outputs": [
        {
          "output_type": "stream",
          "name": "stdout",
          "text": [
            "String slicing\n",
            "BAL\n",
            "AR\n",
            "MRA\n"
          ]
        }
      ]
    },
    {
      "cell_type": "markdown",
      "source": [
        "Q2.Explain the key features of lists in python\n",
        "Answer :- Lists in Python can be created by just placing the sequence inside the square brackets[]. Unlike Sets, a list doesn’t need a built-in function for its creation of a list.\n",
        "\n",
        "Note: Unlike Sets, the list may contain mutable elements.  \n",
        "\n"
      ],
      "metadata": {
        "id": "h_4PIlFUPpkY"
      }
    },
    {
      "cell_type": "code",
      "source": [
        "# Creating a List\n",
        "List = []\n",
        "print(\"Blank List: \")\n",
        "print(List)\n",
        "\n",
        "# Creating a List of numbers\n",
        "List = [10, 20, 14]\n",
        "print(\"\\nList of numbers: \")\n",
        "print(List)\n",
        "\n",
        "# Creating a List of strings and accessing\n",
        "# using index\n",
        "List = [\"love\", \"For\", \"love\"]\n",
        "print(\"\\nList Items: \")\n",
        "print(List[0])\n",
        "print(List[2])\n"
      ],
      "metadata": {
        "colab": {
          "base_uri": "https://localhost:8080/"
        },
        "id": "S4DyyFBSPtIA",
        "outputId": "50f4b0a7-a83b-4876-df22-79f4e859b66a"
      },
      "execution_count": null,
      "outputs": [
        {
          "output_type": "stream",
          "name": "stdout",
          "text": [
            "Blank List: \n",
            "[]\n",
            "\n",
            "List of numbers: \n",
            "[10, 20, 14]\n",
            "\n",
            "List Items: \n",
            "love\n",
            "love\n"
          ]
        }
      ]
    },
    {
      "cell_type": "markdown",
      "source": [
        "Q3.Describe how to access, modify, and delete elements in a list with examples\n",
        "\n",
        "Answer :-In Python, lists are ordered, mutable (modifiable), and allow duplicate elements. Here’s how you can access, modify, and delete elements from a list with examples:\n",
        "\n",
        "1. Accessing elements in a list\n",
        "\n",
        "You can access elements by their index (starting from 0 for the first element). Negative indexing can be used to access elements from the end of the list.\n",
        "\n",
        "\n",
        "2. Modifying elements in a list\n",
        "\n",
        "You can modify elements by assigning a new value to an index\n",
        "\n",
        "3. Deleting elements from a list\n",
        "\n",
        "There are multiple ways to delete elements in a list:\n",
        "\n",
        "del removes by index.\n",
        "\n",
        "remove() removes by value.\n",
        "\n",
        "pop() removes by index and returns the value.\n",
        "\n",
        "Each of these methods provides flexibility depending on how you want to remove or modify elements in a list."
      ],
      "metadata": {
        "id": "jNUDl2cCx5UP"
      }
    },
    {
      "cell_type": "code",
      "source": [
        "# Example list\n",
        "my_list = [10, 20, 30, 40, 50]\n",
        "\n",
        "# Access first element\n",
        "print(my_list[0])  # Output: 10\n",
        "\n",
        "# Access last element\n",
        "print(my_list[-1])  # Output: 50\n",
        "\n",
        "# Access a range of elements (slicing)\n",
        "print(my_list[1:4])  # Output: [20, 30, 40]\n",
        "\n"
      ],
      "metadata": {
        "colab": {
          "base_uri": "https://localhost:8080/"
        },
        "id": "EErCq3NZx57I",
        "outputId": "ff0919aa-340f-4acd-bb84-c077614caec1"
      },
      "execution_count": null,
      "outputs": [
        {
          "output_type": "stream",
          "name": "stdout",
          "text": [
            "10\n",
            "50\n",
            "[20, 30, 40]\n"
          ]
        }
      ]
    },
    {
      "cell_type": "code",
      "source": [
        "# Modify the second element (index 1)\n",
        "my_list[1] = 25\n",
        "print(my_list)\n",
        "\n",
        "# Modify a range of elements\n",
        "my_list[2:4] = [35, 45]\n",
        "print(my_list)"
      ],
      "metadata": {
        "colab": {
          "base_uri": "https://localhost:8080/"
        },
        "id": "5cBrZfLp1i3l",
        "outputId": "5abbf9eb-a4a8-4249-d8de-6b3bf2b6c40b"
      },
      "execution_count": null,
      "outputs": [
        {
          "output_type": "stream",
          "name": "stdout",
          "text": [
            "[20, 25, 40, 50]\n",
            "[20, 25, 35, 45]\n"
          ]
        }
      ]
    },
    {
      "cell_type": "code",
      "source": [
        "# Remove an element by index using del\n",
        "my_list = [10, 20, 30, 40, 50]\n",
        "\n",
        "# Using del to remove the element at index 2\n",
        "del my_list[2]\n",
        "print(my_list)  # Output: [10, 20, 40, 50]\n",
        "\n",
        "# Using pop to remove and return the last element\n",
        "removed_element = my_list.pop()\n",
        "print(removed_element)  # Output: 50\n",
        "print(my_list)  # Output: [10, 20, 40]\n",
        "\n",
        "# Using remove to delete the element with value 20\n",
        "my_list.remove(20)\n",
        "print(my_list)  # Output: [10, 40]"
      ],
      "metadata": {
        "colab": {
          "base_uri": "https://localhost:8080/"
        },
        "id": "DdKhO4Fx1nkr",
        "outputId": "62e750f4-e2b0-4b68-956c-c017e2856db7",
        "collapsed": true
      },
      "execution_count": 11,
      "outputs": [
        {
          "output_type": "stream",
          "name": "stdout",
          "text": [
            "[10, 20, 40, 50]\n",
            "50\n",
            "[10, 20, 40]\n",
            "[10, 40]\n"
          ]
        }
      ]
    },
    {
      "cell_type": "markdown",
      "source": [
        "Q4.Compare and contrast tuples and list with examples.\n",
        "\n",
        "Answer:- Here's a comparison of tuples and lists in Python, along with examples to illustrate their differences:\n",
        "\n",
        "1. Mutability\n",
        "\n",
        "List: Mutable, meaning you can modify, add, or remove elements after the list is created.\n",
        "\n",
        "Tuple: Immutable, meaning once a tuple is created, you cannot modify, add, or remove its elements.\n",
        "\n",
        "\n",
        "\n",
        "2. Syntax\n",
        "\n",
        "List: Created using square brackets [].\n",
        "\n",
        "Tuple: Created using parentheses ().\n",
        "\n",
        "\n",
        ":\n",
        "\n",
        "\n",
        "3. Methods\n",
        "\n",
        "List: Supports methods like append(), remove(), extend(), sort(), etc.\n",
        "\n",
        "Tuple: Has fewer methods, mainly count() and index(). No methods to add or remove elements.\n",
        "\n",
        "\n",
        "\n",
        "4. Performance\n",
        "\n",
        "List: Slightly slower due to its mutable nature.\n",
        "\n",
        "Tuple: Faster than lists because of its immutability, making them more efficient for read-only operations.\n",
        "\n",
        "\n",
        "\n",
        "5. Use Cases\n",
        "\n",
        "List: Ideal for collections that need to be modified, such as dynamic datasets.\n",
        "\n",
        "Tuple: Best suited for fixed collections of items, such as representing data that shouldn't change (e.g., coordinates, function returns).\n",
        "\n",
        "\n",
        "Example:\n",
        "\n",
        "\n",
        "\n",
        "6. Memory Usage\n",
        "\n",
        "List: Uses more memory because it needs to account for potential changes in size.\n",
        "\n",
        "Tuple: Uses less memory due to its fixed size.\n",
        "\n",
        "\n",
        "\n",
        "Summary\n",
        "\n",
        "Both data structures have their strengths, and the choice between them depends on whether you need to modify the collection or keep it fixed."
      ],
      "metadata": {
        "id": "q0Pxreq13JOE"
      }
    },
    {
      "cell_type": "code",
      "source": [
        "# List (Mutable)\n",
        "my_list = [1, 2, 3]\n",
        "my_list[0] = 10  # Modifying an element\n",
        "print(my_list)   # Output: [10, 2, 3]\n",
        "\n",
        "# Tuple (Immutable)\n",
        "my_tuple = (1, 2, 3)\n",
        "# my_tuple[0] = 10  # This would raise an error as tuples are immutable"
      ],
      "metadata": {
        "id": "r4rxHIY17DEM",
        "colab": {
          "base_uri": "https://localhost:8080/"
        },
        "outputId": "fe8b9e44-1893-49e3-f678-2e5edbdf3214"
      },
      "execution_count": 12,
      "outputs": [
        {
          "output_type": "stream",
          "name": "stdout",
          "text": [
            "[10, 2, 3]\n"
          ]
        }
      ]
    },
    {
      "cell_type": "code",
      "source": [
        "Example:\n",
        "my_list = [1, 2, 3]  # List\n",
        "my_tuple = (1, 2, 3)  # Tuple\n"
      ],
      "metadata": {
        "id": "gwCOggX-5tBR",
        "colab": {
          "base_uri": "https://localhost:8080/",
          "height": 106
        },
        "outputId": "008f251e-441b-492a-af53-befbf34579cd"
      },
      "execution_count": 13,
      "outputs": [
        {
          "output_type": "error",
          "ename": "SyntaxError",
          "evalue": "invalid syntax (<ipython-input-13-d089da30e4d2>, line 1)",
          "traceback": [
            "\u001b[0;36m  File \u001b[0;32m\"<ipython-input-13-d089da30e4d2>\"\u001b[0;36m, line \u001b[0;32m1\u001b[0m\n\u001b[0;31m    Example:\u001b[0m\n\u001b[0m            ^\u001b[0m\n\u001b[0;31mSyntaxError\u001b[0m\u001b[0;31m:\u001b[0m invalid syntax\n"
          ]
        }
      ]
    },
    {
      "cell_type": "code",
      "source": [
        "Example:\n",
        "\n",
        "# List Methods\n",
        "my_list = [1, 2, 3]\n",
        "my_list.append(4)  # Add an element\n",
        "print(my_list)     # Output: [1, 2, 3, 4]\n",
        "\n",
        "# Tuple Methods\n",
        "my_tuple = (1, 2, 3, 1)\n",
        "print(my_tuple.count(1))  # Output: 2 (counts the occurrences of 1)\n",
        "print(my_tuple.index(2))  # Output: 1 (index of first occurrence of 2)\n"
      ],
      "metadata": {
        "id": "xx9aCbZ06C9F"
      },
      "execution_count": null,
      "outputs": []
    },
    {
      "cell_type": "code",
      "source": [
        "Example:\n",
        "\n",
        "import timeit\n",
        "\n",
        "# Timing list creation\n",
        "list_time = timeit.timeit(\"my_list = [1, 2, 3, 4, 5]\", number=1000000)\n",
        "print(f\"List time: {list_time}\")\n",
        "\n",
        "# Timing tuple creation\n",
        "tuple_time = timeit.timeit(\"my_tuple = (1, 2, 3, 4, 5)\", number=1000000)\n",
        "print(f\"Tuple time: {tuple_time}\")\n"
      ],
      "metadata": {
        "id": "ObL92mEV6mV_"
      },
      "execution_count": null,
      "outputs": []
    },
    {
      "cell_type": "code",
      "source": [
        "# List Example: Modifying a shopping list\n",
        "shopping_list = [\"apple\", \"banana\", \"orange\"]\n",
        "shopping_list.append(\"grape\")\n",
        "print(shopping_list)  # Output: ['apple', 'banana', 'orange', 'grape']\n",
        "\n",
        "# Tuple Example: Storing coordinates\n",
        "point = (10, 20)\n",
        "print(point)  # Output: (10, 20)"
      ],
      "metadata": {
        "id": "i1d1YslQ61rA",
        "colab": {
          "base_uri": "https://localhost:8080/"
        },
        "outputId": "3b0a3582-6e4b-491e-e34f-0417602055e6"
      },
      "execution_count": 14,
      "outputs": [
        {
          "output_type": "stream",
          "name": "stdout",
          "text": [
            "['apple', 'banana', 'orange', 'grape']\n",
            "(10, 20)\n"
          ]
        }
      ]
    },
    {
      "cell_type": "code",
      "source": [
        "Example:\n",
        "\n",
        "import sys\n",
        "\n",
        "my_list = [1, 2, 3]\n",
        "my_list.append(4)  # Adding an element to the list\n",
        "print(my_list)  # Output: [1, 2, 3, 4]\n",
        "\n",
        "my_tuple = (1, 2, 3)\n",
        "# my_tuple.append(4)  # Error, tuples don't have append() method"
      ],
      "metadata": {
        "id": "fuOYSINW6_Yt",
        "colab": {
          "base_uri": "https://localhost:8080/",
          "height": 106
        },
        "outputId": "441e9b03-be9a-4040-ecf6-e027a1f06b80"
      },
      "execution_count": 16,
      "outputs": [
        {
          "output_type": "error",
          "ename": "SyntaxError",
          "evalue": "invalid syntax (<ipython-input-16-870dca7d230d>, line 1)",
          "traceback": [
            "\u001b[0;36m  File \u001b[0;32m\"<ipython-input-16-870dca7d230d>\"\u001b[0;36m, line \u001b[0;32m1\u001b[0m\n\u001b[0;31m    Example:\u001b[0m\n\u001b[0m            ^\u001b[0m\n\u001b[0;31mSyntaxError\u001b[0m\u001b[0;31m:\u001b[0m invalid syntax\n"
          ]
        }
      ]
    },
    {
      "cell_type": "markdown",
      "source": [
        "Q5.Describe the key feature of sets and provide example of with their use.\n",
        "\n",
        "Answer:- Key Features of Sets in Python\n",
        "\n",
        "1. Unordered: Sets do not maintain the order of elements. When you print a set, the order of elements might not be the same as the order in which you added them.\n",
        "\n",
        "\n",
        "2. Unique Elements: Sets automatically remove duplicate values. Every element in a set is unique.\n",
        "\n",
        "\n",
        "3. Mutable: While the elements in a set must be immutable (such as numbers, strings, tuples), the set itself is mutable, meaning you can add or remove items from it.\n",
        "\n",
        "\n",
        "4. No Indexing or Slicing: Sets do not support indexing, slicing, or other sequence-like behavior because they are unordered.\n",
        "\n",
        "\n",
        "5. Efficient Membership Testing: Checking whether an element is in a set (using in keyword) is faster than in lists due to the underlying hash table implementation.\n",
        "\n",
        "\n",
        "6. Set Operations: Sets support operations like union, intersection, difference, and symmetric difference, which are very useful for handling unique collections.\n",
        "\n",
        "\n",
        "\n",
        "\n",
        "\n",
        "2. Set Operations\n",
        "\n",
        "Union: Combines elements from two sets, eliminating duplicates.\n",
        "\n",
        "Intersection: Returns elements common to both sets.\n",
        "\n",
        "Difference: Returns elements in one set that are not in the other.\n",
        "\n",
        "Symmetric Difference: Returns elements that are in either of the sets but not in both.\n",
        "\n",
        "\n",
        "\n",
        "\n",
        "3. Use Case: Removing Duplicates from a List\n",
        "\n",
        "Since sets automatically discard duplicates, they are useful for quickly filtering unique items from a list.\n",
        "\n",
        "\n",
        "4. Use Case: Membership Testing\n",
        "\n",
        "Sets are ideal when you need to test the existence of an item in a collection. Since sets use hash tables, membership testing is more efficient than with lists.\n",
        "\n",
        "\n",
        "Summary\n",
        "\n",
        "Sets are useful when you need a collection of unique elements and need to perform fast membership tests or mathematical set operations like union or intersection"
      ],
      "metadata": {
        "id": "jZSPmMg67CdH"
      }
    },
    {
      "cell_type": "code",
      "source": [
        "Example of Using Sets\n",
        "\n",
        "1. Basic Set Creation and Use\n",
        "\n",
        "# Creating a set\n",
        "my_set = {1, 2, 3, 4, 4, 5}  # Note the duplicate '4'\n",
        "print(my_set)  # Output: {1, 2, 3, 4, 5}, duplicates are automatically removed\n",
        "\n",
        "# Adding an element\n",
        "my_set.add(6)\n",
        "print(my_set)  # Output: {1, 2, 3, 4, 5, 6}\n",
        "\n",
        "# Removing an element\n",
        "my_set.remove(3)\n",
        "print(my_set)  # Output: {1, 2, 4, 5, 6}\n"
      ],
      "metadata": {
        "id": "8EMJPjOQ7XHn"
      },
      "execution_count": null,
      "outputs": []
    },
    {
      "cell_type": "code",
      "source": [
        "set_a = {1, 2, 3, 4}\n",
        "set_b = {3, 4, 5, 6}\n",
        "\n",
        "# Union\n",
        "print(set_a | set_b)  # Output: {1, 2, 3, 4, 5, 6}\n",
        "\n",
        "# Intersection\n",
        "print(set_a & set_b)  # Output: {3, 4}\n",
        "\n",
        "# Difference (set_a minus set_b)\n",
        "print(set_a - set_b)  # Output: {1, 2}\n",
        "\n",
        "# Symmetric Difference\n",
        "print(set_a ^ set_b)  # Output: {1, 2, 5, 6}"
      ],
      "metadata": {
        "id": "OtyJfjSF_qjF",
        "colab": {
          "base_uri": "https://localhost:8080/"
        },
        "outputId": "72dbf7ed-a5ec-409b-efb1-28f52022f888"
      },
      "execution_count": 17,
      "outputs": [
        {
          "output_type": "stream",
          "name": "stdout",
          "text": [
            "{1, 2, 3, 4, 5, 6}\n",
            "{3, 4}\n",
            "{1, 2}\n",
            "{1, 2, 5, 6}\n"
          ]
        }
      ]
    },
    {
      "cell_type": "code",
      "source": [
        "my_list = [1, 2, 2, 3, 4, 4, 5]\n",
        "unique_items = set(my_list)  # Convert list to set to remove duplicates\n",
        "print(unique_items)  # Output: {1, 2, 3, 4, 5}"
      ],
      "metadata": {
        "id": "gC5bEpZv_z5f"
      },
      "execution_count": null,
      "outputs": []
    },
    {
      "cell_type": "code",
      "source": [
        "valid_usernames = {\"alice\", \"bob\", \"charlie\"}\n",
        "user = \"alice\"\n",
        "\n",
        "if user in valid_usernames:\n",
        "    print(f\"{user} is a valid user.\")  # Output: alice is a valid user.\n"
      ],
      "metadata": {
        "id": "wGJIRw6m_2Tr"
      },
      "execution_count": null,
      "outputs": []
    },
    {
      "cell_type": "markdown",
      "source": [
        "Q6. Discuss the use cases of tuple  and set in Python programming\n",
        "\n",
        "Answer:- Use Cases of Tuples in Python\n",
        "\n",
        "1. Fixed Data Storage: Tuples are ideal for storing data that should not change during the program’s execution, such as configurations, constants, or fixed values. Since tuples are immutable, they ensure the integrity of the data.\n",
        "\n",
        "Example: Storing days of the week or coordinates.\n",
        "\n",
        "\n",
        "\n",
        "\n",
        "2. Returning Multiple Values from a Function: A common use of tuples is to return multiple values from a function. This allows functions to return more than one value at a time.\n",
        "\n",
        "Example:\n",
        "\n",
        "\n",
        "\n",
        "3. Dictionary Keys: Tuples can be used as dictionary keys because they are hashable and immutable, whereas lists cannot be used for this purpose.\n",
        "\n",
        "Example:\n",
        "\n",
        "\n",
        "\n",
        "\n",
        "4. Heterogeneous Data: Tuples are suitable for holding collections of heterogeneous data (different data types) since each position in a tuple can hold a value of a different type.\n",
        "\n",
        "Example:\n",
        "\n",
        "\n",
        "\n",
        "\n",
        "\n",
        "5. Efficient Memory Usage: Since tuples are immutable, they use less memory compared to lists. Therefore, if you are dealing with a large amount of data that doesn't need modification, using tuples can improve memory efficiency.\n",
        "\n",
        "Example: Storing a large dataset of immutable records such as read-only configurations or logs.\n",
        "\n",
        "\n",
        "\n",
        "\n",
        "\n",
        "---\n",
        "\n",
        "Use Cases of Sets in Python\n",
        "\n",
        "1. Removing Duplicates from a Collection: One of the most common use cases for sets is to remove duplicate values from a list or other iterable. Since sets only store unique values, converting a list to a set automatically filters out duplicates.\n",
        "\n",
        "Example:\n",
        "\n",
        "\n",
        "\n",
        "\n",
        "\n",
        "2. Membership Testing: Sets are highly optimized for checking membership (whether an element exists in the set). This operation is faster with sets than with lists, making sets useful for scenarios where quick lookups are required.\n",
        "\n",
        "Example:\n",
        "\n",
        "\n",
        "\n",
        "\n",
        "\n",
        "3. Mathematical Set Operations: Sets support operations like union, intersection, difference, and symmetric difference. These operations are useful for tasks such as finding common elements between datasets, merging datasets, or identifying differences.\n",
        "\n",
        "Example:\n",
        "\n",
        "\n",
        "\n",
        "\n",
        "\n",
        "4. Removing Elements Efficiently: Sets provide efficient methods for removing elements like discard() and remove(). They are especially useful for handling scenarios where you need to frequently remove items from a collection.\n",
        "\n",
        "Example:\n",
        "\n",
        "\n",
        "n\n",
        "\n",
        "5. Storing Unique Items: Sets are useful when you need to store a collection of items where each item must be unique. This can be handy for storing things like unique user IDs, inventory items, or IP addresses.\n",
        "\n",
        "Example:\n",
        "\n",
        "\n",
        "\n",
        "\n",
        "\n",
        "6. Efficient Data Comparison: Sets allow efficient comparisons between large datasets. For example, if you want to compare two lists of items to find common or different elements, sets provide a more optimized solution compared to using lists.\n",
        "\n",
        "Example:\n",
        "\n",
        "\n",
        "\n",
        "\n",
        "\n",
        "\n",
        "---\n",
        "\n",
        "Summary of Use Cases:\n",
        "\n",
        "Both tuples and sets have their specific use cases in Python, and choosing between them depends on the requirements of immutability, uniqueness, and performance in your program."
      ],
      "metadata": {
        "id": "tofzvoNLAGeE"
      }
    },
    {
      "cell_type": "code",
      "source": [
        "\n",
        "\n",
        "days_of_week = (\"Monday\", \"Tuesday\", \"Wednesday\", \"Thursday\", \"Friday\", \"Saturday\", \"Sunday\")\n",
        "coordinates = (40.7128, -74.0060)  # Tuple representing latitude and longitude\n",
        "\n",
        "\n",
        "\n",
        "\n"
      ],
      "metadata": {
        "id": "Ief4WXr-CShc"
      },
      "execution_count": 21,
      "outputs": []
    },
    {
      "cell_type": "code",
      "source": [
        "Example:\n",
        "\n",
        "\n",
        "person = (\"Alice\", 30, 5.6)  # Tuple with a string, integer, and float\n"
      ],
      "metadata": {
        "colab": {
          "base_uri": "https://localhost:8080/",
          "height": 106
        },
        "id": "vGNoL4r14vag",
        "outputId": "472010c1-45fc-4cd2-8665-14eb4b5b9d74"
      },
      "execution_count": 9,
      "outputs": [
        {
          "output_type": "error",
          "ename": "SyntaxError",
          "evalue": "invalid syntax (<ipython-input-9-a45d37d7cd0b>, line 1)",
          "traceback": [
            "\u001b[0;36m  File \u001b[0;32m\"<ipython-input-9-a45d37d7cd0b>\"\u001b[0;36m, line \u001b[0;32m1\u001b[0m\n\u001b[0;31m    Example:\u001b[0m\n\u001b[0m            ^\u001b[0m\n\u001b[0;31mSyntaxError\u001b[0m\u001b[0;31m:\u001b[0m invalid syntax\n"
          ]
        }
      ]
    },
    {
      "cell_type": "code",
      "source": [
        "Example:\n",
        "\n",
        "\n",
        "def get_user_info():\n",
        "    return (\"Alice\", 25, \"Engineer\")\n",
        "\n",
        "name, age, profession = get_user_info()\n",
        "print(name, age, profession)  # Output: Alice 25 Engineer\n"
      ],
      "metadata": {
        "id": "3H27TVWh4MVf"
      },
      "execution_count": null,
      "outputs": []
    },
    {
      "cell_type": "code",
      "source": [
        "Example:\n",
        "\n",
        "\n",
        "locations = {\n",
        "    (\"New York\", \"USA\"): 1000,\n",
        "    (\"Paris\", \"France\"): 800,\n",
        "}\n",
        "print(locations[(\"New York\", \"USA\")])  # Output: 1000\n"
      ],
      "metadata": {
        "id": "M4dkoYcN2We7"
      },
      "execution_count": null,
      "outputs": []
    },
    {
      "cell_type": "code",
      "source": [
        "Example:\n",
        "\n",
        "\n",
        "my_list = [1, 2, 2, 3, 4, 4, 5]\n",
        "unique_set = set(my_list)\n",
        "print(unique_set)  # Output: {1, 2, 3, 4, 5}"
      ],
      "metadata": {
        "id": "SZ-OIxu8DNml"
      },
      "execution_count": null,
      "outputs": []
    },
    {
      "cell_type": "code",
      "source": [
        "Example:\n",
        "\n",
        "\n",
        "allowed_usernames = {\"alice\", \"bob\", \"charlie\"}\n",
        "if \"alice\" in allowed_usernames:\n",
        "    print(\"Access granted\")\n"
      ],
      "metadata": {
        "id": "Ndm9IpDFDW12"
      },
      "execution_count": null,
      "outputs": []
    },
    {
      "cell_type": "code",
      "source": [
        "Example:\n",
        "\n",
        "\n",
        "set_a = {1, 2, 3, 4}\n",
        "set_b = {3, 4, 5, 6}\n",
        "\n",
        "# Union\n",
        "print(set_a | set_b)  # Output: {1, 2, 3, 4, 5, 6}\n",
        "\n",
        "# Intersection\n",
        "print(set_a & set_b)  # Output: {3, 4}"
      ],
      "metadata": {
        "id": "_5Us3vvXDd3Y"
      },
      "execution_count": null,
      "outputs": []
    },
    {
      "cell_type": "code",
      "source": [
        "Example:\n",
        "\n",
        "\n",
        "numbers = {1, 2, 3, 4, 5}\n",
        "numbers.remove(3)\n",
        "print(numbers)  # Output: {1, 2, 4, 5}"
      ],
      "metadata": {
        "id": "MpVxf_VVDtvV"
      },
      "execution_count": null,
      "outputs": []
    },
    {
      "cell_type": "code",
      "source": [
        "Example:\n",
        "\n",
        "\n",
        "unique_ids = {\"id001\", \"id002\", \"id003\"}\n",
        "unique_ids.add(\"id004\")\n",
        "print(unique_ids)  # Output: {'id003', 'id001', 'id002', 'id004'}\n",
        "\n",
        "\n",
        "\n",
        "\n",
        "list_a = [1, 2, 3, 4]\n",
        "list_b = [3, 4, 5, 6]\n",
        "\n",
        "set_a = set(list_a)\n",
        "set_b = set(list_b)\n",
        "\n",
        "# Find common elements\n",
        "print(set_a.intersection(set_b))  # Output: {3, 4}"
      ],
      "metadata": {
        "id": "9Tp7ADugEqIO",
        "colab": {
          "base_uri": "https://localhost:8080/",
          "height": 106
        },
        "outputId": "117c49df-e814-431d-c32d-3d57c8623433"
      },
      "execution_count": 20,
      "outputs": [
        {
          "output_type": "error",
          "ename": "SyntaxError",
          "evalue": "invalid syntax (<ipython-input-20-364426d0b464>, line 1)",
          "traceback": [
            "\u001b[0;36m  File \u001b[0;32m\"<ipython-input-20-364426d0b464>\"\u001b[0;36m, line \u001b[0;32m1\u001b[0m\n\u001b[0;31m    Example:\u001b[0m\n\u001b[0m            ^\u001b[0m\n\u001b[0;31mSyntaxError\u001b[0m\u001b[0;31m:\u001b[0m invalid syntax\n"
          ]
        }
      ]
    },
    {
      "cell_type": "markdown",
      "source": [
        "Q7.Describe how to add,modify,and delete item in dictionary with examples\n",
        "\n",
        "Answer:- In Python, dictionaries are collections of key-value pairs, where each key is unique, and values can be modified, added, or deleted. Here's how you can add, modify, and delete items in a dictionary:\n",
        "\n",
        "1. Adding Items to a Dictionary\n",
        "\n",
        "You can add items to a dictionary by specifying the key and assigning it a value. If the key does not exist, it will be added to the dictionary.\n",
        "\n",
        "Example:\n",
        "\n",
        "\n",
        "\n",
        "---\n",
        "\n",
        "2. Modifying Items in a Dictionary\n",
        "\n",
        "To modify an existing item in a dictionary, you can update its value by referencing the key.\n",
        "\n",
        "Example:\n",
        "\n",
        "\n",
        "---\n",
        "\n",
        "3. Deleting Items from a Dictionary\n",
        "\n",
        "There are several ways to delete items from a dictionary:\n",
        "\n",
        "Using del keyword: Removes the specified key and its associated value.\n",
        "\n",
        "Using pop() method: Removes the key and returns the value.\n",
        "\n",
        "Using popitem() method: Removes and returns the last inserted key-value pair (for Python 3.7+).\n",
        "\n",
        "Using clear() method: Removes all key-value pairs from the dictionary.\n",
        "\n",
        "\n",
        "\n",
        "\n",
        "\n",
        "Summary\n",
        "\n",
        "Dictionaries provide flexible ways to add, modify, and delete items, making them highly useful in managing key-value data in Python."
      ],
      "metadata": {
        "id": "yA7dbAJoGMsS"
      }
    },
    {
      "cell_type": "code",
      "source": [
        "# Create a dictionary\n",
        "my_dict = {\"name\": \"Alice\", \"age\": 25}\n",
        "\n",
        "# Add a new key-value pair\n",
        "my_dict[\"city\"] = \"New York\"\n",
        "print(my_dict)  # Output: {'name': 'Alice', 'age': 25, 'city': 'New York'}\n"
      ],
      "metadata": {
        "id": "qfS-2XJXGN79"
      },
      "execution_count": null,
      "outputs": []
    },
    {
      "cell_type": "code",
      "source": [
        "Example:\n",
        "\n",
        "# Modify an existing value\n",
        "my_dict = {\"name\": \"Alice\", \"age\": 25, \"city\": \"New York\"}\n",
        "\n",
        "my_dict[\"age\"] = 26  # Modify the value associated with 'age'\n",
        "print(my_dict)  # Output: {'name': 'Alice', 'age': 26, 'city': 'New York'}\n",
        "\n",
        "# You can also use the .update() method to modify one or more items\n",
        "my_dict.update({\"city\": \"Los Angeles\", \"profession\": \"Engineer\"})\n",
        "print(my_dict)  # Output: {'name': 'Alice', 'age': 26, 'city': 'Los Angeles', 'profession': 'Engineer'}"
      ],
      "metadata": {
        "id": "1x-5_X1ZG5my",
        "colab": {
          "base_uri": "https://localhost:8080/",
          "height": 106
        },
        "outputId": "a41beed7-6802-4cbb-a352-cf9c7f0f122a"
      },
      "execution_count": 3,
      "outputs": [
        {
          "output_type": "error",
          "ename": "SyntaxError",
          "evalue": "invalid syntax (<ipython-input-3-1c2b9dc01453>, line 1)",
          "traceback": [
            "\u001b[0;36m  File \u001b[0;32m\"<ipython-input-3-1c2b9dc01453>\"\u001b[0;36m, line \u001b[0;32m1\u001b[0m\n\u001b[0;31m    Example:\u001b[0m\n\u001b[0m            ^\u001b[0m\n\u001b[0;31mSyntaxError\u001b[0m\u001b[0;31m:\u001b[0m invalid syntax\n"
          ]
        }
      ]
    },
    {
      "cell_type": "code",
      "source": [
        "Using del:\n",
        "\n",
        "my_dict = {\"name\": \"Alice\", \"age\": 25, \"city\": \"New York\"}\n",
        "\n",
        "# Delete the key 'age'\n",
        "del my_dict[\"age\"]\n",
        "print(my_dict)  # Output: {'name': 'Alice', 'city': 'New York'}"
      ],
      "metadata": {
        "id": "eROfBBiZCUSG"
      },
      "execution_count": null,
      "outputs": []
    },
    {
      "cell_type": "code",
      "source": [
        "Using pop():\n",
        "\n",
        "my_dict = {\"name\": \"Alice\", \"age\": 25, \"city\": \"New York\"}\n",
        "\n",
        "# Pop the key 'city' and get its value\n",
        "city = my_dict.pop(\"city\")\n",
        "print(city)  # Output: 'New York'\n",
        "print(my_dict)  # Output: {'name': 'Alice', 'age': 25}\n"
      ],
      "metadata": {
        "id": "cD-mS6LuCRa_"
      },
      "execution_count": null,
      "outputs": []
    },
    {
      "cell_type": "code",
      "source": [
        "Using popitem():\n",
        "\n",
        "my_dict = {\"name\": \"Alice\", \"age\": 25, \"city\": \"New York\"}\n",
        "\n",
        "# Pop the last inserted key-value pair\n",
        "last_item = my_dict.popitem()\n",
        "print(last_item)  # Output: ('city', 'New York')\n",
        "print(my_dict)  # Output: {'name': 'Alice', 'age': 25}"
      ],
      "metadata": {
        "id": "HPlv1jK7Cn8i"
      },
      "execution_count": null,
      "outputs": []
    },
    {
      "cell_type": "code",
      "source": [
        "\n",
        "\n",
        "Using clear():\n",
        "\n",
        "my_dict = {\"name\": \"Alice\", \"age\": 25, \"city\": \"New York\"}\n",
        "\n",
        "# Clear the entire dictionary\n",
        "my_dict.clear()\n",
        "print(my_dict)  # Output: {}"
      ],
      "metadata": {
        "id": "8LY5O58EHD2T"
      },
      "execution_count": null,
      "outputs": []
    },
    {
      "cell_type": "markdown",
      "source": [
        "Question 8.Discuss the importance of dictionary keys being immutable and provide examples\n",
        "\n",
        "Answer:-Importance of Dictionary Keys Being Immutable in Python\n",
        "\n",
        "In Python, dictionary keys must be immutable because they are used in hashing operations. When you use a key in a dictionary, Python applies a hashing function to the key to determine where it should store the associated value. Immutable objects like strings, numbers, and tuples have a fixed hash value during their lifetime, which ensures that their position in the hash table remains consistent.\n",
        "\n",
        "Mutable objects like lists or dictionaries, on the other hand, can change after being created. If a mutable object were used as a key, its hash value could change if the object is modified, causing issues with retrieving the corresponding value in the dictionary.\n",
        "\n",
        "Here’s why immutability is important for dictionary keys:\n",
        "\n",
        "1. Consistency of Hash Value: The key's hash must remain constant so that Python can reliably find or store data in the dictionary.\n",
        "\n",
        "\n",
        "2. Efficiency: Immutability ensures that lookups remain fast, as hash values can be computed once and used consistently throughout the program.\n",
        "\n",
        "\n",
        "3. Security and Integrity: Using immutable keys ensures that the structure of the dictionary remains intact and avoids unexpected changes during runtime.\n",
        "\n",
        "\n",
        "\n",
        "\n",
        "---\n",
        "\n",
        "Examples in Python\n",
        "\n",
        "1. Using Immutable Types (Allowed as Keys): Immutable types like strings, numbers, and tuples can be used as dictionary keys because their hash values do not change after creation.\n",
        "\n",
        "Example 1: Using Strings as Keys\n",
        "\n",
        "\n",
        "\n",
        "Example 2: Using Tuples as Keys\n",
        "\n",
        "\n",
        "\n",
        "Example 3: Using Numbers as Keys\n",
        "\n",
        "\n",
        "\n",
        "\n",
        "2. Using Mutable Types (Not Allowed as Keys): Mutable objects like lists cannot be used as dictionary keys because their content can change, which would make their hash value inconsistent.\n",
        "\n",
        "Example of Using a List as a Key (Raises Error):\n",
        "\n",
        "\n",
        "\n",
        "\n",
        "\n",
        "3. Immutable Tuple vs. Mutable List: A tuple can be used as a key, but a list cannot, even though both can store multiple values. The difference is that a tuple is immutable, while a list is mutable.\n",
        "\n",
        "Example:\n",
        "\n",
        "\n",
        "\n",
        "---\n",
        "\n",
        "Why Immutability is Critical\n",
        "\n",
        "1. Hash Consistency: If keys were mutable, changes to a key's value would result in changes to its hash value. For example, if a list was used as a key and its content was altered, Python would no longer be able to find the corresponding value because the key’s hash has changed.\n",
        "\n",
        "Example:\n",
        "\n",
        "\n",
        "\n",
        "2. Efficiency: Immutable keys ensure that dictionary lookups are always efficient. When you look up a value using a key, Python performs a hash computation only once per key. If keys were mutable, this process would become inefficient because Python would need to check if the key had changed and recalculate its hash every time.\n",
        "\n",
        "\n",
        "3. Data Integrity: Immutability ensures that once a key-value pair is inserted into the dictionary, the key cannot be accidentally or maliciously changed. This guarantees that dictionary lookups will always return consistent results.\n",
        "\n",
        "\n",
        "\n",
        "\n",
        "---\n",
        "\n",
        "Summary\n",
        "\n",
        "Dictionary keys must be immutable because they are hashed and used to store and retrieve values efficiently.\n",
        "\n",
        "Immutable types like strings, numbers, and tuples are allowed as dictionary keys, while mutable types like lists and dictionaries are not.\n",
        "\n",
        "Ensuring that dictionary keys are immutable guarantees consistent hash values, efficient lookups, and data integrity."
      ],
      "metadata": {
        "id": "3k9x-729HHr5"
      }
    },
    {
      "cell_type": "code",
      "source": [
        "Example 1: Using Strings as Keys\n",
        "\n",
        "my_dict = {\"name\": \"Alice\", \"age\": 25}\n",
        "print(my_dict[\"name\"])  # Output: Alice\n",
        "\n",
        "Example 2: Using Tuples as Keys\n",
        "\n",
        "coordinates = {(40.7128, -74.0060): \"New York\", (48.8566, 2.3522): \"Paris\"}\n",
        "print(coordinates[(40.7128, -74.0060)])  # Output: New York\n",
        "\n",
        "Example 3: Using Numbers as Keys\n",
        "\n",
        "prices = {1: \"apple\", 2: \"banana\", 3: \"orange\"}\n",
        "print(prices[2])  # Output: banana\n"
      ],
      "metadata": {
        "id": "ohswUEH0HILQ"
      },
      "execution_count": null,
      "outputs": []
    },
    {
      "cell_type": "code",
      "source": [
        "Example of Using a List as a Key (Raises Error):\n",
        "\n",
        "# This will raise a TypeError because lists are mutable\n",
        "my_dict = {[1, 2, 3]: \"List as key\"}\n",
        "\n",
        "The error message would be:\n",
        "\n",
        "TypeError: unhashable type: 'list'\n"
      ],
      "metadata": {
        "id": "K9fOOMj4J7jE"
      },
      "execution_count": null,
      "outputs": []
    },
    {
      "cell_type": "code",
      "source": [
        "Example:\n",
        "\n",
        "# Tuple as a key (works because tuples are immutable)\n",
        "my_dict = {(1, 2, 3): \"tuple as key\"}\n",
        "print(my_dict[(1, 2, 3)])  # Output: tuple as key\n",
        "\n",
        "# List as a key (raises an error)\n",
        "my_dict = {[1, 2, 3]: \"list as key\"}  # Raises TypeError\n"
      ],
      "metadata": {
        "id": "NQY7koGQKGZd"
      },
      "execution_count": null,
      "outputs": []
    },
    {
      "cell_type": "code",
      "source": [
        "Example:\n",
        "\n",
        "my_dict = {1: \"one\"}\n",
        "# Imagine if we had a list as a key, and then modified the list\n",
        "key = [1, 2, 3]\n",
        "my_dict[key] = \"list key\"\n",
        "key.append(4)  # Now the list has changed, its hash would change too\n",
        "# Python wouldn't be able to locate this key anymore"
      ],
      "metadata": {
        "id": "PJLnsV2vKN1L"
      },
      "execution_count": null,
      "outputs": []
    }
  ]
}