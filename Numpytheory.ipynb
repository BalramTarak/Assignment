{
  "nbformat": 4,
  "nbformat_minor": 0,
  "metadata": {
    "colab": {
      "provenance": []
    },
    "kernelspec": {
      "name": "python3",
      "display_name": "Python 3"
    },
    "language_info": {
      "name": "python"
    }
  },
  "cells": [
    {
      "cell_type": "markdown",
      "source": [
        "#Q1. Explain the purpose and advantages of NumPy in scientific computing and data analysis. How does it enhance Python's capabilities for numerical operations?\n",
        "\n",
        "#Answer:- NumPy (Numerical Python) is a core library for scientific computing in Python, widely used for numerical and matrix operations, data analysis, and more. It provides a high-performance, multidimensional array object and tools for working with these arrays. Here's an explanation of its purpose and advantages:\n",
        "\n",
        "Purpose of NumPy:\n",
        "Efficient Array Handling: NumPy is designed to work with large, multi-dimensional arrays and matrices. Its main data structure is the ndarray, a highly efficient array that supports vectorized operations, making it ideal for numerical computation.\n",
        "\n",
        "Mathematical Operations: NumPy provides a wide array of mathematical functions (e.g., linear algebra, statistics, Fourier transforms, etc.) to manipulate arrays and perform complex numerical calculations in a straightforward way.\n",
        "\n",
        "Integration with Other Libraries: Many popular scientific libraries like SciPy, Pandas, and scikit-learn rely on NumPy for array manipulation and mathematical operations. This makes NumPy an essential foundation for scientific computing in Python.\n",
        "\n",
        "Advantages of NumPy:\n",
        "Performance:\n",
        "\n",
        "Vectorized Operations: NumPy allows you to perform operations on entire arrays without needing explicit for-loops in Python. These operations are highly optimized, making them much faster than using standard Python lists.\n",
        "Memory Efficiency: NumPy arrays consume less memory and allow for better memory management compared to regular Python lists, particularly for large datasets.\n",
        "Compiled Code: NumPy is implemented in C, which means it takes advantage of low-level optimizations, enabling it to handle large-scale computations much faster than pure Python code.\n",
        "Easy-to-Use:\n",
        "\n",
        "Array Manipulation: NumPy provides a rich set of functions to easily manipulate arrays (e.g., reshaping, slicing, aggregating, etc.) in ways that are concise and easy to understand.\n",
        "Concise Syntax: NumPy allows operations to be written more concisely and intuitively compared to traditional Python loops.\n",
        "Multidimensional Arrays:\n",
        "\n",
        "NumPy's ndarray is a flexible, multidimensional array that can represent matrices, tensors, and even higher-dimensional data structures, which are common in fields like machine learning, physics simulations, and image processing.\n",
        "Broadcasting:\n",
        "\n",
        "One of the key features of NumPy is its broadcasting ability, which automatically expands arrays of different shapes so that element-wise operations can be performed without needing to explicitly reshape or replicate data. This simplifies operations when working with arrays of different sizes and dimensions.\n",
        "Mathematical and Statistical Functions:\n",
        "\n",
        "NumPy offers a wide range of mathematical functions (like trigonometric functions, logarithms, etc.), as well as statistical functions (mean, median, standard deviation) that can be applied directly to arrays.\n",
        "Interoperability:\n",
        "\n",
        "NumPy seamlessly integrates with other Python libraries like Pandas (for data manipulation), Matplotlib (for plotting), and SciPy (for more advanced scientific computing). This makes it a fundamental building block for data analysis and scientific computing workflows in Python.\n",
        "How NumPy Enhances Python's Capabilities:\n",
        "Efficient Numerical Computations:\n",
        "\n",
        "Standard Python lists are not optimized for numerical calculations and can be slow when performing operations on large datasets. NumPy, however, provides highly optimized arrays for numerical operations, making Python much more efficient for scientific computing.\n",
        "Vectorization:\n",
        "\n",
        "In traditional Python, looping through each element of a list to perform operations is slow. With NumPy, operations can be performed on entire arrays at once (vectorized), which eliminates the need for explicit loops and makes the code more compact and much faster.\n",
        "Handling Large Datasets:\n",
        "\n",
        "Python's native lists and arrays struggle with large datasets because they don't support efficient memory management or operations like NumPy's ndarray. NumPy provides efficient handling of large, multi-dimensional arrays without the performance penalties that would otherwise arise in pure Python.\n",
        "Mathematical Functions and Algorithms:\n",
        "\n",
        "Python itself lacks many built-in functions for advanced mathematical and scientific computation. NumPy fills this gap by providing optimized functions for tasks such as matrix multiplication, eigenvalue decomposition, and Fourier transforms.\n",
        "Example:\n",
        "Here's an example that demonstrates NumPy's capabilities in numerical operations:\n"
      ],
      "metadata": {
        "id": "0R0to6JEUvH7"
      }
    },
    {
      "cell_type": "code",
      "source": [
        "import numpy as np\n",
        "\n",
        "# Create two 2D arrays\n",
        "a = np.array([[1, 2], [3, 4]])\n",
        "b = np.array([[5, 6], [7, 8]])\n",
        "\n",
        "# Element-wise addition (vectorized)\n",
        "c = a + b\n",
        "print(c)\n",
        "\n",
        "# Matrix multiplication (optimized)\n",
        "d = np.dot(a, b)\n",
        "print(d)\n",
        "\n",
        "# Broadcasting example\n",
        "e = np.array([1, 2])\n",
        "f = np.array([[1, 2], [3, 4]])\n",
        "g = f + e  # Broadcasting adds `e` to each row of `f`\n",
        "print(g)\n"
      ],
      "metadata": {
        "id": "oWPli342WkUf"
      },
      "execution_count": null,
      "outputs": []
    },
    {
      "cell_type": "markdown",
      "source": [
        "\n",
        "#Q2. Compare and contrast np.mean() and np.average() functions in NumPy. When would you use one over the other?\n",
        "\n",
        "#Answer:-\n",
        "np.mean(): Calculates the mean of elements along the specified axis.\n",
        "\n",
        "np.average(): Similar to mean but allows for weighted averages using the weights parameter.\n",
        "\n",
        "When to use: Use np.mean() for simple averages, and np.average() when you need to apply weights to different elements.\n",
        "\n",
        "In NumPy, both np.mean() and np.average() are used to calculate the average of an array, but they have a key difference:\n",
        "\n",
        "1. np.mean():\n",
        "What it does: Calculates the arithmetic mean (simple average) of an array, where all elements are treated equally.\n",
        "When to use: Use np.mean() when you just want to find the average of the array without any special weighting.\n",
        "Example:\n",
        "\n",
        "python\n",
        "\n",
        "2. np.average():\n",
        "What it does: Calculates the mean, but allows you to apply weights to the elements. Weights allow certain values to contribute more or less to the average.\n",
        "When to use: Use np.average() when you need to calculate a weighted average, where each element has a different importance (weight).\n",
        "Example:\n",
        "\n",
        "python\n",
        "\n",
        "Key Differences:\n",
        "np.mean(): Calculates a simple, unweighted average.\n",
        "np.average(): Can calculate a weighted average if you provide weights.\n",
        "When to use each:\n",
        "Use np.mean() when you don’t need weights and just want the regular average.\n",
        "Use np.average() when you need to compute a weighted average (some values should count more than others).\n",
        "\n",
        "\n",
        "\n",
        "\n",
        "\n",
        "\n",
        "\n"
      ],
      "metadata": {
        "id": "-mt-w5PQUyJS"
      }
    },
    {
      "cell_type": "code",
      "source": [
        "import numpy as np\n",
        "data = np.array([1, 2, 3, 4, 5])\n",
        "result = np.mean(data)\n"
      ],
      "metadata": {
        "id": "JIq-wx8FZEyL"
      },
      "execution_count": null,
      "outputs": []
    },
    {
      "cell_type": "code",
      "source": [
        "import numpy as np\n",
        "data = np.array([1, 2, 3, 4, 5])\n",
        "weights = np.array([0.1, 0.1, 0.2, 0.3, 0.3])\n",
        "result = np.average(data, weights=weights)\n"
      ],
      "metadata": {
        "id": "aGCjKTsaZLO0"
      },
      "execution_count": null,
      "outputs": []
    },
    {
      "cell_type": "markdown",
      "source": [
        "\n",
        "#Q3. Describe the methods for reversing a NumPy array along different axes. Provide examples for 1D and 2Darrays.\n",
        "\n",
        "#Aswer :-Reversing a NumPy array along different axes can be done using various methods, primarily through slicing and the np.flip() function. The process differs slightly depending on whether the array is 1D or 2D. Here's a theoretical overview of how these methods work:\n",
        "\n",
        "1. Reversing a 1D NumPy Array\n",
        "For a 1D array, the simplest way to reverse the array is by using slicing. Slicing allows you to specify a range of elements, and by using a step of -1, you can reverse the order of the array.\n",
        "\n",
        "Method: Slicing\n",
        "Slicing Syntax: array[::-1]\n",
        "Here, : specifies that we are taking the entire array, and -1 indicates that we are stepping through the array backwards, effectively reversing it.\n",
        "Example:\n",
        "For a 1D array arr = [1, 2, 3, 4, 5], applying arr[::-1] will reverse the order of elements to [5, 4, 3, 2, 1].\n",
        "\n",
        "2. Reversing a 2D NumPy Array\n",
        "For 2D arrays, the reversal can be done along different axes:\n",
        "\n",
        "Rows (along the first axis, axis=0)\n",
        "Columns (along the second axis, axis=1)\n",
        "Method 1: Reversing Along Rows (axis=0)\n",
        "To reverse the rows of a 2D array, you slice along the first axis (the row axis). This effectively reverses the order of rows, but keeps the elements within each row unchanged.\n",
        "\n",
        "Slicing Syntax: array[::-1, :]\n",
        "[::-1] reverses the rows (along axis 0), while : keeps all columns for each row.\n",
        "Example:\n",
        "For a 2D array:\n",
        "\n",
        "lua\n",
        "\n",
        "Using arr[::-1, :] will reverse the rows:\n",
        "\n",
        "lua\n",
        "\n",
        "Method 2: Reversing Along Columns (axis=1)\n",
        "To reverse the columns of a 2D array, you slice along the second axis (the column axis). This reverses the order of the elements within each row.\n",
        "\n",
        "Slicing Syntax: array[:, ::-1]\n",
        ": keeps all rows, and [::-1] reverses the elements within each row (along axis 1).\n",
        "Example:\n",
        "For a 2D array:\n",
        "\n",
        "lua\n",
        "\n",
        "Using arr[:, ::-1] will reverse the columns:\n",
        "\n",
        "lua\n",
        "\n",
        "3. Using np.flip() for Reversal\n",
        "NumPy also provides the np.flip() function, which allows you to reverse an array along a specific axis. This function is more flexible and easier to read when you need to reverse along specific axes, especially for higher-dimensional arrays.\n",
        "\n",
        "Method 1: np.flip() to Reverse Along Rows (axis=0)\n",
        "Syntax: np.flip(array, axis=0)\n",
        "This will reverse the order of the rows (along axis 0), while leaving the columns unchanged.\n",
        "Method 2: np.flip() to Reverse Along Columns (axis=1)\n",
        "Syntax: np.flip(array, axis=1)\n",
        "This will reverse the order of the columns (along axis 1), while leaving the rows unchanged.\n",
        "Example:\n",
        "For a 2D array:\n",
        "\n",
        "lua\n",
        "\n",
        "Reversing along rows:\n",
        "\n",
        "python\n",
        "Copy code\n",
        "np.flip(arr, axis=0)  # Output: [[7, 8, 9], [4, 5, 6], [1, 2, 3]]\n",
        "Reversing along columns:\n",
        "\n",
        "python\n",
        "Copy code\n",
        "np.flip(arr, axis=1)  # Output: [[3, 2, 1], [6, 5, 4], [9, 8, 7]]\n",
        "Method 3: Reversing the Entire Array\n",
        "If you want to reverse the entire array (both rows and columns), you can use np.flip() without specifying an axis, or use slicing in both dimensions.\n",
        "\n",
        "Syntax: np.flip(array) or array[::-1, ::-1]\n",
        "Summary of Reversal Methods:\n",
        "1D Arrays:\n",
        "Use slicing ([::-1]) or np.flip() to reverse a 1D array.\n",
        "2D Arrays:\n",
        "Reversing Rows: Use slicing ([::-1, :]) or np.flip(array, axis=0) to reverse rows.\n",
        "Reversing Columns: Use slicing ([:, ::-1]) or np.flip(array, axis=1) to reverse columns.\n",
        "Reversing Entire Array: Use np.flip(array) or slicing ([::-1, ::-1]) to reverse both rows and columns.\n",
        "Each of these methods provides a way to reverse an array, and you can choose based on the complexity and specific needs of your problem, such as whether you need to reverse along a specific axis or the entire array."
      ],
      "metadata": {
        "id": "bHtLFzNPU5PG"
      }
    },
    {
      "cell_type": "code",
      "source": [
        "[[1, 2, 3],\n",
        " [4, 5, 6],\n",
        " [7, 8, 9]]\n"
      ],
      "metadata": {
        "id": "KoESJ4iwbnym"
      },
      "execution_count": null,
      "outputs": []
    },
    {
      "cell_type": "code",
      "source": [
        "[[7, 8, 9],\n",
        " [4, 5, 6],\n",
        " [1, 2, 3]]\n"
      ],
      "metadata": {
        "id": "ewX54NrQbn2k"
      },
      "execution_count": null,
      "outputs": []
    },
    {
      "cell_type": "code",
      "source": [
        "[[1, 2, 3],\n",
        " [4, 5, 6],\n",
        " [7, 8, 9]]\n"
      ],
      "metadata": {
        "id": "jhzDEM86bn8c"
      },
      "execution_count": null,
      "outputs": []
    },
    {
      "cell_type": "code",
      "source": [
        "[[3, 2, 1],\n",
        " [6, 5, 4],\n",
        " [9, 8, 7]]\n"
      ],
      "metadata": {
        "id": "NERKva-vboL8"
      },
      "execution_count": null,
      "outputs": []
    },
    {
      "cell_type": "code",
      "source": [
        "[[1, 2, 3],\n",
        " [4, 5, 6],\n",
        " [7, 8, 9]]\n"
      ],
      "metadata": {
        "id": "I-_0j_q1cBdG"
      },
      "execution_count": null,
      "outputs": []
    },
    {
      "cell_type": "code",
      "source": [
        "np.flip(arr, axis=0)  # Output: [[7, 8, 9], [4, 5, 6], [1, 2, 3]]\n"
      ],
      "metadata": {
        "id": "XOEgB05GcBnd"
      },
      "execution_count": null,
      "outputs": []
    },
    {
      "cell_type": "code",
      "source": [
        "np.flip(arr, axis=1)  # Output: [[3, 2, 1], [6, 5, 4], [9, 8, 7]]\n"
      ],
      "metadata": {
        "id": "2oF8QQQXcBw0"
      },
      "execution_count": null,
      "outputs": []
    },
    {
      "cell_type": "markdown",
      "source": [
        "\n",
        "#Q4. How can you determine the data type of elements in a NumPy array? Discuss the importance of data types in memory management and performance.\n",
        "\n",
        "#answer:- Determining the Data Type of Elements in a NumPy Array\n",
        "In NumPy, you can determine the data type of the elements in an array using the dtype attribute. This attribute provides information about the type of the elements stored in the array.\n",
        "\n",
        "Syntax:\n",
        "python\n",
        "Copy code\n",
        "array.dtype\n",
        "dtype: This is an attribute of a NumPy array that returns the data type (type of the elements) of the array.\n",
        "Example:\n",
        "python\n",
        "Copy code\n",
        "import numpy as np\n",
        "\n",
        "# Create a NumPy array\n",
        "arr = np.array([1, 2, 3, 4, 5])\n",
        "\n",
        "# Check the data type of the array elements\n",
        "print(arr.dtype)  # Output: int64 (or a platform-specific integer type)\n",
        "Explanation: In the above example, arr.dtype will return int64, indicating that the elements in the array are of type int64.\n",
        "Common NumPy Data Types:\n",
        "Some of the common NumPy data types include:\n",
        "\n",
        "int: Integer types (int8, int16, int32, int64)\n",
        "float: Floating-point types (float32, float64)\n",
        "complex: Complex numbers (complex64, complex128)\n",
        "bool: Boolean type (bool)\n",
        "str: String type (str_, unicode_)\n",
        "Importance of Data Types in Memory Management and Performance\n",
        "1. Memory Efficiency:\n",
        "Data types play a crucial role in determining the amount of memory used by a NumPy array. The memory footprint of an array is directly affected by the type of data it holds. Different data types have different memory requirements.\n",
        "\n",
        "Example: An int64 type consumes 8 bytes per element, while an int32 type consumes only 4 bytes per element. Choosing the appropriate data type can significantly save memory, especially when working with large datasets.\n",
        "\n",
        "Memory Usage Comparison:\n",
        "\n",
        "python\n",
        "Copy code\n",
        "import numpy as np\n",
        "\n",
        "# Create arrays with different data types\n",
        "arr_int32 = np.array([1, 2, 3], dtype=np.int32)\n",
        "arr_int64 = np.array([1, 2, 3], dtype=np.int64)\n",
        "\n",
        "print(arr_int32.itemsize)  # Output: 4 bytes (for int32)\n",
        "print(arr_int64.itemsize)  # Output: 8 bytes (for int64)\n",
        "The itemsize attribute tells you how many bytes each element in the array uses. In this example, the int64 array consumes more memory than the int32 array.\n",
        "\n",
        "2. Performance Implications:\n",
        "The choice of data type also affects computation speed. Generally, smaller data types (such as int8 or float32) are processed faster than larger data types (such as int64 or float64) because they require less memory and can be accessed more quickly from memory. However, using too small a data type can lead to overflow or loss of precision, especially with floating-point or integer operations.\n",
        "\n",
        "Computational Speed: Operations on smaller data types often result in faster execution because:\n",
        "Less memory needs to be read or written.\n",
        "Smaller types are easier to fit into processor registers, leading to more efficient calculations.\n",
        "Precision Considerations: While smaller data types can speed up computation, they may introduce issues:\n",
        "Integer overflow: An int8 can only represent values from -128 to 127. If a calculation exceeds this range, it will overflow.\n",
        "Floating-point precision: float32 has less precision than float64. This can be a concern in applications requiring high precision, like scientific computing.\n",
        "3. Type Coercion and Compatibility:\n",
        "In NumPy, when you perform operations between arrays of different types, NumPy will automatically promote (or upcast) the arrays to a compatible data type to avoid losing information. This is important for maintaining the correctness of calculations.\n",
        "\n",
        "For example, when performing arithmetic between a float64 and an int32 array, NumPy will upcast the int32 array to float64 because floating-point operations require greater precision.\n",
        "Example of Type Promotion:\n",
        "python\n",
        "Copy code\n",
        "arr_int = np.array([1, 2, 3], dtype=np.int32)\n",
        "arr_float = np.array([1.1, 2.2, 3.3], dtype=np.float64)\n",
        "\n",
        "result = arr_int + arr_float\n",
        "print(result.dtype)  # Output: float64\n",
        "In this case, the int32 array is promoted to float64 to perform the addition with the float64 array, ensuring no data loss.\n",
        "\n",
        "Best Practices for Choosing Data Types:\n",
        "Choose the smallest type that fits your data: For example, if you know your data contains only small integers, use np.int8 or np.int16 to save memory.\n",
        "Consider precision: If your computations require high precision (such as in scientific calculations), use float64 instead of float32.\n",
        "Avoid unnecessary large types: Using np.int64 when np.int32 would suffice can waste memory and reduce performance.\n",
        "Use np.float32 for large datasets in machine learning: For many machine learning tasks, float32 is often a good compromise between memory usage and precision.\n",
        "\n",
        "\n",
        "Summary:\n",
        "dtype is the attribute used to determine the data type of the elements in a NumPy array.\n",
        "Choosing the correct data type is important for memory management (to save space) and performance (to optimize computation speed).\n",
        "Smaller data types (e.g., int8, float32) use less memory and may be faster to process but can lose precision or cause overflow. Larger data types (e.g., int64, float64) offer more precision but use more memory and may be slower to process.\n",
        "The right choice of data type can significantly impact both the performance and memory usage of your program, especially when dealing with large datasets."
      ],
      "metadata": {
        "id": "_oD7df0SVK5v"
      }
    },
    {
      "cell_type": "code",
      "source": [
        "array.dtype\n"
      ],
      "metadata": {
        "id": "KnQWvbnmf9Ud"
      },
      "execution_count": null,
      "outputs": []
    },
    {
      "cell_type": "code",
      "source": [
        "import numpy as np\n",
        "\n",
        "# Create a NumPy array\n",
        "arr = np.array([1, 2, 3, 4, 5])\n",
        "\n",
        "# Check the data type of the array elements\n",
        "print(arr.dtype)\n"
      ],
      "metadata": {
        "id": "moD1NKaNdOEG"
      },
      "execution_count": null,
      "outputs": []
    },
    {
      "cell_type": "code",
      "source": [
        "import numpy as np\n",
        "\n",
        "# Create arrays with different data types\n",
        "arr_int32 = np.array([1, 2, 3], dtype=np.int32)\n",
        "arr_int64 = np.array([1, 2, 3], dtype=np.int64)\n",
        "\n",
        "print(arr_int32.itemsize)  # Output: 4 bytes (for int32)\n",
        "print(arr_int64.itemsize)  # Output: 8 bytes (for int64)\n"
      ],
      "metadata": {
        "id": "N9pI6XjzgVcs"
      },
      "execution_count": null,
      "outputs": []
    },
    {
      "cell_type": "code",
      "source": [
        "arr_int = np.array([1, 2, 3], dtype=np.int32)\n",
        "arr_float = np.array([1.1, 2.2, 3.3], dtype=np.float64)\n",
        "\n",
        "result = arr_int + arr_float\n",
        "print(result.dtype)  # Output: float64\n"
      ],
      "metadata": {
        "id": "B-06j_c-gl9_"
      },
      "execution_count": null,
      "outputs": []
    },
    {
      "cell_type": "markdown",
      "source": [
        "#Q5.Define ndarrays in NumPy and explain their key features. How do they differ from standard Python lists?\n",
        "\n",
        "#Answer:-  ndarray: In NumPy, the ndarray (N-dimensional array) is the core data structure that represents a multi-dimensional, homogeneous array. The ndarray class provides an efficient interface for storing and manipulating large datasets, especially numerical data.\n",
        "\n",
        "Key Features of ndarray:\n",
        "\n",
        "1.Homogeneous: All elements of an ndarray must be of the same data type (e.g., integers, floats).\n",
        "\n",
        "2.Multidimensional: It can represent 1D, 2D, and higher-dimensional arrays (matrices, tensors, etc.).\n",
        "\n",
        "3.Fixed Size: Once created, the size of an ndarray cannot be changed. This contrasts with Python lists, which can be resized.\n",
        "\n",
        "4.Efficient: NumPy arrays are stored in contiguous memory locations, making them more efficient than Python lists for large datasets, both in terms of space and speed.\n",
        "\n",
        "5.Vectorized Operations: NumPy allows element-wise operations without explicit loops, which leads to more concise and faster code.\n",
        "\n",
        "6.Element-wise access and manipulation: Operations on NumPy arrays are applied to entire arrays rather than individual elements (which is a common practice in Python lists).\n",
        "\n",
        "\n",
        "Differences from Python Lists:\n",
        "\n",
        "1.Data type: Python lists can contain elements of different types, whereas NumPy arrays are homogeneous (same type).\n",
        "\n",
        "2.Performance: NumPy arrays are stored more efficiently (in contiguous blocks of memory), leading to better performance for large datasets, especially in numerical computations.\n",
        "\n",
        "3.Operations: NumPy allows vectorized operations that apply an operation across all elements of the array, which is not easily achievable with Python lists.\n",
        "\n",
        "4.Size and Memory: Python lists can grow dynamically, but NumPy arrays have a fixed size and are more memory-efficient for large datasets.\n",
        "\n",
        "\n"
      ],
      "metadata": {
        "id": "o1BV-3ergye-"
      }
    },
    {
      "cell_type": "markdown",
      "source": [
        "#Q6. Analyze the performance benefits of NumPy arrays over Python lists for large-scale numerical operations\n",
        "\n",
        "#Answer Performance Benefits:\n",
        "\n",
        "Speed: NumPy arrays are implemented in C and stored in contiguous memory blocks, which allows for faster access and operations compared to Python lists, which are implemented in Python and store references to objects in non-contiguous memory.\n",
        "\n",
        "Vectorization: NumPy allows element-wise operations (vectorization) without explicit Python loops. This is more efficient because the operations are executed in optimized C code rather than interpreted Python code.\n",
        "\n",
        "Memory Efficiency: NumPy arrays consume less memory because they store data in a fixed-size, homogeneous format. In contrast, Python lists store references to objects, which require more memory.\n",
        "\n",
        "Better Cache Performance: NumPy arrays are stored contiguously in memory, leading to better cache locality and reduced overhead in accessing elements. This is a significant performance advantage when dealing with large datasets.\n",
        "\n",
        "In general, for large-scale numerical computations (e.g., matrix operations, scientific computing), NumPy arrays provide performance improvements in both speed and memory efficiency compared to Python lists."
      ],
      "metadata": {
        "id": "smcut62Tl__W"
      }
    },
    {
      "cell_type": "markdown",
      "source": [
        "#Q7. Compare vstack() and hstack() functions in NumPy. Provide examples demonstrating their usage andoutput.\n",
        "\n",
        "#answer:-\n",
        "vstack(): Stacks arrays in sequence vertically (row-wise), i.e., along axis 0.\n",
        "\n",
        "hstack(): Stacks arrays in sequence horizontally (column-wise), i.e., along axis 1."
      ],
      "metadata": {
        "id": "LkUf1MQ4eytx"
      }
    },
    {
      "cell_type": "code",
      "source": [
        "import numpy as np\n",
        "\n",
        "# Create two 2D arrays\n",
        "arr1 = np.array([[1, 2], [3, 4]])\n",
        "arr2 = np.array([[5, 6], [7, 8]])\n",
        "\n",
        "# Vertical stacking (row-wise)\n",
        "v_result = np.vstack((arr1, arr2))\n",
        "print(\"Vertical Stack:\\n\", v_result)\n",
        "\n",
        "# Horizontal stacking (column-wise)\n",
        "h_result = np.hstack((arr1, arr2))\n",
        "print(\"Horizontal Stack:\\n\", h_result)\n"
      ],
      "metadata": {
        "id": "0x4D_FMNfYJR"
      },
      "execution_count": null,
      "outputs": []
    },
    {
      "cell_type": "code",
      "source": [
        "Vertical Stack:\n",
        " [[1 2]\n",
        " [3 4]\n",
        " [5 6]\n",
        " [7 8]]\n",
        "\n",
        "Horizontal Stack:\n",
        " [[1 2 5 6]\n",
        " [3 4 7 8]]\n"
      ],
      "metadata": {
        "id": "_MkpLHnvfZK3"
      },
      "execution_count": null,
      "outputs": []
    },
    {
      "cell_type": "markdown",
      "source": [
        "#Q8. Explain the differences between fliplr() and flipud() methods in NumPy, including their effects on variousarray dimensions.\n",
        "\n",
        "#Answer:-\n",
        "fliplr(): This function flips the array left to right, meaning it reverses the order of elements along each row (axis 1).\n",
        "\n",
        "flipud(): This function flips the array upside down, meaning it reverses the order of rows (along axis 0)."
      ],
      "metadata": {
        "id": "JcQlaOD7fETY"
      }
    },
    {
      "cell_type": "code",
      "source": [
        "import numpy as np\n",
        "\n",
        "arr = np.array([[1, 2, 3], [4, 5, 6]])\n",
        "\n",
        "# Flip left to right\n",
        "fliplr_result = np.fliplr(arr)\n",
        "print(\"Flipped Left to Right:\\n\", fliplr_result)\n",
        "\n",
        "# Flip upside down\n",
        "flipud_result = np.flipud(arr)\n",
        "print(\"Flipped Upside Down:\\n\", flipud_result)\n"
      ],
      "metadata": {
        "id": "HXxmwxLSjfxO"
      },
      "execution_count": null,
      "outputs": []
    },
    {
      "cell_type": "code",
      "source": [
        "Flipped Left to Right:\n",
        " [[3 2 1]\n",
        " [6 5 4]]\n",
        "\n",
        "Flipped Upside Down:\n",
        " [[4 5 6]\n",
        " [1 2 3]]\n"
      ],
      "metadata": {
        "id": "vN-aNKDfjk_X"
      },
      "execution_count": null,
      "outputs": []
    },
    {
      "cell_type": "markdown",
      "source": [
        "#Q9. Discuss the functionality of the array_split() method in NumPy. How does it handle uneven splits?\n",
        "#Answer:-\n",
        "array_split(): This function splits an array into multiple sub-arrays. Unlike split(), which requires the number of splits to divide the array exactly, array_split() allows for uneven splits.\n",
        "\n",
        "Even splits: When the size of the array is divisible by the number of splits, the function divides the array into equal sub-arrays.\n",
        "Uneven splits: When the size is not evenly divisible, array_split() tries to distribute the extra elements as evenly as possible across the sub-arrays.\n",
        "Example:\n"
      ],
      "metadata": {
        "id": "NYoID3N6jmRT"
      }
    },
    {
      "cell_type": "code",
      "source": [
        "import numpy as np\n",
        "\n",
        "arr = np.arange(10)\n",
        "\n",
        "# Split the array into 3 parts\n",
        "split_result = np.array_split(arr, 3)\n",
        "print(\"Split Array:\", split_result)\n"
      ],
      "metadata": {
        "id": "6_ww9sWjjwre"
      },
      "execution_count": null,
      "outputs": []
    },
    {
      "cell_type": "code",
      "source": [
        "Split Array: [array([0, 1, 2, 3]), array([4, 5, 6]), array([7, 8, 9])]\n"
      ],
      "metadata": {
        "id": "5pvfvJ4DkRZI"
      },
      "execution_count": null,
      "outputs": []
    },
    {
      "cell_type": "markdown",
      "source": [
        "Here, the array [0, 1, 2, 3, 4, 5, 6, 7, 8, 9] is split into 3 sub-arrays. The first sub-array has 4 elements, and the other two have 3 elements each, demonstrating the handling of uneven splits."
      ],
      "metadata": {
        "id": "Cr3xK0lokXeq"
      }
    },
    {
      "cell_type": "markdown",
      "source": [
        "#Q10. Explain the concepts of vectorization and broadcasting in NumPy. How do they contribute to efficient array operations?\n",
        "\n",
        "#Answer\n",
        "\n",
        "Vectorization: This refers to the ability to apply operations on entire arrays (or parts of arrays) without using explicit loops. This is made possible because NumPy internally uses optimized, low-level code (usually in C) to perform operations on whole arrays at once, leading to faster execution.\n",
        "\n",
        "Example of vectorization:"
      ],
      "metadata": {
        "id": "sGUjOuHojw7E"
      }
    },
    {
      "cell_type": "code",
      "source": [
        "arr1 = np.array([1, 2, 3])\n",
        "arr2 = np.array([4, 5, 6])\n",
        "result = arr1 + arr2  # Element-wise addition without a loop\n",
        "print(result)  # Output: [5 7 9]\n"
      ],
      "metadata": {
        "id": "50E6XFkAknZk"
      },
      "execution_count": null,
      "outputs": []
    },
    {
      "cell_type": "markdown",
      "source": [
        "Broadcasting: This is a powerful feature of NumPy that allows for arithmetic operations on arrays of different shapes and sizes. NumPy automatically \"broadcasts\" the smaller array to the shape of the larger array during the operation. Broadcasting rules ensure that arrays with compatible shapes can be used together in element-wise operations.\n",
        "\n",
        "Example of broadcasting:\n",
        "\n",
        "\n"
      ],
      "metadata": {
        "id": "TuJsTjLHkZJr"
      }
    },
    {
      "cell_type": "code",
      "source": [
        "arr = np.array([1, 2, 3])\n",
        "scalar = 10\n",
        "result = arr + scalar  # Scalar is broadcasted to match the shape of arr\n",
        "print(result)  # Output: [11 12 13]\n"
      ],
      "metadata": {
        "id": "TiADXWcSkx8F"
      },
      "execution_count": null,
      "outputs": []
    },
    {
      "cell_type": "markdown",
      "source": [
        "Contributions to Efficiency:\n",
        "\n",
        "Vectorization eliminates the need for explicit Python loops, making operations on large arrays much faster and more memory-efficient.\n",
        "Broadcasting allows for operations between arrays of different shapes without explicit reshaping or looping, avoiding unnecessary memory allocations and improving computation speed.\n",
        "\n",
        "\n"
      ],
      "metadata": {
        "id": "-KFxqvUek9rl"
      }
    }
  ]
}