{
  "nbformat": 4,
  "nbformat_minor": 0,
  "metadata": {
    "colab": {
      "provenance": []
    },
    "kernelspec": {
      "name": "python3",
      "display_name": "Python 3"
    },
    "language_info": {
      "name": "python"
    }
  },
  "cells": [
    {
      "cell_type": "code",
      "execution_count": null,
      "metadata": {
        "id": "Fxjp2kEenxg7"
      },
      "outputs": [],
      "source": []
    },
    {
      "cell_type": "markdown",
      "source": [
        "#Q1. Create a 3x3 NumPy array with random integers between 1 and 100. Then, interchange its rows and columns.\n"
      ],
      "metadata": {
        "id": "u1-l1ZD1qYEW"
      }
    },
    {
      "cell_type": "code",
      "source": [
        "import numpy as np\n",
        "\n",
        "# Create a 3x3 array with random integers between 1 and 100\n",
        "arr = np.random.randint(1, 101, size=(3, 3))\n",
        "print(\"Original Array:\")\n",
        "print(arr)\n",
        "\n",
        "# Interchange rows and columns (transpose the array)\n",
        "transposed_arr = arr.T\n",
        "print(\"\\nTransposed Array (rows and columns interchanged):\")\n",
        "print(transposed_arr)\n"
      ],
      "metadata": {
        "id": "OiG8nOcrq7pV"
      },
      "execution_count": null,
      "outputs": []
    },
    {
      "cell_type": "markdown",
      "source": [
        "\n",
        "\n",
        "#Q2. Generate a 1D NumPy array with 10 elements. Reshape it into a 2x5 array, then into a 5x2 array.\n",
        "\n"
      ],
      "metadata": {
        "id": "va3-kCyxqYNV"
      }
    },
    {
      "cell_type": "code",
      "source": [
        "arr = np.arange(10)\n",
        "print(\"Original Array (1D):\")\n",
        "print(arr)\n",
        "\n",
        "# Reshape into 2x5 array\n",
        "arr_2x5 = arr.reshape(2, 5)\n",
        "print(\"\\nReshaped Array (2x5):\")\n",
        "print(arr_2x5)\n",
        "\n",
        "# Reshape into 5x2 array\n",
        "arr_5x2 = arr.reshape(5, 2)\n",
        "print(\"\\nReshaped Array (5x2):\")\n",
        "print(arr_5x2)\n"
      ],
      "metadata": {
        "id": "PbTsIa26q8bN"
      },
      "execution_count": null,
      "outputs": []
    },
    {
      "cell_type": "markdown",
      "source": [
        "\n",
        "#Q3. Create a 4x4 NumPy array with random float values. Add a border of zeros around it, resulting in a 6x6 array.\n",
        "\n",
        "\n"
      ],
      "metadata": {
        "id": "vmGWgIAsqYTd"
      }
    },
    {
      "cell_type": "code",
      "source": [
        "arr = np.random.random((4, 4))\n",
        "print(\"Original 4x4 Array:\")\n",
        "print(arr)\n",
        "\n",
        "# Add a border of zeros around it, resulting in a 6x6 array\n",
        "arr_with_border = np.pad(arr, pad_width=1, mode='constant', constant_values=0)\n",
        "print(\"\\nArray with Zero Border (6x6):\")\n",
        "print(arr_with_border)\n"
      ],
      "metadata": {
        "id": "TFWD485crIii"
      },
      "execution_count": null,
      "outputs": []
    },
    {
      "cell_type": "markdown",
      "source": [
        "#Q4. Using NumPy, create an array of integers from 10 to 60 with a step of 5."
      ],
      "metadata": {
        "id": "7fqfiQidqYWa"
      }
    },
    {
      "cell_type": "code",
      "source": [
        "arr = np.arange(10, 61, 5)\n",
        "print(\"Array from 10 to 60 with step 5:\")\n",
        "print(arr)\n"
      ],
      "metadata": {
        "id": "hz5NUfOxrJDs"
      },
      "execution_count": null,
      "outputs": []
    },
    {
      "cell_type": "markdown",
      "source": [
        "#Q5. Create a NumPy array of strings ['python', 'numpy', 'pandas']. Apply different case transformations (uppercase, lowercase, title case, etc.) to each element.\n",
        "\n"
      ],
      "metadata": {
        "id": "Evi6J8DorRQm"
      }
    },
    {
      "cell_type": "code",
      "source": [
        "arr = np.array(['python', 'numpy', 'pandas'])\n",
        "\n",
        "# Apply transformations\n",
        "uppercase = np.char.upper(arr)\n",
        "lowercase = np.char.lower(arr)\n",
        "titlecase = np.char.title(arr)\n",
        "\n",
        "print(\"Original Array:\")\n",
        "print(arr)\n",
        "print(\"\\nUppercase Transformation:\")\n",
        "print(uppercase)\n",
        "print(\"\\nLowercase Transformation:\")\n",
        "print(lowercase)\n",
        "print(\"\\nTitle Case Transformation:\")\n",
        "print(titlecase)\n"
      ],
      "metadata": {
        "id": "UjSi_EQ2sKts"
      },
      "execution_count": null,
      "outputs": []
    },
    {
      "cell_type": "markdown",
      "source": [
        "\n",
        "#Q6. Generate a NumPy array of words. Insert a space between each character of every word in the array.\n",
        "\n"
      ],
      "metadata": {
        "id": "IrnSyZTPrRZt"
      }
    },
    {
      "cell_type": "code",
      "source": [
        "arr = np.array(['hello', 'world', 'python'])\n",
        "\n",
        "# Insert space between each character of every word\n",
        "arr_with_spaces = np.char.join(' ', arr)\n",
        "print(\"Words with spaces between characters:\")\n",
        "print(arr_with_spaces)\n"
      ],
      "metadata": {
        "id": "b5dFinujsWuf"
      },
      "execution_count": null,
      "outputs": []
    },
    {
      "cell_type": "markdown",
      "source": [
        "\n",
        "#Q7. Create two 2D NumPy arrays and perform element-wise addition, subtraction, multiplication, and division.\n",
        "\n",
        "\n"
      ],
      "metadata": {
        "id": "CHEyyshHrRi9"
      }
    },
    {
      "cell_type": "code",
      "source": [
        "arr1 = np.array([[1, 2], [3, 4]])\n",
        "arr2 = np.array([[5, 6], [7, 8]])\n",
        "\n",
        "# Element-wise addition\n",
        "add_result = np.add(arr1, arr2)\n",
        "\n",
        "# Element-wise subtraction\n",
        "sub_result = np.subtract(arr1, arr2)\n",
        "\n",
        "# Element-wise multiplication\n",
        "mul_result = np.multiply(arr1, arr2)\n",
        "\n",
        "# Element-wise division\n",
        "div_result = np.divide(arr1, arr2)\n",
        "\n",
        "print(\"Array 1:\")\n",
        "print(arr1)\n",
        "print(\"\\nArray 2:\")\n",
        "print(arr2)\n",
        "\n",
        "print(\"\\nAddition Result:\")\n",
        "print(add_result)\n",
        "\n",
        "print(\"\\nSubtraction Result:\")\n",
        "print(sub_result)\n",
        "\n",
        "print(\"\\nMultiplication Result:\")\n",
        "print(mul_result)\n",
        "\n",
        "print(\"\\nDivision Result:\")\n",
        "print(div_result)\n"
      ],
      "metadata": {
        "id": "cKguOQ3psYpU"
      },
      "execution_count": null,
      "outputs": []
    },
    {
      "cell_type": "markdown",
      "source": [
        "#Q8. Use NumPy to create a 5x5 identity matrix, then extract its diagonal elements."
      ],
      "metadata": {
        "id": "t7IktRYzrRtV"
      }
    },
    {
      "cell_type": "code",
      "source": [
        "# Create a 5x5 identity matrix\n",
        "identity_matrix = np.eye(5)\n",
        "\n",
        "# Extract diagonal elements\n",
        "diagonal_elements = np.diagonal(identity_matrix)\n",
        "\n",
        "print(\"Identity Matrix (5x5):\")\n",
        "print(identity_matrix)\n",
        "\n",
        "print(\"\\nDiagonal Elements:\")\n",
        "print(diagonal_elements)\n"
      ],
      "metadata": {
        "id": "OmdOk_E6sf8E"
      },
      "execution_count": null,
      "outputs": []
    },
    {
      "cell_type": "markdown",
      "source": [
        "#Q9. Generate a NumPy array of 100 random integers between 0 and 1000. Find and display all prime numbers in\n",
        "this array.\n",
        "\n"
      ],
      "metadata": {
        "id": "ech8cBEnsAqG"
      }
    },
    {
      "cell_type": "code",
      "source": [
        "import sympy\n",
        "\n",
        "# Generate 100 random integers between 0 and 1000\n",
        "arr = np.random.randint(0, 1001, 100)\n",
        "\n",
        "# Find prime numbers using sympy's primerange\n",
        "primes = [num for num in arr if sympy.isprime(num)]\n",
        "\n",
        "print(\"Random Array of 100 Integers:\")\n",
        "print(arr)\n",
        "\n",
        "print(\"\\nPrime Numbers in the Array:\")\n",
        "print(primes)\n"
      ],
      "metadata": {
        "id": "54SkAVuxsll7"
      },
      "execution_count": null,
      "outputs": []
    },
    {
      "cell_type": "markdown",
      "source": [
        "\n",
        "#Q10. Create a NumPy array representing daily temperatures for a month. Calculate and display the weekly averages.\n",
        "\n",
        "\n",
        "#Answer:- Code to Generate Daily Temperatures and Calculate Weekly Averages:"
      ],
      "metadata": {
        "id": "kDP-qCoMsAy1"
      }
    },
    {
      "cell_type": "code",
      "source": [
        "import numpy as np\n",
        "\n",
        "# Create a NumPy array representing daily temperatures for a month (30 days)\n",
        "daily_temperatures = np.random.randint(0, 41, 30)  # Temperatures between 0°C and 40°C\n",
        "\n",
        "# Display the daily temperatures\n",
        "print(\"Daily Temperatures for the Month:\")\n",
        "print(daily_temperatures)\n",
        "\n",
        "# Reshape the array into a 4x7 array (4 weeks, 7 days each)\n",
        "weekly_temperatures = daily_temperatures.reshape(4, 7)\n",
        "\n",
        "# Calculate the weekly averages\n",
        "weekly_averages = weekly_temperatures.mean(axis=1)\n",
        "\n",
        "# Display the weekly averages\n",
        "print(\"\\nWeekly Averages:\")\n",
        "for week_num, avg_temp in enumerate(weekly_averages, start=1):\n",
        "    print(f\"Week {week_num}: {avg_temp:.2f}°C\")\n"
      ],
      "metadata": {
        "id": "4VBCMD8Xs6fo"
      },
      "execution_count": null,
      "outputs": []
    }
  ]
}