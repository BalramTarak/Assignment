{
  "nbformat": 4,
  "nbformat_minor": 0,
  "metadata": {
    "colab": {
      "provenance": []
    },
    "kernelspec": {
      "name": "python3",
      "display_name": "Python 3"
    },
    "language_info": {
      "name": "python"
    }
  },
  "cells": [
    {
      "cell_type": "markdown",
      "source": [
        "#Practical Questions:\n",
        "#Q1. Write a Python function that takes a list of numbers as input and returns the sum of all even numbers in the list.\n",
        "# Answer Here’s a Python function that takes a list of numbers as input and returns the sum of all even numbers in the list:\n",
        "def sum_of_even_numbers(numbers):\n",
        "\n",
        "# Using list comprehension to filter even numbers and sum them\n",
        "even_sum = sum(num for num in numbers if num % 2 == 0)\n",
        "return even_sum\n",
        "Example usage\n",
        "numbers_list = [1, 2, 3, 4, 5, 6, 7, 8] result = sum_of_even_numbers(numbers_list) print(f\"The sum of even numbers is: {result}\")\n",
        "\n",
        "Explanation:\n",
        "\n",
        "The function sum_of_even_numbers() takes a list called numbers.\n",
        "Inside the function, it uses a generator expression (num for num in numbers if num % 2 == 0) to filter even numbers (num % 2 == 0 checks if a number is even).\n",
        "The sum() function adds up all the even numbers from the list.\n",
        "Finally, the function returns the sum.\n",
        "Output:\n",
        "\n",
        "The sum of even numbers is: 20\n",
        "\n",
        "For the input list [1, 2, 3, 4, 5, 6, 7, 8], the sum of even numbers (2, 4, 6, 8) is 20.\n",
        "\n"
      ],
      "metadata": {
        "id": "uAoU3SzwKcXL"
      }
    },
    {
      "cell_type": "code",
      "source": [
        "# Using list comprehension to filter even numbers and sum them\n",
        "even_sum = sum(num for num in numbers if num % 2 == 0)\n",
        "return even_sum\n",
        "Example usage\n",
        "numbers_list = [1, 2, 3, 4, 5, 6, 7, 8] result = sum_of_even_numbers(numbers_list) print(f\"The sum of even numbers is: {result}\")"
      ],
      "metadata": {
        "colab": {
          "base_uri": "https://localhost:8080/",
          "height": 106
        },
        "id": "m_bq6-2OQrTC",
        "outputId": "40747670-7d9d-4ebe-f992-2c7db1855b4a"
      },
      "execution_count": null,
      "outputs": [
        {
          "output_type": "error",
          "ename": "SyntaxError",
          "evalue": "invalid syntax (<ipython-input-1-e2bef56a8f18>, line 4)",
          "traceback": [
            "\u001b[0;36m  File \u001b[0;32m\"<ipython-input-1-e2bef56a8f18>\"\u001b[0;36m, line \u001b[0;32m4\u001b[0m\n\u001b[0;31m    Example usage\u001b[0m\n\u001b[0m            ^\u001b[0m\n\u001b[0;31mSyntaxError\u001b[0m\u001b[0;31m:\u001b[0m invalid syntax\n"
          ]
        }
      ]
    },
    {
      "cell_type": "code",
      "source": [
        "The sum of even numbers is: 20\n",
        "\n",
        "For the input list [1, 2, 3, 4, 5, 6, 7, 8], the sum of even numbers (2, 4, 6, 8) is 20.\n"
      ],
      "metadata": {
        "colab": {
          "base_uri": "https://localhost:8080/",
          "height": 106
        },
        "id": "GGWuZliRRPKz",
        "outputId": "cfb0c88b-817c-4821-e388-4527a3f6c22d"
      },
      "execution_count": null,
      "outputs": [
        {
          "output_type": "error",
          "ename": "SyntaxError",
          "evalue": "invalid syntax (<ipython-input-2-3e024e12075c>, line 1)",
          "traceback": [
            "\u001b[0;36m  File \u001b[0;32m\"<ipython-input-2-3e024e12075c>\"\u001b[0;36m, line \u001b[0;32m1\u001b[0m\n\u001b[0;31m    The sum of even numbers is: 20\u001b[0m\n\u001b[0m        ^\u001b[0m\n\u001b[0;31mSyntaxError\u001b[0m\u001b[0;31m:\u001b[0m invalid syntax\n"
          ]
        }
      ]
    },
    {
      "cell_type": "markdown",
      "source": [
        "#Q2. Create a Python function that accepts a string and returns the reverse of that string.\n",
        "#Answer: Here’s a Python function that takes a string as input and returns the reverse of that string:\n",
        "def reverse_string(s): return s[::-1]\n",
        "\n",
        "Example usage\n",
        "input_string = \"Hello, World!\" reversed_string = reverse_string(input_string) print(f\"The reversed string is: '{reversed_string}'\")\n",
        "\n",
        "Explanation:\n",
        "\n",
        "The function reverse_string(s) takes a string s as its parameter.\n",
        "The expression s[::-1] uses Python's slicing feature to reverse the string:\n",
        "The : indicates we want to take the entire string.\n",
        "\n",
        "The -1 step means we take the elements in reverse order.\n",
        "\n",
        "The function returns the reversed string.\n",
        "Output:\n",
        "\n",
        "The reversed string is: '!dlroW ,olleH'\n",
        "\n",
        "For the input string \"Hello, World!\", the reversed string is \"!dlroW ,olleH\""
      ],
      "metadata": {
        "id": "CFudCK_TKcpM"
      }
    },
    {
      "cell_type": "code",
      "source": [
        "Example usage\n",
        "input_string = \"Hello, World!\" reversed string = reverse_string(input_string) print(f\"The reversed string is: '{reversed_string}'\")\n"
      ],
      "metadata": {
        "colab": {
          "base_uri": "https://localhost:8080/",
          "height": 106
        },
        "id": "LtLBhoRpReaI",
        "outputId": "be417ff3-90c3-43a2-b76f-fa492d787edd"
      },
      "execution_count": null,
      "outputs": [
        {
          "output_type": "error",
          "ename": "SyntaxError",
          "evalue": "invalid syntax (<ipython-input-4-a92e1bdfa872>, line 1)",
          "traceback": [
            "\u001b[0;36m  File \u001b[0;32m\"<ipython-input-4-a92e1bdfa872>\"\u001b[0;36m, line \u001b[0;32m1\u001b[0m\n\u001b[0;31m    Example usage\u001b[0m\n\u001b[0m            ^\u001b[0m\n\u001b[0;31mSyntaxError\u001b[0m\u001b[0;31m:\u001b[0m invalid syntax\n"
          ]
        }
      ]
    },
    {
      "cell_type": "markdown",
      "source": [
        "#Q3. Implement a Python function that takes a list of integers and returns a new list containing the squares of each number.\n",
        "\n",
        "answer:-Here's a Python function that takes a list of integers and returns a new list with the squares of each number:\n",
        "\n",
        "def square_numbers(numbers):\n",
        "    return [num ** 2 for num in numbers]\n",
        "\n",
        "# Example usage:\n",
        "numbers = [1, 2, 3, 4, 5]\n",
        "squared_numbers = square_numbers(numbers)\n",
        "print(squared_numbers)\n",
        "\n",
        "This will output:\n",
        "\n",
        "[1, 4, 9, 16, 25]\n",
        "\n",
        "The function uses a list comprehension to efficiently create the new list of squared values.\n",
        "\n"
      ],
      "metadata": {
        "id": "wFdyWI6QLvo7"
      }
    },
    {
      "cell_type": "code",
      "source": [
        "numbers = [1, 2, 3, 4, 5]\n",
        "squared_numbers = square_numbers(numbers)\n",
        "print(squared_numbers)"
      ],
      "metadata": {
        "colab": {
          "base_uri": "https://localhost:8080/",
          "height": 176
        },
        "id": "-oQ2gGwsUTmU",
        "outputId": "d1299e41-c6f1-44b5-b4f7-a6a3b0ea7b79"
      },
      "execution_count": null,
      "outputs": [
        {
          "output_type": "error",
          "ename": "NameError",
          "evalue": "name 'square_numbers' is not defined",
          "traceback": [
            "\u001b[0;31m---------------------------------------------------------------------------\u001b[0m",
            "\u001b[0;31mNameError\u001b[0m                                 Traceback (most recent call last)",
            "\u001b[0;32m<ipython-input-9-d119ba5ce8a0>\u001b[0m in \u001b[0;36m<cell line: 2>\u001b[0;34m()\u001b[0m\n\u001b[1;32m      1\u001b[0m \u001b[0mnumbers\u001b[0m \u001b[0;34m=\u001b[0m \u001b[0;34m[\u001b[0m\u001b[0;36m1\u001b[0m\u001b[0;34m,\u001b[0m \u001b[0;36m2\u001b[0m\u001b[0;34m,\u001b[0m \u001b[0;36m3\u001b[0m\u001b[0;34m,\u001b[0m \u001b[0;36m4\u001b[0m\u001b[0;34m,\u001b[0m \u001b[0;36m5\u001b[0m\u001b[0;34m]\u001b[0m\u001b[0;34m\u001b[0m\u001b[0;34m\u001b[0m\u001b[0m\n\u001b[0;32m----> 2\u001b[0;31m \u001b[0msquared_numbers\u001b[0m \u001b[0;34m=\u001b[0m \u001b[0msquare_numbers\u001b[0m\u001b[0;34m(\u001b[0m\u001b[0mnumbers\u001b[0m\u001b[0;34m)\u001b[0m\u001b[0;34m\u001b[0m\u001b[0;34m\u001b[0m\u001b[0m\n\u001b[0m\u001b[1;32m      3\u001b[0m \u001b[0mprint\u001b[0m\u001b[0;34m(\u001b[0m\u001b[0msquared_numbers\u001b[0m\u001b[0;34m)\u001b[0m\u001b[0;34m\u001b[0m\u001b[0;34m\u001b[0m\u001b[0m\n",
            "\u001b[0;31mNameError\u001b[0m: name 'square_numbers' is not defined"
          ]
        }
      ]
    },
    {
      "cell_type": "markdown",
      "source": [
        "Q4. Write a Python function that checks if a given number is prime or not from 1 to 200.\n",
        "Answer:- Here’s a Python function that checks if a given number is prime. The function takes an integer as input and returns True if the number is prime and False otherwise. Additionally, it checks for numbers in the range from 1 to 200.\n",
        "def is_prime(n): if n <= 1: # 0 and 1 are not prime numbers return False for i in range(2, int(n**0.5) + 1): # Check for factors up to the square root of n if n % i == 0: return False # Found a factor, so it's not prime return True # No factors found, so it's prime\n",
        "\n",
        "Example usage\n",
        "for number in range(1, 201): if is_prime(number): print(f\"{number} is a prime number.\")\n",
        "\n",
        "Explanation:\n",
        "\n",
        "The function is_prime(n) takes an integer n as input.\n",
        "It first checks if n is less than or equal to 1. If so, it returns False since 0 and 1 are not prime numbers.\n",
        "The function then iterates from 2 to the square root of n (inclusive) using range(2, int(n**0.5) + 1). This is efficient because a larger factor of n must be a multiple of a smaller factor that has been checked.\n",
        "If n is divisible by any of these numbers (i.e., n % i == 0), it returns False.\n",
        "If no factors are found, it returns True, indicating that n is prime.\n",
        "Example Output:\n",
        "\n",
        "The function will print all prime numbers from 1 to 200:\n",
        "\n",
        "2 is a prime number. 3 is a prime number. 5 is a prime number. 7 is a prime number. 11 is a prime number. 13 is a prime number. 17 is a prime number. 19 is a prime number. 23 is a prime number. 29 is a prime number. 31 is a prime number. 37 is a prime number. 41 is a prime number. 43 is a prime number. 47 is a prime number. 53 is a prime number. 59 is a prime number. 61 is a prime number. 67 is a prime number. 71 is a prime number. 73 is a prime number. 79 is a prime number. 83 is a prime number. 89 is a prime number. 97 is a prime number. 101 is a prime number. 103 is a prime number. 107 is a prime number. 109 is a prime number. 113 is a prime number. 127 is a prime number. 131 is a prime number. 137 is a prime number. 139 is a prime number. 149 is a prime number. 151 is a prime number. 157 is a prime number. 163 is a prime number. 167 is a prime number. 173 is a prime number. 179 is a prime number. 181 is a prime number. 191 is a prime number. 193 is a prime number. 197 is a prime number. 199 is a prime number.\n",
        "\n",
        "This will list all the prime numbers from 1 to 200.\n"
      ],
      "metadata": {
        "id": "37MUCrYnLwUz"
      }
    },
    {
      "cell_type": "code",
      "source": [
        "\n",
        "The function is_prime(n) takes an integer n as input.\n",
        "It first checks if n is less than or equal to 1. If so, it returns False since 0 and 1 are not prime numbers.\n",
        "The function then iterates from 2 to the square root of n (inclusive) using range(2, int(n**0.5) + 1). This is efficient because a larger factor of n must be a multiple of a smaller factor that has been checked.\n",
        "If n is divisible by any of these numbers (i.e., n % i == 0), it returns False.\n",
        "If no factors are found, it returns True, indicating that n is prime."
      ],
      "metadata": {
        "colab": {
          "base_uri": "https://localhost:8080/",
          "height": 106
        },
        "id": "fyxtKcWvSoZR",
        "outputId": "34d9fa08-e3a0-4830-f392-6ffaf9afa2d1"
      },
      "execution_count": null,
      "outputs": [
        {
          "output_type": "error",
          "ename": "SyntaxError",
          "evalue": "invalid syntax (<ipython-input-6-50c73a1c394c>, line 1)",
          "traceback": [
            "\u001b[0;36m  File \u001b[0;32m\"<ipython-input-6-50c73a1c394c>\"\u001b[0;36m, line \u001b[0;32m1\u001b[0m\n\u001b[0;31m    The function is_prime(n) takes an integer n as input.\u001b[0m\n\u001b[0m        ^\u001b[0m\n\u001b[0;31mSyntaxError\u001b[0m\u001b[0;31m:\u001b[0m invalid syntax\n"
          ]
        }
      ]
    },
    {
      "cell_type": "markdown",
      "source": [
        "#Q5. Create an iterator class in Python that generates the Fibonacci sequence up to a specified number of terms.\n",
        "#Answer:-Here’s how you can create an iterator class in Python that generates the Fibonacci sequence up to a specified number of terms:\n",
        "class FibonacciIterator: def init(self, terms): self.terms = terms # Number of terms to generate self.current = 0 # Index of the current term self.a, self.b = 0, 1 # Starting values for Fibonacci sequence\n",
        "\n",
        "def iter(self):\n",
        "    return self\n",
        "\n",
        "def next(self):\n",
        "    if self.current < self.terms:\n",
        "        # Get the next Fibonacci number\n",
        "        fib_number = self.a\n",
        "        # Update values for the next iteration\n",
        "        self.a, self.b = self.b, self.a + self.b\n",
        "        self.current += 1\n",
        "        return fib_number\n",
        "    else:\n",
        "        raise StopIteration  # Stop iteration when terms are exhausted\n",
        "Example usage\n",
        "terms = 10 fibonacci_sequence = FibonacciIterator(terms)\n",
        "\n",
        "print(f\"Fibonacci sequence up to {terms} terms:\") for number in fibonacci_sequence: print(number)\n",
        "\n",
        "Explanation:\n",
        "\n",
        "Class Definition: The FibonacciIterator class implements the iterator protocol, which requires defining the iter() and __next() methods.\n",
        "init Method:\n",
        "Takes the number of terms (terms) as a parameter.\n",
        "\n",
        "Initializes the current index (current) and the first two Fibonacci numbers (a and b).\n",
        "\n",
        "iter Method:\n",
        "Returns the iterator object itself. This is required to make the object iterable.\n",
        "\n",
        "next Method:\n",
        "Checks if the current index is less than the specified number of terms. If it is, it calculates the next Fibonacci number.\n",
        "\n",
        "Updates the values of a and b for the next iteration (the next Fibonacci number).\n",
        "\n",
        "Increments the current index (current).\n",
        "\n",
        "Returns the current Fibonacci number.\n",
        "\n",
        "If the number of terms is exhausted, it raises a StopIteration exception to signal that there are no more values to return.\n",
        "\n",
        "Example Output:\n",
        "\n",
        "For terms = 10, the output will be:\n",
        "\n",
        "Fibonacci sequence up to 10 terms: 0 1 1 2 3 5 8 13 21 34\n",
        "\n",
        "This iterator class can be used to generate the Fibonacci sequence for any specified number of terms."
      ],
      "metadata": {
        "id": "uXdL5LuJPeyr"
      }
    },
    {
      "cell_type": "code",
      "source": [
        "ef iter(self):\n",
        "    return self\n",
        "\n",
        "def next(self):\n",
        "    if self.current < self.terms:\n",
        "        # Get the next Fibonacci number\n",
        "        fib_number = self.a\n",
        "        # Update values for the next iteration\n",
        "        self.a, self.b = self.b, self.a + self.b\n",
        "        self.current += 1\n",
        "        return fib_number\n",
        "    else:\n",
        "        raise StopIteration  # Stop iteration when terms are exhausted\n",
        "Example usage\n",
        "terms = 10 fibonacci_sequence = FibonacciIterator(terms)\n",
        "\n",
        "print(f\"Fibonacci sequence up to {terms} terms:\") for number in fibonacci_sequence: print(numb"
      ],
      "metadata": {
        "colab": {
          "base_uri": "https://localhost:8080/",
          "height": 106
        },
        "id": "sEDavfoUWkSb",
        "outputId": "7ea114af-7334-4288-e5a9-66a64bf97070"
      },
      "execution_count": null,
      "outputs": [
        {
          "output_type": "error",
          "ename": "SyntaxError",
          "evalue": "invalid syntax (<ipython-input-14-7a8a518c56d7>, line 1)",
          "traceback": [
            "\u001b[0;36m  File \u001b[0;32m\"<ipython-input-14-7a8a518c56d7>\"\u001b[0;36m, line \u001b[0;32m1\u001b[0m\n\u001b[0;31m    ef iter(self):\u001b[0m\n\u001b[0m       ^\u001b[0m\n\u001b[0;31mSyntaxError\u001b[0m\u001b[0;31m:\u001b[0m invalid syntax\n"
          ]
        }
      ]
    },
    {
      "cell_type": "markdown",
      "source": [
        "\n",
        "\n",
        "#Q6. Write a generator function in Python that yields the powers of 2 up to a given exponent.\n",
        "\n",
        "#Answer Here’s an example of a Python generator function that yields powers of 2 up to a given exponent:\n",
        "def powers_of_two(max_exp): for exp in range(max_exp + 1): yield 2 ** exp\n",
        "\n",
        "Example usage:\n",
        "for power in powers_of_two(5): print(power)\n",
        "\n",
        "In this example, calling powers_of_two(5) will yield 2^0, 2^1, 2^2, 2^3, 2^4, 2^5. You can adjust the max_exp argument to get powers up to your desired exponent."
      ],
      "metadata": {
        "id": "gbwZ3TROSSqJ"
      }
    },
    {
      "cell_type": "code",
      "source": [
        "def powers_of_two(max_exp): for exp in range(max_exp + 1): yield 2 ** exp\n",
        "\n",
        "Example usage:\n",
        "for power in powers_of_two(5): print(power)\n"
      ],
      "metadata": {
        "colab": {
          "base_uri": "https://localhost:8080/",
          "height": 106
        },
        "id": "bZpu9hLBVBo4",
        "outputId": "dce3f79e-7b34-4e9c-c04e-c4acc707e1e6"
      },
      "execution_count": null,
      "outputs": [
        {
          "output_type": "error",
          "ename": "SyntaxError",
          "evalue": "invalid syntax (<ipython-input-12-b5afb42ff635>, line 1)",
          "traceback": [
            "\u001b[0;36m  File \u001b[0;32m\"<ipython-input-12-b5afb42ff635>\"\u001b[0;36m, line \u001b[0;32m1\u001b[0m\n\u001b[0;31m    def powers_of_two(max_exp): for exp in range(max_exp + 1): yield 2 ** exp\u001b[0m\n\u001b[0m                                ^\u001b[0m\n\u001b[0;31mSyntaxError\u001b[0m\u001b[0;31m:\u001b[0m invalid syntax\n"
          ]
        }
      ]
    },
    {
      "cell_type": "markdown",
      "source": [
        "# 7.Implement a generator function that reads a file line by line and yields each line as a string.\n",
        "# Answer:- Here's a generator function in Python that reads a file line by line and yields each line as a string:\n",
        "\n",
        "\n",
        "\n",
        "This function opens the file at file_path, reads each line, and yields it. The strip() method removes any trailing newline or whitespace characters from each line."
      ],
      "metadata": {
        "id": "J3wm3agR_nkx"
      }
    },
    {
      "cell_type": "markdown",
      "source": [],
      "metadata": {
        "id": "GM2Do66fAcTQ"
      }
    },
    {
      "cell_type": "code",
      "source": [
        "def read_file_line_by_line(file_path):\n",
        "    with open(file_path, 'r') as file:\n",
        "        for line in file:\n",
        "            yield line.strip()  # Using strip() to remove newline characters\n",
        "\n",
        "# Example usage\n",
        "for line in read_file_line_by_line('example.txt'):\n",
        "    print(line)"
      ],
      "metadata": {
        "id": "YSBW4362ANB-"
      },
      "execution_count": null,
      "outputs": []
    },
    {
      "cell_type": "markdown",
      "source": [
        "#Q8. Use a lambda function in Python to sort a list of tuples based on the second element of each tuple.\n",
        "#Answer:- You can use a lambda function to sort a list of tuples by the second element like this:\n",
        "\n",
        "# Sample list of tuples\n",
        "tuples_list = [(1, 5), (3, 2), (4, 8), (2, 1)]\n",
        "\n",
        "# Sorting the list based on the second element of each tuple\n",
        "sorted_list = sorted(tuples_list, key=lambda x: x[1])\n",
        "\n",
        "print(sorted_list)\n",
        "\n",
        "In this example, the lambda function lambda x: x[1] tells Python to sort the list based on the second element (x[1]) of each tuple. The sorted() function returns a new sorted list, leaving the original list unchanged."
      ],
      "metadata": {
        "id": "OYlWIXQHAifP"
      }
    },
    {
      "cell_type": "code",
      "source": [
        "# Sample list of tuples\n",
        "tuples_list = [(1, 5), (3, 2), (4, 8), (2, 1)]\n",
        "\n",
        "# Sorting the list based on the second element of each tuple\n",
        "sorted_list = sorted(tuples_list, key=lambda x: x[1])\n",
        "\n",
        "print(sorted_list)"
      ],
      "metadata": {
        "id": "Qh9dPAK1AzVP"
      },
      "execution_count": null,
      "outputs": []
    },
    {
      "cell_type": "markdown",
      "source": [
        "#Q9. Write a Python program that uses map() to convert a list of temperatures from Celsius to Fahrenheit.\n",
        " #Answer:- Here's a Python program that uses the map() function to convert a list of temperatures from Celsius to Fahrenheit:\n",
        "\n",
        "# Function to convert Celsius to Fahrenheit\n",
        "def celsius_to_fahrenheit(celsius):\n",
        "    return (celsius * 9/5) + 32\n",
        "\n",
        "# List of temperatures in Celsius\n",
        "celsius_temps = [0, 20, 37, 100]\n",
        "\n",
        "# Using map() to convert the list to Fahrenheit\n",
        "fahrenheit_temps = list(map(celsius_to_fahrenheit, celsius_temps))\n",
        "\n",
        "print(fahrenheit_temps)\n",
        "\n",
        "Output:\n",
        "\n",
        "[32.0, 68.0, 98.6, 212.0]\n",
        "\n",
        "In this program, map() applies the celsius_to_fahrenheit function to each item in celsius_temps, and list() is used to convert the result to a list of Fahrenheit temperatures."
      ],
      "metadata": {
        "id": "HrnCuoYsBhYd"
      }
    },
    {
      "cell_type": "code",
      "source": [
        "# Function to convert Celsius to Fahrenheit\n",
        "def celsius_to_fahrenheit(celsius):\n",
        "    return (celsius * 9/5) + 32\n",
        "\n",
        "# List of temperatures in Celsius\n",
        "celsius_temps = [0, 20, 37, 100]\n",
        "\n",
        "# Using map() to convert the list to Fahrenheit\n",
        "fahrenheit_temps = list(map(celsius_to_fahrenheit, celsius_temps))\n",
        "\n",
        "print(fahrenheit_temps)"
      ],
      "metadata": {
        "id": "ffa7bz-UBxYd"
      },
      "execution_count": null,
      "outputs": []
    },
    {
      "cell_type": "markdown",
      "source": [
        "#Q10. Create a Python program that uses filter() to remove all the vowels from a given string.\n",
        "#Answer:-Here's a Python program that uses filter() to remove all the vowels from a given string:\n",
        "\n",
        "# Function to check if a character is not a vowel\n",
        "def is_not_vowel(char):\n",
        "    vowels = 'aeiouAEIOU'\n",
        "    return char not in vowels\n",
        "\n",
        "# Input string\n",
        "input_str = \"Hello World!\"\n",
        "\n",
        "# Using filter() to remove vowels\n",
        "result_str = ''.join(filter(is_not_vowel, input_str))\n",
        "\n",
        "print(result_str)\n",
        "\n",
        "Output:\n",
        "\n",
        "Hll Wrld!\n",
        "\n",
        "In this program, the is_not_vowel() function checks if a character is not a vowel, and filter() applies this function to each character in the string. The ''.join() is used to combine the filtered characters back into a string.\n",
        "  Imagine an accounting routine used in a book shop. It works on a list with sublists, which look like this:\n",
        "\n",
        "\n"
      ],
      "metadata": {
        "id": "cwfwS7vwCZnk"
      }
    },
    {
      "cell_type": "code",
      "source": [
        "def is_not_vowel(char):\n",
        "    vowels = 'aeiouAEIOU'\n",
        "    return char not in vowels\n",
        "\n",
        "# Input string\n",
        "input_str = \"Hello World!\"\n",
        "\n",
        "# Using filter() to remove vowels\n",
        "result_str = ''.join(filter(is_not_vowel, input_str))\n",
        "\n",
        "print(result_str)\n"
      ],
      "metadata": {
        "id": "5brZwKkjDW70"
      },
      "execution_count": null,
      "outputs": []
    },
    {
      "cell_type": "markdown",
      "source": [
        "#11QImagine an accounting routine used in a book shop. It works on a list with sublists, which look like this:\n",
        "order number    booktitleand athore               quality    priceper item\n",
        "34587           learning python, mark lutz         4          40.95\n",
        "98762           programming python mark lutz       5          56.80\n",
        "77226          Head first pythone,Paul Barry       3          32.95\n",
        "88112         Einfuhrung in python3 Bernd Klein    3          24.99\n",
        "\n",
        "\n",
        "\n",
        "\n",
        "\n",
        "\n",
        "Write a Python program, which returns a list with 2-tuples. Each tuple consists of the order number and the\n",
        "product of the price per item and the quantity. The product should be increased by 10,- € if the value of the\n",
        "order is smaller than 100,00 €.\n",
        "\n",
        "Write a Python program using lambda and map.\n",
        "\n",
        "\n",
        "\n",
        "#answer:- Here’s a Python program that takes a list of book orders and returns a list of 2-tuples, where each tuple contains the order number and the total price of the order. If the order total is less than €100, an additional €10 is added:\n",
        "\n",
        "# List of orders (order number, book title and author, quantity, price per item)\n",
        "orders = [\n",
        "    [34587, \"Learning Python, Mark Lutz\", 4, 40.95],\n",
        "    [98762, \"Programming Python, Mark Lutz\", 5, 56.80],\n",
        "    [77226, \"Head First Python, Paul Barry\", 3, 32.95],\n",
        "    [88112, \"Einführung in Python3, Bernd Klein\", 3, 24.99]\n",
        "]\n",
        "\n",
        "# Lambda function to calculate the total price for each order\n",
        "calculate_order = lambda order: (order[0], order[2] * order[3] if order[2] * order[3] >= 100 else order[2] * order[3] + 10)\n",
        "\n",
        "# Using map() to apply the lambda function to each order\n",
        "result = list(map(calculate_order, orders))\n",
        "\n",
        "# Printing the result\n",
        "print(result)\n",
        "\n",
        "Explanation:\n",
        "\n",
        "1. List Structure: Each sublist in orders contains:\n",
        "\n",
        "Order number (e.g., 34587)\n",
        "\n",
        "Book title and author (e.g., \"Learning Python, Mark Lutz\")\n",
        "\n",
        "Quantity of books (e.g., 4)\n",
        "\n",
        "Price per book (e.g., 40.95)\n",
        "\n",
        "\n",
        "\n",
        "2. Lambda Function: The lambda function calculates the total price by multiplying the quantity (order[2]) by the price per item (order[3]). If the total is less than €100, it adds €10 to the total.\n",
        "\n",
        "\n",
        "3. map(): The map() function applies the lambda function to each sublist in orders, generating a list of 2-tuples (order number, total price).\n",
        "\n",
        "\n",
        "4. Output: The result contains the order number and the adjusted total for each order.\n",
        "\n",
        "\n",
        "\n",
        "Output:\n",
        "\n",
        "[(34587, 163.8), (98762, 284.0), (77226, 108.85), (88112, 84.97)]\n",
        "\n",
        "In this output, you can see that the orders with totals under €100 have an extra €10 added to their value."
      ],
      "metadata": {
        "id": "GfbB8JcdGPHy"
      }
    },
    {
      "cell_type": "code",
      "source": [
        "# List of orders (order number, book title and author, quantity, price per item)\n",
        "orders = [\n",
        "    [34587, \"Learning Python, Mark Lutz\", 4, 40.95],\n",
        "    [98762, \"Programming Python, Mark Lutz\", 5, 56.80],\n",
        "    [77226, \"Head First Python, Paul Barry\", 3, 32.95],\n",
        "    [88112, \"Einführung in Python3, Bernd Klein\", 3, 24.99]\n",
        "]\n",
        "\n",
        "# Lambda function to calculate the total price for each order\n",
        "calculate_order = lambda order: (order[0], order[2] * order[3] if order[2] * order[3] >= 100 else order[2] * order[3] + 10)\n",
        "\n",
        "# Using map() to apply the lambda function to each order\n",
        "result = list(map(calculate_order, orders))\n",
        "\n",
        "# Printing the result\n",
        "print(result)"
      ],
      "metadata": {
        "id": "2oouOeLxJIJi"
      },
      "execution_count": null,
      "outputs": []
    }
  ]
}