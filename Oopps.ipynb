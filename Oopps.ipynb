{
  "nbformat": 4,
  "nbformat_minor": 0,
  "metadata": {
    "colab": {
      "provenance": []
    },
    "kernelspec": {
      "name": "python3",
      "display_name": "Python 3"
    },
    "language_info": {
      "name": "python"
    }
  },
  "cells": [
    {
      "cell_type": "markdown",
      "source": [
        "1. Five Key Concepts of Object-Oriented Programming (OOP)\n",
        "Encapsulation: Bundling data and methods that operate on that data within a single unit or class. It restricts direct access to some of the object’s components.\n",
        "Abstraction: Hiding the complex implementation details and showing only the essential features of the object.\n",
        "Inheritance: Mechanism by which one class can inherit attributes and methods from another class, promoting code reusability.\n",
        "Polymorphism: The ability to present the same interface for different data types. It allows methods to do different things based on the object it is acting upon.\n",
        "Classes and Objects: Classes are blueprints for creating objects (instances), which contain attributes (data) and methods (functions) that define their behavior.\n",
        "2. Python Class for Car\n",
        "python\n",
        "Copy code\n",
        "class Car:\n",
        "    def __init__(self, make, model, year):\n",
        "        self.make = make\n",
        "        self.model = model\n",
        "        self.year = year\n",
        "\n",
        "    def display_info(self):\n",
        "        return f\"{self.year} {self.make} {self.model}\"\n",
        "3. Instance Methods vs. Class Methods\n",
        "Instance Methods: Operate on an instance of the class and can access instance variables. They are defined using def and take self as the first parameter.\n",
        "\n",
        "python\n",
        "Copy code\n",
        "class Example:\n",
        "    def instance_method(self):\n",
        "        return \"I am an instance method.\"\n",
        "Class Methods: Operate on the class itself rather than instances. They are defined using the @classmethod decorator and take cls as the first parameter.\n",
        "\n",
        "python\n",
        "Copy code\n",
        "class Example:\n",
        "    @classmethod\n",
        "    def class_method(cls):\n",
        "        return \"I am a class method.\"\n",
        "4. Method Overloading in Python\n",
        "Python does not support method overloading directly. However, you can achieve similar behavior using default arguments or *args.\n",
        "\n",
        "python\n",
        "Copy code\n",
        "class Example:\n",
        "    def display(self, message=None):\n",
        "        if message is None:\n",
        "            return \"No message provided.\"\n",
        "        else:\n",
        "            return message\n",
        "5. Access Modifiers in Python\n",
        "Public: Attributes and methods are accessible from outside the class. Denoted by no underscore.\n",
        "Protected: Intended to be accessible only within the class and its subclasses. Denoted by a single underscore (_).\n",
        "Private: Accessible only within the class itself. Denoted by double underscores (__).\n",
        "6. Types of Inheritance in Python\n",
        "Single Inheritance: One class inherits from another.\n",
        "Multiple Inheritance: One class inherits from multiple classes.\n",
        "Multilevel Inheritance: A class inherits from a derived class, creating a hierarchy.\n",
        "Hierarchical Inheritance: Multiple classes inherit from a single base class.\n",
        "Hybrid Inheritance: Combination of two or more types of inheritance.\n",
        "Example of Multiple Inheritance:\n",
        "\n",
        "python\n",
        "Copy code\n",
        "class A:\n",
        "    pass\n",
        "\n",
        "class B:\n",
        "    pass\n",
        "\n",
        "class C(A, B):\n",
        "    pass\n",
        "7. Method Resolution Order (MRO)\n",
        "MRO determines the order in which classes are searched when executing a method. You can retrieve it using the __mro__ attribute or the mro() method.\n",
        "\n",
        "python\n",
        "Copy code\n",
        "print(C.__mro__)\n",
        "8. Abstract Base Class Example\n",
        "python\n",
        "Copy code\n",
        "from abc import ABC, abstractmethod\n",
        "\n",
        "class Shape(ABC):\n",
        "    @abstractmethod\n",
        "    def area(self):\n",
        "        pass\n",
        "\n",
        "class Circle(Shape):\n",
        "    def __init__(self, radius):\n",
        "        self.radius = radius\n",
        "\n",
        "    def area(self):\n",
        "        return 3.14 * self.radius ** 2\n",
        "\n",
        "class Rectangle(Shape):\n",
        "    def __init__(self, width, height):\n",
        "        self.width = width\n",
        "        self.height = height\n",
        "\n",
        "    def area(self):\n",
        "        return self.width * self.height\n",
        "9. Demonstrating Polymorphism\n",
        "python\n",
        "Copy code\n",
        "def calculate_area(shape):\n",
        "    print(f\"Area: {shape.area()}\")\n",
        "\n",
        "circle = Circle(5)\n",
        "rectangle = Rectangle(4, 6)\n",
        "\n",
        "calculate_area(circle)\n",
        "calculate_area(rectangle)\n",
        "10. Implementing Encapsulation in BankAccount\n",
        "python\n",
        "Copy code\n",
        "class BankAccount:\n",
        "    def __init__(self, account_number, balance=0):\n",
        "        self.__account_number = account_number\n",
        "        self.__balance = balance\n",
        "\n",
        "    def deposit(self, amount):\n",
        "        self.__balance += amount\n",
        "\n",
        "    def withdraw(self, amount):\n",
        "        if amount <= self.__balance:\n",
        "            self.__balance -= amount\n",
        "        else:\n",
        "            print(\"Insufficient funds\")\n",
        "\n",
        "    def get_balance(self):\n",
        "        return self.__balance\n",
        "11. Overriding __str__ and __add__\n",
        "python\n",
        "Copy code\n",
        "class CustomClass:\n",
        "    def __init__(self, value):\n",
        "        self.value = value\n",
        "\n",
        "    def __str__(self):\n",
        "        return f\"Value: {self.value}\"\n",
        "\n",
        "    def __add__(self, other):\n",
        "        return CustomClass(self.value + other.value)\n",
        "\n",
        "obj1 = CustomClass(10)\n",
        "obj2 = CustomClass(20)\n",
        "print(obj1)  # Calls __str__\n",
        "result = obj1 + obj2  # Calls __add__\n",
        "print(result)\n",
        "12. Decorator to Measure Execution Time\n",
        "python\n",
        "Copy code\n",
        "import time\n",
        "\n",
        "def execution_time(func):\n",
        "    def wrapper(*args, **kwargs):\n",
        "        start_time = time.time()\n",
        "        result = func(*args, **kwargs)\n",
        "        end_time = time.time()\n",
        "        print(f\"Execution time: {end_time - start_time} seconds\")\n",
        "        return result\n",
        "    return wrapper\n",
        "13. Diamond Problem in Multiple Inheritance\n",
        "The Diamond Problem occurs when two classes inherit from a common superclass, and a subclass inherits from both of these classes. Python resolves this using the C3 linearization algorithm to create a consistent method resolution order (MRO).\n",
        "\n",
        "14. Class Method to Track Instances\n",
        "python\n",
        "Copy code\n",
        "class Example:\n",
        "    instance_count = 0\n",
        "\n",
        "    def __init__(self):\n",
        "        Example.instance_count += 1\n",
        "\n",
        "    @classmethod\n",
        "    def get_instance_count(cls):\n",
        "        return cls.instance_count\n",
        "15. Static Method to Check Leap Year\n",
        "python\n",
        "Copy code\n",
        "class Year:\n",
        "    @staticmethod\n",
        "    def is_leap_year(year):\n",
        "        return (year % 4 == 0 and year % 100 != 0) or (year % 400 == 0)\n",
        "Feel free to ask if you need further clarification or additional examples!"
      ],
      "metadata": {
        "id": "13bEirPH6WQg"
      }
    },
    {
      "cell_type": "markdown",
      "source": [
        "#1Q What are the five key concepts of Object-Oriented Programming (OOP)?\n",
        "\n",
        "#Answer:-1. Five Key Concepts of Object-Oriented Programming (OOP)\n",
        "1.Encapsulation: Bundling data and methods that operate on that data within a single unit or class. It restricts direct access to some of the object’s components.\n",
        "\n",
        "2.Abstraction: Hiding the complex implementation details and showing only the essential features of the object.\n",
        "\n",
        "Inheritance: Mechanism by which one class can inherit attributes and methods from another class, promoting code reusability.\n",
        "\n",
        "3.Polymorphism: The ability to present the same interface for different data types. It allows methods to do different things based on the object it is acting upon.\n",
        "\n",
        "3.Association: Establishing relationships between objects."
      ],
      "metadata": {
        "id": "op4ziws265gF"
      }
    },
    {
      "cell_type": "markdown",
      "source": [
        "\n",
        "#2Q. Write a Python class for a Car with attributes for make, model, and year. Include a method to display\n",
        "the car's information.\n",
        "\n"
      ],
      "metadata": {
        "id": "KcVD44SB7LGl"
      }
    },
    {
      "cell_type": "code",
      "source": [
        "class Car:\n",
        "    def __init__(self, make, model, year):\n",
        "        self.make = make\n",
        "        self.model = model\n",
        "        self.year = year\n",
        "\n",
        "    def display_info(self):\n",
        "        return f\"{self.year} {self.make} {self.model}\"\n"
      ],
      "metadata": {
        "id": "mvPN_4PU9TWs"
      },
      "execution_count": null,
      "outputs": []
    },
    {
      "cell_type": "markdown",
      "source": [
        "\n",
        "#Q3. Explain the difference between instance methods and class methods. Provide an example of each.\n",
        "\n",
        "#Answer:-\n",
        "\n",
        "Instance Methods: Operate on an instance of the class and can access instance variables. They are defined using def and take self as the first parameter.\n",
        "\n",
        "Class Methods: Operate on the class itself rather than instances. They are defined using the @classmethod decorator and take cls as the first parameter."
      ],
      "metadata": {
        "id": "-sP1uysL7Oet"
      }
    },
    {
      "cell_type": "code",
      "source": [
        "class Example:\n",
        "    def instance_method(self):\n",
        "        return \"I am an instance method.\"\n"
      ],
      "metadata": {
        "id": "wgqyGaOI-JBY"
      },
      "execution_count": null,
      "outputs": []
    },
    {
      "cell_type": "code",
      "source": [
        "class Example:\n",
        "    @classmethod\n",
        "    def class_method(cls):\n",
        "        return \"I am a class method.\"\n"
      ],
      "metadata": {
        "id": "tcW-zdM4-JW2"
      },
      "execution_count": null,
      "outputs": []
    },
    {
      "cell_type": "markdown",
      "source": [
        "\n",
        "\n",
        "#Q4. How does Python implement method overloading? Give an example.\n",
        "# Answer:-Python does not support method overloading directly. However, you can achieve similar behavior using default arguments or *args."
      ],
      "metadata": {
        "id": "kmtGnsAp_8YH"
      }
    },
    {
      "cell_type": "code",
      "source": [
        "class Example:\n",
        "    def display(self, message=None):\n",
        "        if message is None:\n",
        "            return \"No message provided.\"\n",
        "        else:\n",
        "            return message\n",
        ""
      ],
      "metadata": {
        "id": "AihkryCDAxKM"
      },
      "execution_count": null,
      "outputs": []
    },
    {
      "cell_type": "markdown",
      "source": [
        "#Q5. What are the three types of access modifiers in Python? How are they denoted?\n",
        "\n",
        "#Answer:-Access Modifiers in Python\n",
        "1.Public: Attributes and methods are accessible from outside the class. Denoted by no underscore.\n",
        "\n",
        "2.Protected: Intended to be accessible only within the class and its subclasses. Denoted by a single underscore (_).\n",
        "\n",
        "3.Private: Accessible only within the class itself. Denoted by double underscores (__)."
      ],
      "metadata": {
        "id": "T9OvRF1vAH1V"
      }
    },
    {
      "cell_type": "markdown",
      "source": [
        "\n",
        "#Q6. Describe the five types of inheritance in Python. Provide a simple example of multiple inheritance.\n",
        "#answer  Types of Inheritance in Python\n",
        "1.Single Inheritance: One class inherits from another.\n",
        "\n",
        "2.Multiple Inheritance: One class inherits from multiple classes.\n",
        "\n",
        "3.Multilevel Inheritance: A class inherits from a derived class, creating a hierarchy.\n",
        "\n",
        "4.Hierarchical Inheritance: Multiple classes inherit from a single base class.\n",
        "\n",
        "5.Hybrid Inheritance: Combination of two or more types of inheritance.\n",
        "Example of Multiple Inheritance:"
      ],
      "metadata": {
        "id": "f9lOyGPZAKDW"
      }
    },
    {
      "cell_type": "code",
      "source": [
        "class A:\n",
        "    pass\n",
        "\n",
        "class B:\n",
        "    pass\n",
        "\n",
        "class C(A, B):\n",
        "    pass\n"
      ],
      "metadata": {
        "id": "WHbOAQ9CA1uN"
      },
      "execution_count": null,
      "outputs": []
    },
    {
      "cell_type": "markdown",
      "source": [
        "#Q7. What is the Method Resolution Order (MRO) in Python? How can you retrieve it programmatically?\n",
        "\n",
        "#answer:- Method Resolution Order (MRO)\n",
        "MRO determines the order in which classes are searched when executing a method. You can retrieve it using the __mro__ attribute or the mro() method"
      ],
      "metadata": {
        "id": "cn7U6MUdDYNz"
      }
    },
    {
      "cell_type": "code",
      "source": [
        "print(C.__mro__)\n",
        "+"
      ],
      "metadata": {
        "colab": {
          "base_uri": "https://localhost:8080/",
          "height": 106
        },
        "id": "8C--CPNAEimY",
        "outputId": "1865a4bb-3b14-487b-9619-83c2f8e2da08"
      },
      "execution_count": 1,
      "outputs": [
        {
          "output_type": "error",
          "ename": "SyntaxError",
          "evalue": "invalid syntax (<ipython-input-1-eb0e9a55c9df>, line 2)",
          "traceback": [
            "\u001b[0;36m  File \u001b[0;32m\"<ipython-input-1-eb0e9a55c9df>\"\u001b[0;36m, line \u001b[0;32m2\u001b[0m\n\u001b[0;31m    +\u001b[0m\n\u001b[0m     ^\u001b[0m\n\u001b[0;31mSyntaxError\u001b[0m\u001b[0;31m:\u001b[0m invalid syntax\n"
          ]
        }
      ]
    },
    {
      "cell_type": "markdown",
      "source": [
        "#Q8. Create an abstract base class `Shape` with an abstract method `area()`. Then create two subclasses\n",
        "`Circle` and `Rectangle` that implement the `area()` method.\n",
        "\n",
        "\n"
      ],
      "metadata": {
        "id": "vs2zh8fUDYgt"
      }
    },
    {
      "cell_type": "code",
      "source": [
        "from abc import ABC, abstractmethod\n",
        "\n",
        "class Shape(ABC):\n",
        "    @abstractmethod\n",
        "    def area(self):\n",
        "        pass\n",
        "\n",
        "class Circle(Shape):\n",
        "    def __init__(self, radius):\n",
        "        self.radius = radius\n",
        "\n",
        "    def area(self):\n",
        "        return 3.14 * self.radius ** 2\n",
        "\n",
        "class Rectangle(Shape):\n",
        "    def __init__(self, width, height):\n",
        "        self.width = width\n",
        "        self.height = height\n",
        "\n",
        "    def area(self):\n",
        "        return self.width * self.height\n"
      ],
      "metadata": {
        "id": "sRZqjBWGJZQv"
      },
      "execution_count": null,
      "outputs": []
    },
    {
      "cell_type": "markdown",
      "source": [
        "\n",
        "#Q9. Demonstrate polymorphism by creating a function that can work with different shape objects to calculate\n",
        "and print their areas."
      ],
      "metadata": {
        "id": "HrEpBhUeDYuK"
      }
    },
    {
      "cell_type": "code",
      "source": [
        "def calculate_area(shape):\n",
        "    print(f\"Area: {shape.area()}\")\n",
        "\n",
        "circle = Circle(5)\n",
        "rectangle = Rectangle(4, 6)\n",
        "\n",
        "calculate_area(circle)\n",
        "calculate_area(rectangle)\n"
      ],
      "metadata": {
        "id": "gOEh1sF9Jfvt"
      },
      "execution_count": null,
      "outputs": []
    },
    {
      "cell_type": "markdown",
      "source": [
        "#Q10. Implement encapsulation in a `BankAccount` class with private attributes for `balance` and\n",
        "`account_number`. Include methods for deposit, withdrawal, and balance inquiry.\n",
        "\n"
      ],
      "metadata": {
        "id": "R7_73BzGANme"
      }
    },
    {
      "cell_type": "code",
      "source": [
        "class BankAccount:\n",
        "    def __init__(self, account_number, balance=0):\n",
        "        self.__account_number = account_number\n",
        "        self.__balance = balance\n",
        "\n",
        "    def deposit(self, amount):\n",
        "        self.__balance += amount\n",
        "\n",
        "    def withdraw(self, amount):\n",
        "        if amount <= self.__balance:\n",
        "            self.__balance -= amount\n",
        "        else:\n",
        "            print(\"Insufficient funds\")\n",
        "\n",
        "    def get_balance(self):\n",
        "        return self.__balance\n"
      ],
      "metadata": {
        "id": "3UNdiAzALWv-"
      },
      "execution_count": null,
      "outputs": []
    },
    {
      "cell_type": "markdown",
      "source": [
        "\n",
        "#Q11. Write a class that overrides the `__str__` and `__add__` magic methods. What will these methods allow\n",
        "you to do?\n",
        "\n"
      ],
      "metadata": {
        "id": "uGSJ8OTHKytc"
      }
    },
    {
      "cell_type": "code",
      "source": [
        "class CustomClass:\n",
        "    def __init__(self, value):\n",
        "        self.value = value\n",
        "\n",
        "    def __str__(self):\n",
        "        return f\"Value: {self.value}\"\n",
        "\n",
        "    def __add__(self, other):\n",
        "        return CustomClass(self.value + other.value)\n",
        "\n",
        "obj1 = CustomClass(10)\n",
        "obj2 = CustomClass(20)\n",
        "print(obj1)  # Calls __str__\n",
        "result = obj1 + obj2  # Calls __add__\n",
        "print(result)\n"
      ],
      "metadata": {
        "id": "kl72N30eLcmw"
      },
      "execution_count": null,
      "outputs": []
    },
    {
      "cell_type": "markdown",
      "source": [
        "\n",
        "#Q12. Create a decorator that measures and prints the execution time of a function."
      ],
      "metadata": {
        "id": "7YKXhIirK09P"
      }
    },
    {
      "cell_type": "code",
      "source": [
        "import time\n",
        "\n",
        "def execution_time(func):\n",
        "    def wrapper(*args, **kwargs):\n",
        "        start_time = time.time()\n",
        "        result = func(*args, **kwargs)\n",
        "        end_time = time.time()\n",
        "        print(f\"Execution time: {end_time - start_time} seconds\")\n",
        "        return result\n",
        "    return wrapper\n"
      ],
      "metadata": {
        "id": "rTejdpfZLh6E"
      },
      "execution_count": null,
      "outputs": []
    },
    {
      "cell_type": "markdown",
      "source": [
        "#Q13.Explain the concept of the Diamond Problem in multiple inheritance. How does Python resolve it?\n",
        "#Answer:-Diamond Problem in Multiple Inheritance\n",
        "The Diamond Problem occurs when two classes inherit from a common superclass, and a subclass inherits from both of these classes. Python resolves this using the C3 linearization algorithm to create a consistent method resolution order (MRO)."
      ],
      "metadata": {
        "id": "oA4zqgB2LlX9"
      }
    },
    {
      "cell_type": "markdown",
      "source": [
        "#Q14. Write a class method that keeps track of the number of instances created from a class.\n",
        "\n"
      ],
      "metadata": {
        "id": "HsKIhEgnMJIm"
      }
    },
    {
      "cell_type": "code",
      "source": [
        "class Example:\n",
        "    instance_count = 0\n",
        "\n",
        "    def __init__(self):\n",
        "        Example.instance_count += 1\n",
        "\n",
        "    @classmethod\n",
        "    def get_instance_count(cls):\n",
        "        return cls.instance_count\n"
      ],
      "metadata": {
        "id": "6QeUMys9MU94"
      },
      "execution_count": null,
      "outputs": []
    },
    {
      "cell_type": "markdown",
      "source": [
        "\n",
        "#Q15. Implement a static method in a class that checks if a given year is a leap year."
      ],
      "metadata": {
        "id": "MUbPNqEIMSqw"
      }
    },
    {
      "cell_type": "code",
      "source": [
        "class Year:\n",
        "    @staticmethod\n",
        "    def is_leap_year(year):\n",
        "        return (year % 4 == 0 and year % 100 != 0) or (year % 400 == 0)\n"
      ],
      "metadata": {
        "id": "oSc6DgD1MZZ-"
      },
      "execution_count": null,
      "outputs": []
    }
  ]
}